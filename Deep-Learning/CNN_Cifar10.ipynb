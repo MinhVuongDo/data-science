{
  "nbformat": 4,
  "nbformat_minor": 0,
  "metadata": {
    "colab": {
      "name": "CNN_Cifar10.ipynb",
      "provenance": []
    },
    "kernelspec": {
      "name": "python3",
      "display_name": "Python 3"
    },
    "language_info": {
      "name": "python"
    },
    "accelerator": "GPU"
  },
  "cells": [
    {
      "cell_type": "code",
      "metadata": {
        "id": "PYM3aeZzI4XB"
      },
      "source": [
        "import numpy as np\n",
        "import matplotlib.pyplot as plt\n",
        "%matplotlib inline\n",
        "from keras.datasets import mnist\n",
        "from keras.utils.np_utils import to_categorical\n",
        "from keras.models import Sequential\n",
        "from keras.layers import Dense, Flatten, Conv2D\n",
        "import keras.backend as K\n",
        "import pandas as pd\n",
        "from keras.datasets import cifar10\n",
        "from keras.layers import BatchNormalization, Dropout, MaxPooling2D\n",
        "from keras.optimizers import  Adam"
      ],
      "execution_count": 2,
      "outputs": []
    },
    {
      "cell_type": "code",
      "metadata": {
        "colab": {
          "base_uri": "https://localhost:8080/"
        },
        "id": "hLPjsVtSJjFT",
        "outputId": "e06d030b-f1ac-4bd0-e073-0bcb0f29a9c8"
      },
      "source": [
        "(X_train, y_train), (X_test, y_test) = cifar10.load_data()"
      ],
      "execution_count": 3,
      "outputs": [
        {
          "output_type": "stream",
          "text": [
            "Downloading data from https://www.cs.toronto.edu/~kriz/cifar-10-python.tar.gz\n",
            "170500096/170498071 [==============================] - 4s 0us/step\n",
            "170508288/170498071 [==============================] - 4s 0us/step\n"
          ],
          "name": "stdout"
        }
      ]
    },
    {
      "cell_type": "code",
      "metadata": {
        "id": "WqLlQn9tJF9a"
      },
      "source": [
        "X_train = X_train.astype('float32') / 255.0\n",
        "X_test = X_test.astype('float32') / 255.0"
      ],
      "execution_count": 4,
      "outputs": []
    },
    {
      "cell_type": "code",
      "metadata": {
        "id": "zwhBRi5XJnb6"
      },
      "source": [
        "y_train_cat = to_categorical(y_train, 10)\n",
        "y_test_cat = to_categorical(y_test, 10)"
      ],
      "execution_count": 5,
      "outputs": []
    },
    {
      "cell_type": "code",
      "metadata": {
        "colab": {
          "base_uri": "https://localhost:8080/"
        },
        "id": "CO3aFc4KJ1eA",
        "outputId": "fbf2095f-907a-4f75-ad0d-eb48dc270e6b"
      },
      "source": [
        "model = Sequential()\n",
        "model.add(Conv2D(32, (3, 3), padding='same',input_shape=(32, 32, 3),activation='relu'))\n",
        "model.add(BatchNormalization())\n",
        "model.add(Conv2D(filters = 32, kernel_size=(2,2), padding = 'same', activation = 'relu'))\n",
        "model.add(BatchNormalization())\n",
        "model.add(MaxPooling2D(pool_size = (2,2)))\n",
        "\n",
        "model.add(Conv2D(filters = 64, kernel_size=(2,2), padding = 'same', activation = 'relu'))\n",
        "model.add(BatchNormalization())\n",
        "model.add(Conv2D(filters = 64, kernel_size=(2,2), padding = 'same', activation = 'relu'))\n",
        "model.add(BatchNormalization())\n",
        "model.add(MaxPooling2D(pool_size = (2,2)))\n",
        "\n",
        "model.add(Conv2D(filters = 128, kernel_size=(2,2), padding = 'same', activation = 'relu'))\n",
        "model.add(BatchNormalization())\n",
        "model.add(Conv2D(filters = 128, kernel_size=(2,2), padding = 'same', activation = 'relu'))\n",
        "model.add(BatchNormalization())\n",
        "model.add(MaxPooling2D(pool_size = (2,2)))\n",
        "\n",
        "model.add(Flatten())\n",
        "model.add(Dense(128, activation = 'relu', kernel_initializer='he_normal', kernel_regularizer='l2'))\n",
        "model.add(Dropout(0.3))\n",
        "model.add(Dense(128, activation = 'relu',kernel_initializer='he_normal', kernel_regularizer='l2'))\n",
        "model.add(Dropout(0.3))\n",
        "model.add(Dense(10, activation=\"softmax\"))                                \n",
        "model.summary()"
      ],
      "execution_count": 22,
      "outputs": [
        {
          "output_type": "stream",
          "text": [
            "Model: \"sequential_3\"\n",
            "_________________________________________________________________\n",
            "Layer (type)                 Output Shape              Param #   \n",
            "=================================================================\n",
            "conv2d_22 (Conv2D)           (None, 32, 32, 32)        896       \n",
            "_________________________________________________________________\n",
            "batch_normalization_22 (Batc (None, 32, 32, 32)        128       \n",
            "_________________________________________________________________\n",
            "conv2d_23 (Conv2D)           (None, 32, 32, 32)        4128      \n",
            "_________________________________________________________________\n",
            "batch_normalization_23 (Batc (None, 32, 32, 32)        128       \n",
            "_________________________________________________________________\n",
            "max_pooling2d_11 (MaxPooling (None, 16, 16, 32)        0         \n",
            "_________________________________________________________________\n",
            "conv2d_24 (Conv2D)           (None, 16, 16, 64)        8256      \n",
            "_________________________________________________________________\n",
            "batch_normalization_24 (Batc (None, 16, 16, 64)        256       \n",
            "_________________________________________________________________\n",
            "conv2d_25 (Conv2D)           (None, 16, 16, 64)        16448     \n",
            "_________________________________________________________________\n",
            "batch_normalization_25 (Batc (None, 16, 16, 64)        256       \n",
            "_________________________________________________________________\n",
            "max_pooling2d_12 (MaxPooling (None, 8, 8, 64)          0         \n",
            "_________________________________________________________________\n",
            "conv2d_26 (Conv2D)           (None, 8, 8, 128)         32896     \n",
            "_________________________________________________________________\n",
            "batch_normalization_26 (Batc (None, 8, 8, 128)         512       \n",
            "_________________________________________________________________\n",
            "conv2d_27 (Conv2D)           (None, 8, 8, 128)         65664     \n",
            "_________________________________________________________________\n",
            "batch_normalization_27 (Batc (None, 8, 8, 128)         512       \n",
            "_________________________________________________________________\n",
            "max_pooling2d_13 (MaxPooling (None, 4, 4, 128)         0         \n",
            "_________________________________________________________________\n",
            "flatten_3 (Flatten)          (None, 2048)              0         \n",
            "_________________________________________________________________\n",
            "dense_10 (Dense)             (None, 128)               262272    \n",
            "_________________________________________________________________\n",
            "dropout_7 (Dropout)          (None, 128)               0         \n",
            "_________________________________________________________________\n",
            "dense_11 (Dense)             (None, 128)               16512     \n",
            "_________________________________________________________________\n",
            "dropout_8 (Dropout)          (None, 128)               0         \n",
            "_________________________________________________________________\n",
            "dense_12 (Dense)             (None, 10)                1290      \n",
            "=================================================================\n",
            "Total params: 410,154\n",
            "Trainable params: 409,258\n",
            "Non-trainable params: 896\n",
            "_________________________________________________________________\n"
          ],
          "name": "stdout"
        }
      ]
    },
    {
      "cell_type": "code",
      "metadata": {
        "id": "JyOxfIrbJ3OS"
      },
      "source": [
        "model.compile(loss='categorical_crossentropy',\n",
        "              optimizer=Adam(learning_rate=0.001),\n",
        "              metrics=['accuracy'])\n",
        "epochs = 20"
      ],
      "execution_count": 24,
      "outputs": []
    },
    {
      "cell_type": "code",
      "metadata": {
        "colab": {
          "base_uri": "https://localhost:8080/"
        },
        "id": "mQvGkYQPJ9RV",
        "outputId": "6e7faba3-7731-4c66-ba08-bed8b1bd544d"
      },
      "source": [
        "history = model.fit(X_train, y_train_cat,\n",
        "          batch_size=128,\n",
        "          epochs=epochs,\n",
        "          validation_data=(X_test, y_test_cat),\n",
        "          shuffle=True)"
      ],
      "execution_count": 25,
      "outputs": [
        {
          "output_type": "stream",
          "text": [
            "Epoch 1/20\n",
            "391/391 [==============================] - 10s 21ms/step - loss: 4.9195 - accuracy: 0.3035 - val_loss: 2.2783 - val_accuracy: 0.2883\n",
            "Epoch 2/20\n",
            "391/391 [==============================] - 7s 18ms/step - loss: 1.4597 - accuracy: 0.5828 - val_loss: 1.2317 - val_accuracy: 0.6289\n",
            "Epoch 3/20\n",
            "391/391 [==============================] - 7s 18ms/step - loss: 1.1142 - accuracy: 0.6826 - val_loss: 1.2494 - val_accuracy: 0.6384\n",
            "Epoch 4/20\n",
            "391/391 [==============================] - 7s 18ms/step - loss: 0.9795 - accuracy: 0.7291 - val_loss: 0.9468 - val_accuracy: 0.7362\n",
            "Epoch 5/20\n",
            "391/391 [==============================] - 7s 18ms/step - loss: 0.8860 - accuracy: 0.7640 - val_loss: 0.9376 - val_accuracy: 0.7479\n",
            "Epoch 6/20\n",
            "391/391 [==============================] - 7s 18ms/step - loss: 0.8197 - accuracy: 0.7904 - val_loss: 0.8758 - val_accuracy: 0.7679\n",
            "Epoch 7/20\n",
            "391/391 [==============================] - 7s 17ms/step - loss: 0.7692 - accuracy: 0.8100 - val_loss: 0.8698 - val_accuracy: 0.7712\n",
            "Epoch 8/20\n",
            "391/391 [==============================] - 7s 17ms/step - loss: 0.7129 - accuracy: 0.8305 - val_loss: 0.9743 - val_accuracy: 0.7345\n",
            "Epoch 9/20\n",
            "391/391 [==============================] - 7s 17ms/step - loss: 0.6929 - accuracy: 0.8369 - val_loss: 0.8727 - val_accuracy: 0.7776\n",
            "Epoch 10/20\n",
            "391/391 [==============================] - 7s 17ms/step - loss: 0.6538 - accuracy: 0.8503 - val_loss: 0.9351 - val_accuracy: 0.7642\n",
            "Epoch 11/20\n",
            "391/391 [==============================] - 7s 18ms/step - loss: 0.6206 - accuracy: 0.8632 - val_loss: 0.8581 - val_accuracy: 0.7865\n",
            "Epoch 12/20\n",
            "391/391 [==============================] - 7s 17ms/step - loss: 0.5930 - accuracy: 0.8739 - val_loss: 0.8215 - val_accuracy: 0.7979\n",
            "Epoch 13/20\n",
            "391/391 [==============================] - 7s 18ms/step - loss: 0.5713 - accuracy: 0.8813 - val_loss: 0.8846 - val_accuracy: 0.7845\n",
            "Epoch 14/20\n",
            "391/391 [==============================] - 7s 18ms/step - loss: 0.5469 - accuracy: 0.8902 - val_loss: 0.8890 - val_accuracy: 0.7959\n",
            "Epoch 15/20\n",
            "391/391 [==============================] - 7s 18ms/step - loss: 0.5229 - accuracy: 0.8976 - val_loss: 0.8589 - val_accuracy: 0.7919\n",
            "Epoch 16/20\n",
            "391/391 [==============================] - 7s 18ms/step - loss: 0.5091 - accuracy: 0.9009 - val_loss: 0.8978 - val_accuracy: 0.7889\n",
            "Epoch 17/20\n",
            "391/391 [==============================] - 7s 18ms/step - loss: 0.4982 - accuracy: 0.9055 - val_loss: 0.9424 - val_accuracy: 0.7775\n",
            "Epoch 18/20\n",
            "391/391 [==============================] - 7s 18ms/step - loss: 0.4836 - accuracy: 0.9118 - val_loss: 0.9908 - val_accuracy: 0.7599\n",
            "Epoch 19/20\n",
            "391/391 [==============================] - 7s 17ms/step - loss: 0.4653 - accuracy: 0.9166 - val_loss: 0.9619 - val_accuracy: 0.7874\n",
            "Epoch 20/20\n",
            "391/391 [==============================] - 7s 18ms/step - loss: 0.4607 - accuracy: 0.9205 - val_loss: 0.9748 - val_accuracy: 0.7824\n"
          ],
          "name": "stdout"
        }
      ]
    },
    {
      "cell_type": "code",
      "metadata": {
        "colab": {
          "base_uri": "https://localhost:8080/",
          "height": 337
        },
        "id": "1YXx_JVIKpvh",
        "outputId": "8baf41e9-fef3-4197-f308-763bdfd605a9"
      },
      "source": [
        "history_dict = history.history\n",
        "loss_values = history_dict['loss']\n",
        "val_loss_values = history_dict['val_loss']\n",
        "acc_values = history_dict['accuracy']\n",
        "val_acc_values = history_dict['val_accuracy']\n",
        "epochs = range(1, len(val_loss_values)+1 )\n",
        "\n",
        "plt.subplot(211)\n",
        "plt.plot(epochs, history.history['loss'], 'r', label='Training loss')\n",
        "plt.plot(epochs, val_loss_values, 'bo', label='Test loss')\n",
        "plt.title('Training and test loss')\n",
        "plt.xlabel('Epochs')\n",
        "plt.ylabel('Loss')\n",
        "plt.legend()\n",
        "plt.grid('off')\n",
        "plt.show()\n",
        "plt.subplot(212)\n",
        "plt.plot(epochs, history.history['accuracy'], 'r', label='Training accuracy')\n",
        "plt.plot(epochs, val_acc_values, 'bo', label='Test accuracy')\n",
        "plt.title('Training and test accuracy')\n",
        "plt.xlabel('Epochs')\n",
        "plt.ylabel('Accuracy')\n",
        "plt.gca().set_yticklabels(['{:.0f}%'.format(x*100) for x in plt.gca().get_yticks()]) \n",
        "plt.legend()\n",
        "plt.grid('off')\n",
        "plt.show()"
      ],
      "execution_count": 26,
      "outputs": [
        {
          "output_type": "display_data",
          "data": {
            "image/png": "[encoded data removed]",
            "text/plain": [
              "<Figure size 432x288 with 1 Axes>"
            ]
          },
          "metadata": {
            "tags": [],
            "needs_background": "light"
          }
        },
        {
          "output_type": "display_data",
          "data": {
            "image/png": "[encoded data removed]",
            "text/plain": [
              "<Figure size 432x288 with 1 Axes>"
            ]
          },
          "metadata": {
            "tags": [],
            "needs_background": "light"
          }
        }
      ]
    }
  ]
}