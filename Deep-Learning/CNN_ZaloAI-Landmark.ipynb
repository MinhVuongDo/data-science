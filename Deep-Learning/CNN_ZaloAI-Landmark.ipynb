{
  "nbformat": 4,
  "nbformat_minor": 0,
  "metadata": {
    "accelerator": "GPU",
    "colab": {
      "name": "CNN.ipynb",
      "provenance": [],
      "collapsed_sections": [
        "6DN3gs3aT6Mg",
        "Oj4C8OMZT6Mh",
        "qO-PkgqyT6Mj",
        "CkbJdSYmT6Mk"
      ],
      "toc_visible": true,
      "machine_shape": "hm"
    },
    "kernelspec": {
      "display_name": "Python 3",
      "language": "python",
      "name": "python3"
    },
    "language_info": {
      "codemirror_mode": {
        "name": "ipython",
        "version": 3
      },
      "file_extension": ".py",
      "mimetype": "text/x-python",
      "name": "python",
      "nbconvert_exporter": "python",
      "pygments_lexer": "ipython3",
      "version": "3.8.2"
    }
  },
  "cells": [
    {
      "cell_type": "markdown",
      "metadata": {
        "id": "UuiKELEdT6MF"
      },
      "source": [
        "# Giới thiệu Convolution Nets\n",
        "\n",
        "Convolutional Neural Networks (CNN) là một trong những mô hình deep learning phổ biến nhất và có ảnh hưởng nhiều nhất trong cộng đồng Computer Vision. CNN được dùng trong trong nhiều bài toán như nhận dạng ảnh, phân tích video, ảnh MRI, hoặc cho bài các bài của lĩnh vực xử lý ngôn ngữ tự nhiên, và hầu hết đều giải quyết tốt các bài toán này. \n",
        "\n",
        "CNN cũng có lịch sử khá lâu đời. Kiến trúc gốc của mô hình CNN được giới thiệu bởi một nhà khoa học máy tính người Nhật vào năm 1980. Sau đó, năm 1998, Yan LeCun lần đầu huấn luyện mô hình CNN với thuật toán backpropagation cho bài toán nhận dạng chữ viết tay. Tuy nhiên, mãi đến năm 2012, khi một nhà khoa học máy tính người Ukraine Alex Krizhevsky (đệ của Geoffrey Hinton) xây dựng mô hình CNN (AlexNet) và sử dụng GPU để tăng tốc quá trình huấn luyện deep nets để đạt được top 1 trong cuộc thi Computer Vision thường niên ImageNet với độ lỗi phân lớp top 5 giảm hơn 10% so với những mô hình truyền thống trước đó, đã tạo nên làn sóng mãnh mẽ sử dụng deep CNN với sự hỗ trợ của GPU để giải quyết càng nhiều các vấn đề trong Computer Vision.\n",
        "\n",
        "# Bài Toán Phân loại Ảnh\n",
        "Phân loại ảnh là một bài toán quan trọng bậc nhất trong lĩnh vực Computer Vision. Chúng ta đã có rất nhiều nghiên cứu để giải quyết bài toán này bằng cách rút trích các đặc trưng rất phổ biến như SIFT, HOG rồi cho máy tính học nhưng những cách này tỏ ra không thực sự hiểu quả. Nhưng ngược lại, đối với con người, chúng ta lại có bản năng tuyệt vời để phân loại được những đối tượng trong khung cảnh xung quanh một cách dễ dàng.\n",
        "\n",
        "Dữ liệu đầu vào của bài toán là một bức ảnh. Một ảnh được biểu diễn bằng ma trận các giá trị. Mô hình phân lớp sẽ phải dự đoán được lớp của ảnh từ ma trận điểm ảnh này, ví dụ như ảnh đó là con mèo, chó, hay là chim.\n",
        "\n",
        "![](https://pbcquoc.github.io/images/cnn_input.png)\n",
        "\n",
        "# Nội dung \n",
        "\n",
        "1. Import/ Xử lý dữ liệu\n",
        "2. Xây dựng mô hình\n",
        "3. Huấn luyện mô hình\n",
        "4. Đánh giá mô hình\n",
        "5. Sử dụng mô hình đã huấn luyện để dự đoán"
      ]
    },
    {
      "cell_type": "markdown",
      "metadata": {
        "id": "1noDSEH2T6MG"
      },
      "source": [
        "# Import thư viện\n",
        " "
      ]
    },
    {
      "cell_type": "code",
      "metadata": {
        "colab": {
          "base_uri": "https://localhost:8080/"
        },
        "id": "NW-ZLnnrjTly",
        "outputId": "ead2ffea-435b-477f-e565-8499dff74375"
      },
      "source": [
        "from google.colab import drive\n",
        "drive.mount('/content/drive')"
      ],
      "execution_count": 3,
      "outputs": [
        {
          "output_type": "stream",
          "text": [
            "Mounted at /content/drive\n"
          ],
          "name": "stdout"
        }
      ]
    },
    {
      "cell_type": "code",
      "metadata": {
        "colab": {
          "base_uri": "https://localhost:8080/"
        },
        "id": "ce3fbIErjZFR",
        "outputId": "59ba28a2-a74c-403b-c9f5-7afd4a933978"
      },
      "source": [
        "cd 'drive/MyDrive'"
      ],
      "execution_count": 4,
      "outputs": [
        {
          "output_type": "stream",
          "text": [
            "/content/drive/MyDrive\n"
          ],
          "name": "stdout"
        }
      ]
    },
    {
      "cell_type": "code",
      "metadata": {
        "id": "lpEf76pvT6MH",
        "colab": {
          "base_uri": "https://localhost:8080/"
        },
        "outputId": "6eacaae3-99ce-4f2c-dde5-3ac190f598d5"
      },
      "source": [
        "import os\n",
        "import numpy as np\n",
        "np.warnings.filterwarnings('ignore')\n",
        "os.environ['TF_CPP_MIN_LOG_LEVEL'] = '3' \n",
        "\n",
        "import pandas as pd\n",
        "from tqdm import tqdm\n",
        "\n",
        "from google_drive_downloader import GoogleDriveDownloader as gdd\n",
        "import matplotlib.pyplot as plt\n",
        "import tensorflow as tf\n",
        "from sklearn.model_selection import train_test_split\n",
        "from PIL import Image\n",
        "\n",
        "tf.random.set_seed(0)\n",
        "np.random.seed(0)\n",
        "\n",
        "print(\"Tensorflow version: \", tf.__version__)"
      ],
      "execution_count": 5,
      "outputs": [
        {
          "output_type": "stream",
          "text": [
            "Tensorflow version:  2.5.0\n"
          ],
          "name": "stdout"
        }
      ]
    },
    {
      "cell_type": "markdown",
      "metadata": {
        "id": "E-drPZYqT6MK"
      },
      "source": [
        "# Import và inspect dữ liệu\n",
        "Tập dữ liệu huấn luyện bao gồm 10k ảnh, là một phần nhỏ của bộ dữ liệu trong cuộc thi ZaloAI năm 2018. \n"
      ]
    },
    {
      "cell_type": "code",
      "metadata": {
        "colab": {
          "base_uri": "https://localhost:8080/"
        },
        "id": "6OgiAISfDBVD",
        "outputId": "edadd202-77d2-45a3-f0b4-1d79cab6980c"
      },
      "source": [
        "data_dir = 'data'\n",
        "os.listdir(data_dir)"
      ],
      "execution_count": 6,
      "outputs": [
        {
          "output_type": "execute_result",
          "data": {
            "text/plain": [
              "['images', 'train.csv', 'sample_submission.csv']"
            ]
          },
          "metadata": {
            "tags": []
          },
          "execution_count": 6
        }
      ]
    },
    {
      "cell_type": "markdown",
      "metadata": {
        "id": "pkHAl5onDQjs"
      },
      "source": [
        "Trong đó:\n",
        "- **images**: thư mục chứa tất cả các ảnh dùng cho việc huấn luyện và đánh giá\n",
        "- **train.csv**: file CSV chứa tên các file và nhãn dùng cho việc huấn luyện\n",
        "- **sample_submission.csv**: file CSV mẫu chứa tên các file cần đánh giá và nhãn dummy"
      ]
    },
    {
      "cell_type": "markdown",
      "metadata": {
        "id": "Rg3f7Xn6EFC-"
      },
      "source": [
        "## Đọc và xử lý dữ liệu"
      ]
    },
    {
      "cell_type": "markdown",
      "metadata": {
        "id": "NLFGYbfMWDQ7"
      },
      "source": [
        "Đọc dữ liệu từ file CSV:"
      ]
    },
    {
      "cell_type": "code",
      "metadata": {
        "colab": {
          "base_uri": "https://localhost:8080/",
          "height": 198
        },
        "id": "MH__gPbQJSLV",
        "outputId": "428473ed-b5a4-4c8d-caa3-fe1094440632"
      },
      "source": [
        "train_df = pd.read_csv(os.path.join(data_dir, 'train.csv'))\n",
        "train_df.head()"
      ],
      "execution_count": 7,
      "outputs": [
        {
          "output_type": "execute_result",
          "data": {
            "text/html": [
              "<div>\n",
              "<style scoped>\n",
              "    .dataframe tbody tr th:only-of-type {\n",
              "        vertical-align: middle;\n",
              "    }\n",
              "\n",
              "    .dataframe tbody tr th {\n",
              "        vertical-align: top;\n",
              "    }\n",
              "\n",
              "    .dataframe thead th {\n",
              "        text-align: right;\n",
              "    }\n",
              "</style>\n",
              "<table border=\"1\" class=\"dataframe\">\n",
              "  <thead>\n",
              "    <tr style=\"text-align: right;\">\n",
              "      <th></th>\n",
              "      <th>image</th>\n",
              "      <th>label</th>\n",
              "    </tr>\n",
              "  </thead>\n",
              "  <tbody>\n",
              "    <tr>\n",
              "      <th>0</th>\n",
              "      <td>VietAI-Assignment3-1.jpg</td>\n",
              "      <td>7</td>\n",
              "    </tr>\n",
              "    <tr>\n",
              "      <th>1</th>\n",
              "      <td>VietAI-Assignment3-100.jpg</td>\n",
              "      <td>2</td>\n",
              "    </tr>\n",
              "    <tr>\n",
              "      <th>2</th>\n",
              "      <td>VietAI-Assignment3-10000.jpg</td>\n",
              "      <td>1</td>\n",
              "    </tr>\n",
              "    <tr>\n",
              "      <th>3</th>\n",
              "      <td>VietAI-Assignment3-10001.jpg</td>\n",
              "      <td>2</td>\n",
              "    </tr>\n",
              "    <tr>\n",
              "      <th>4</th>\n",
              "      <td>VietAI-Assignment3-10002.jpg</td>\n",
              "      <td>2</td>\n",
              "    </tr>\n",
              "  </tbody>\n",
              "</table>\n",
              "</div>"
            ],
            "text/plain": [
              "                          image  label\n",
              "0      VietAI-Assignment3-1.jpg      7\n",
              "1    VietAI-Assignment3-100.jpg      2\n",
              "2  VietAI-Assignment3-10000.jpg      1\n",
              "3  VietAI-Assignment3-10001.jpg      2\n",
              "4  VietAI-Assignment3-10002.jpg      2"
            ]
          },
          "metadata": {
            "tags": []
          },
          "execution_count": 7
        }
      ]
    },
    {
      "cell_type": "code",
      "metadata": {
        "id": "WBRrzcibWMWa",
        "colab": {
          "base_uri": "https://localhost:8080/"
        },
        "outputId": "d1405fa7-740e-4925-b29a-2969e93cc013"
      },
      "source": [
        "train_df.info()"
      ],
      "execution_count": 8,
      "outputs": [
        {
          "output_type": "stream",
          "text": [
            "<class 'pandas.core.frame.DataFrame'>\n",
            "RangeIndex: 8234 entries, 0 to 8233\n",
            "Data columns (total 2 columns):\n",
            " #   Column  Non-Null Count  Dtype \n",
            "---  ------  --------------  ----- \n",
            " 0   image   8234 non-null   object\n",
            " 1   label   8234 non-null   int64 \n",
            "dtypes: int64(1), object(1)\n",
            "memory usage: 128.8+ KB\n"
          ],
          "name": "stdout"
        }
      ]
    },
    {
      "cell_type": "code",
      "metadata": {
        "colab": {
          "base_uri": "https://localhost:8080/",
          "height": 198
        },
        "id": "syh-kjLNbiQd",
        "outputId": "7a43469a-94e5-40de-d4ea-a6845f64ffbb"
      },
      "source": [
        "test_df = pd.read_csv(os.path.join(data_dir, 'sample_submission.csv'))\n",
        "test_df.head()"
      ],
      "execution_count": 9,
      "outputs": [
        {
          "output_type": "execute_result",
          "data": {
            "text/html": [
              "<div>\n",
              "<style scoped>\n",
              "    .dataframe tbody tr th:only-of-type {\n",
              "        vertical-align: middle;\n",
              "    }\n",
              "\n",
              "    .dataframe tbody tr th {\n",
              "        vertical-align: top;\n",
              "    }\n",
              "\n",
              "    .dataframe thead th {\n",
              "        text-align: right;\n",
              "    }\n",
              "</style>\n",
              "<table border=\"1\" class=\"dataframe\">\n",
              "  <thead>\n",
              "    <tr style=\"text-align: right;\">\n",
              "      <th></th>\n",
              "      <th>image</th>\n",
              "      <th>label</th>\n",
              "    </tr>\n",
              "  </thead>\n",
              "  <tbody>\n",
              "    <tr>\n",
              "      <th>0</th>\n",
              "      <td>VietAI-Assignment3-10.jpg</td>\n",
              "      <td>0</td>\n",
              "    </tr>\n",
              "    <tr>\n",
              "      <th>1</th>\n",
              "      <td>VietAI-Assignment3-1000.jpg</td>\n",
              "      <td>0</td>\n",
              "    </tr>\n",
              "    <tr>\n",
              "      <th>2</th>\n",
              "      <td>VietAI-Assignment3-10004.jpg</td>\n",
              "      <td>0</td>\n",
              "    </tr>\n",
              "    <tr>\n",
              "      <th>3</th>\n",
              "      <td>VietAI-Assignment3-10006.jpg</td>\n",
              "      <td>0</td>\n",
              "    </tr>\n",
              "    <tr>\n",
              "      <th>4</th>\n",
              "      <td>VietAI-Assignment3-10012.jpg</td>\n",
              "      <td>0</td>\n",
              "    </tr>\n",
              "  </tbody>\n",
              "</table>\n",
              "</div>"
            ],
            "text/plain": [
              "                          image  label\n",
              "0     VietAI-Assignment3-10.jpg      0\n",
              "1   VietAI-Assignment3-1000.jpg      0\n",
              "2  VietAI-Assignment3-10004.jpg      0\n",
              "3  VietAI-Assignment3-10006.jpg      0\n",
              "4  VietAI-Assignment3-10012.jpg      0"
            ]
          },
          "metadata": {
            "tags": []
          },
          "execution_count": 9
        }
      ]
    },
    {
      "cell_type": "code",
      "metadata": {
        "id": "jzBkL72Sbpg_",
        "colab": {
          "base_uri": "https://localhost:8080/"
        },
        "outputId": "1bf1c87e-b421-4aef-d18e-a01dcf7c96c9"
      },
      "source": [
        "test_df.info()"
      ],
      "execution_count": 10,
      "outputs": [
        {
          "output_type": "stream",
          "text": [
            "<class 'pandas.core.frame.DataFrame'>\n",
            "RangeIndex: 2059 entries, 0 to 2058\n",
            "Data columns (total 2 columns):\n",
            " #   Column  Non-Null Count  Dtype \n",
            "---  ------  --------------  ----- \n",
            " 0   image   2059 non-null   object\n",
            " 1   label   2059 non-null   int64 \n",
            "dtypes: int64(1), object(1)\n",
            "memory usage: 32.3+ KB\n"
          ],
          "name": "stdout"
        }
      ]
    },
    {
      "cell_type": "markdown",
      "metadata": {
        "id": "buXAweOvENiO"
      },
      "source": [
        "Tổng cộng có 8234 ảnh cho việc huấn luyện và 2059 ảnh cần dự đoán nhãn, ta tiến hành thống kê phân bố các nhãn trên tập huấn luyện:"
      ]
    },
    {
      "cell_type": "code",
      "metadata": {
        "id": "lZPoB7-gV8C6",
        "colab": {
          "base_uri": "https://localhost:8080/"
        },
        "outputId": "d4dc8987-1fde-43bd-ca92-c62b225efae1"
      },
      "source": [
        "train_df.label.value_counts()"
      ],
      "execution_count": 11,
      "outputs": [
        {
          "output_type": "execute_result",
          "data": {
            "text/plain": [
              "2     1949\n",
              "1      846\n",
              "0      808\n",
              "3      764\n",
              "5      642\n",
              "4      599\n",
              "7      579\n",
              "10     575\n",
              "6      535\n",
              "8      469\n",
              "9      468\n",
              "Name: label, dtype: int64"
            ]
          },
          "metadata": {
            "tags": []
          },
          "execution_count": 11
        }
      ]
    },
    {
      "cell_type": "markdown",
      "metadata": {
        "id": "Bo0z1gUIVcmj"
      },
      "source": [
        "Số lượng các ảnh cho mỗi lớp từ 400 đến 2000. Trong đó lớp số 2 có số lượng ảnh nhiều nhất"
      ]
    },
    {
      "cell_type": "code",
      "metadata": {
        "id": "AIHjhdzRZ8Z3"
      },
      "source": [
        "def generate_data(image_paths, size=224):\n",
        "    \"\"\"\n",
        "    Đọc và chuyển các ảnh về numpy array\n",
        "    \n",
        "    Parameters\n",
        "    ----------\n",
        "    image_paths: list of N strings\n",
        "        List các đường dẫn ảnh\n",
        "    size: int\n",
        "        Kích thước ảnh cần resize\n",
        "    \n",
        "    Returns\n",
        "    -------\n",
        "    numpy array kích thước (N, size, size, 3)\n",
        "    \"\"\"\n",
        "    image_array = np.zeros((len(image_paths), size, size, 3), dtype='float32')\n",
        "    \n",
        "    for idx, image_path in tqdm(enumerate(image_paths)):\n",
        "        ### START CODE HERE\n",
        "        \n",
        "        # Đọc ảnh bằng thư viện Pillow và resize ảnh\n",
        "        image = Image.open(image_path).convert(\"RGB\").resize((size,size))\n",
        "        \n",
        "        # Chuyển ảnh thành numpy array và gán lại mảng image_array\n",
        "        image_array[idx] = np.array(image).astype('float32')/255\n",
        "        \n",
        "        ### END CODE HERE\n",
        "    return image_array"
      ],
      "execution_count": 16,
      "outputs": []
    },
    {
      "cell_type": "markdown",
      "metadata": {
        "id": "s9sI7QBibZdG"
      },
      "source": [
        "Sử dụng hàm `generate_data` để tạo ma trận của tập dữ liệu train và test:"
      ]
    },
    {
      "cell_type": "code",
      "metadata": {
        "id": "X7UkA-_rbYzn",
        "colab": {
          "base_uri": "https://localhost:8080/"
        },
        "outputId": "dafd0c3f-afd6-4588-c0df-807934845adc"
      },
      "source": [
        "# List các đường dẫn file cho việc huấn luyện\n",
        "train_files = [os.path.join(\"data/images\", file) for file in train_df.image]\n",
        "\n",
        "# List các nhãn\n",
        "train_y = train_df.label\n",
        "\n",
        "# Tạo numpy array cho dữ liệu huấn luyện\n",
        "train_arr = generate_data(train_files)"
      ],
      "execution_count": 12,
      "outputs": [
        {
          "output_type": "stream",
          "text": [
            "8234it [29:23,  4.67it/s]\n"
          ],
          "name": "stderr"
        }
      ]
    },
    {
      "cell_type": "code",
      "metadata": {
        "id": "DxScb0w_e2Gh",
        "colab": {
          "base_uri": "https://localhost:8080/"
        },
        "outputId": "e9ff79ad-ba8c-4641-c3d4-93940082e511"
      },
      "source": [
        "train_arr.shape"
      ],
      "execution_count": 13,
      "outputs": [
        {
          "output_type": "execute_result",
          "data": {
            "text/plain": [
              "(8234, 224, 224, 3)"
            ]
          },
          "metadata": {
            "tags": []
          },
          "execution_count": 13
        }
      ]
    },
    {
      "cell_type": "markdown",
      "metadata": {
        "id": "msp9WEgOfRdf"
      },
      "source": [
        "Tiến hành tạo tensor dữ liệu cho tập test"
      ]
    },
    {
      "cell_type": "code",
      "metadata": {
        "id": "0vI-AlLgfXi1",
        "colab": {
          "base_uri": "https://localhost:8080/"
        },
        "outputId": "013646f0-6a03-4050-a3c6-ab268d5ec3e7"
      },
      "source": [
        "test_files = [os.path.join(\"data/images\", file) for file in test_df.image]\n",
        "test_x = generate_data(test_files)\n",
        "test_x.shape"
      ],
      "execution_count": 14,
      "outputs": [
        {
          "output_type": "stream",
          "text": [
            "2059it [07:11,  4.77it/s]\n"
          ],
          "name": "stderr"
        },
        {
          "output_type": "execute_result",
          "data": {
            "text/plain": [
              "(2059, 224, 224, 3)"
            ]
          },
          "metadata": {
            "tags": []
          },
          "execution_count": 14
        }
      ]
    },
    {
      "cell_type": "markdown",
      "metadata": {
        "id": "LssbDy2pf9ua"
      },
      "source": [
        "Tạo **one-hot labels** từ `train_y` để đưa vào huấn luyện với Tensorflow. "
      ]
    },
    {
      "cell_type": "code",
      "metadata": {
        "id": "iVuRanKET6MO"
      },
      "source": [
        "num_classes = len(np.unique(train_y))\n",
        "y_one = tf.keras.utils.to_categorical(train_y, num_classes=num_classes)"
      ],
      "execution_count": 15,
      "outputs": []
    },
    {
      "cell_type": "markdown",
      "metadata": {
        "id": "vjpnYIXRT6MT"
      },
      "source": [
        "## Chia dữ liệu để huấn luyện và đánh giá\n",
        "\n"
      ]
    },
    {
      "cell_type": "code",
      "metadata": {
        "id": "MtnwiHOZT6MU",
        "colab": {
          "base_uri": "https://localhost:8080/"
        },
        "outputId": "524ee065-66e7-4573-bbd3-b3e2fd2b241b"
      },
      "source": [
        "x_train, x_valid, y_train_one, y_valid_one = train_test_split(train_arr, y_one, test_size=0.25)\n",
        "\n",
        "print(\"Train size: {} - Validation size: {}\".format(x_train.shape, x_valid.shape))"
      ],
      "execution_count": 16,
      "outputs": [
        {
          "output_type": "stream",
          "text": [
            "Train size: (6175, 224, 224, 3) - Validation size: (2059, 224, 224, 3)\n"
          ],
          "name": "stdout"
        }
      ]
    },
    {
      "cell_type": "code",
      "metadata": {
        "id": "qCTUEY2dBIUQ"
      },
      "source": [
        "new_train_df, val_df = train_test_split(train_df, test_size=0.2)"
      ],
      "execution_count": 17,
      "outputs": []
    },
    {
      "cell_type": "markdown",
      "metadata": {
        "id": "06g6e_u7T6MY"
      },
      "source": [
        "## Mô Hình CNN\n",
        "\n",
        "CNN bao gồm tập hợp các lớp cơ bản bao sau: convolution layer + nonlinear layer (RELU, ...), pooling layer, fully connected layer. Các lớp này liên kết với nhau theo một thứ tự nhất định. Thông thường, một ảnh sẽ được lan truyền qua tầng convolution layer + nonlinear layer đầu tiên, sau đó các giá trị tính toán được sẽ lan truyền qua pooling layer, bộ ba convolution layer + nonlinear layer + pooling layer có thể được lặp lại nhiều lần trong network. Và sau đó được lan truyền qua tầng fully connected layer và softmax để tính xác suất ảnh đó chứa vật thế gì.\n",
        "\n",
        "![](https://pbcquoc.github.io/images/cnn_model.png)\n",
        "\n",
        "### Convolution Layer\n",
        "Convolution layer là lớp đầu tiên và cũng là lớp quan trọng nhất của mô hình CNN. Lớp này có chức năng chính là phát hiện các đặc trưng về không gian một cách hiệu quả. Trong tầng này có 4 đối tượng chính là: ma trận đầu vào, bộ **filter**, và **receptive field**, **feature map**. Conv layer nhận đầu vào là một ma trận 3 chiều và một bộ filter cần phải học. Bộ filters này sẽ trượt qua từng vị trí trên bức ảnh để tính tích chập (convolution) giữa bộ filter và phần tương ứng trên bức ảnh. Phần tương ứng này trên bức ảnh gọi là receptive field, tức là vùng mà một neuron có thể nhìn thấy để đưa ra quyết định, và mà trận cho ra bởi quá trình này được gọi là feature map. Để hình dung, các bạn có thể tưởng tượng, bộ filters giống như các tháp canh trong nhà tù quét lần lượt qua không gian xung quanh để tìm kiếm tên tù nhân bỏ trốn. Khi phát hiện tên tù nhân bỏ trốn, thì chuông báo động sẽ reo lên, giống như các bộ filters tìm kiếm được đặc trưng nhất định thì tích chập đó sẽ cho giá trị lớn. \n",
        "\n",
        "<div class=\"img-div\" markdown=\"0\">\n",
        "    <img src=\"https://media.giphy.com/media/3orif7it9f4phjv4LS/giphy.gif\" />\n",
        "</div>\n",
        "\n",
        "Với ví dụ ở bên dưới, dữ liệu đầu vào ở là ma trận có kích thước 8x8x1, một bộ filter có kích thước 2x2x1, feature map có kích thước 7x7x1. Mỗi giá trị ở feature map được tính bằng tổng của tích các phần tử tương ứng của bộ filter 2x2x1 với receptive field trên ảnh. Và để tính tất cả các giá trị cho feature map, các bạn cần trượt filter từ trái sang phải, từ trên xuống dưới. Do đó, các bạn có thể thấy rằng phép convolution bảo toàn thứ tự không gian của các điểm ảnh. Ví dụ điểm góc trái của dữ liệu đầu vào sẽ tương ứng với bên một điểm bên góc trái của feature map. \n",
        "\n",
        "<div class=\"img-div\" markdown=\"0\">\n",
        "    <img src=\"https://pbcquoc.github.io/images/cnn_covolution_layer.png\" />\n",
        "</div>\n",
        "\n",
        "#### Tầng convolution như là feature detector \n",
        "\n",
        "Tầng convolution có chức năng chính là phát hiện đặc trưng cụ thể của bức ảnh. Những đặc trưng này bao gồm đặc trưng cơ bản là góc, cạnh, màu sắc, hoặc đặc trưng phức tạp hơn như texture của ảnh. Vì bộ filter quét qua toàn bộ bức ảnh, nên những đặc trưng này có thể nằm ở vị trí bất kì trong bức ảnh, cho dù ảnh bị xoay trái/phải thì những đặc trưng này vẫn bị phát hiện. \n",
        "\n",
        "Ở minh họa dưới, các bạn có một filter 5x5 dùng để phát hiện góc/cạnh, filter này chỉ có giá trị một tại các điểm tương ứng một góc cong. \n",
        "\n",
        "<div class=\"img-div\" markdown=\"0\">\n",
        "    <img src=\"https://pbcquoc.github.io/images/cnn_high_level_feature.png\" />\n",
        "</div>\n",
        "\n",
        "Dùng filter ở trên trượt qua ảnh của nhân vật Olaf trong trong bộ phim Frozen. Chúng ta thấy rằng, chỉ ở những vị trí trên bức ảnh có dạng góc như đặc trưng ở filter thì mới có giá trị lớn trên feature map, những vị trí còn lại sẽ cho giá trị thấp hơn. Điều này có nghĩa là, filter đã phát hiện thành công một dạng góc/cạnh trên dự liệu đầu vào. Tập hợp nhiều bộ filters sẽ cho phép các bạn phát hiện được nhiều loại đặc trưng khác nhau, và giúp định danh được đối tượng. \n",
        "\n",
        "<div class=\"img-div\" markdown=\"0\">\n",
        "    <img src=\"https://pbcquoc.github.io/images/cnn_high_level_feature_ex.png\" />\n",
        "</div>\n",
        "\n",
        "#### Các tham số của tầng convolution: Kích thước bộ filter, stride và padding\n",
        "\n",
        "\n"
      ]
    },
    {
      "cell_type": "markdown",
      "metadata": {
        "id": "CATPodwfT6MZ"
      },
      "source": [
        "# Xây dựng mô hình\n",
        "\n",
        "![](https://github.com/pbcquoc/cnn/raw/master/images/cnn_architecture_2.png)\n"
      ]
    },
    {
      "cell_type": "code",
      "metadata": {
        "id": "GkT5hTxjT6Mb"
      },
      "source": [
        "class ConvBlock(tf.keras.Model):\n",
        "    def __init__(self, filters, kernel, strides, padding):\n",
        "        '''\n",
        "        Khởi tạo Convolution Block với các tham số đầu vào\n",
        "        \n",
        "        Parameters\n",
        "        ----------\n",
        "        filters: int\n",
        "            số lượng filter\n",
        "        kernel: int\n",
        "            kích thước kernel\n",
        "        strides: int\n",
        "            stride của convolution layer\n",
        "        padding: str\n",
        "            Loại padding của convolution layer\n",
        "        \n",
        "        '''\n",
        "        \n",
        "        super(ConvBlock, self).__init__()\n",
        " \n",
        "        \n",
        "        # Tạo layer Conv2D\n",
        "        self.cnn = tf.keras.layers.Conv2D(filters, (kernel, kernel), strides=(strides, strides), kernel_initializer='he_normal', padding=padding)\n",
        "        \n",
        "        # Tạo layer MaxPool2D\n",
        "        self.pool = tf.keras.layers.MaxPool2D((2,2), strides=(2,2))\n",
        "        \n",
        "        # Tạo các layer khác tùy ý nếu cần thiết\n",
        "        self.bn = tf.keras.layers.BatchNormalization()\n",
        "        \n",
        "     \n",
        "        \n",
        "        \n",
        "    def call(self, inputs):\n",
        "        '''\n",
        "        Hàm này sẽ được gọi trong quá trình forwarding của mạng\n",
        "        \n",
        "        Parameters\n",
        "        ----------\n",
        "        inputs: tensor đầu vào\n",
        "        \n",
        "        Returns\n",
        "        -------\n",
        "        tensor\n",
        "            giá trị đầu ra của mạng\n",
        "        '''\n",
        "        \n",
        "        x = None\n",
        "\n",
        "        \n",
        "        # Forward inputs qua từng layer và gán vào biến x để trả về\n",
        "        \n",
        "        x = self.cnn(inputs)\n",
        "        x = self.bn(x)\n",
        "        x = tf.nn.relu(x)   \n",
        "        x = self.pool(x)\n",
        "        \n",
        "        ## END CODE HERE\n",
        "\n",
        "        return x"
      ],
      "execution_count": 12,
      "outputs": []
    },
    {
      "cell_type": "markdown",
      "metadata": {
        "id": "D1avJ7wvxpFq"
      },
      "source": [
        "## Định nghĩa toàn bộ mô hình CNN\n"
      ]
    },
    {
      "cell_type": "code",
      "metadata": {
        "id": "fn6w7oh-T6Md"
      },
      "source": [
        "class CNN(tf.keras.Model):\n",
        "    def __init__(self, num_classes):\n",
        "        \n",
        "        super(CNN, self).__init__()\n",
        "        \n",
        "        # Khởi tạo các convolution block\n",
        "        self.block1 = ConvBlock(64, kernel=3, strides=1, padding='same')\n",
        "        self.block2 = ConvBlock(128, kernel=3, strides=1, padding='same')\n",
        "        self.block3 = ConvBlock(256, kernel=3, strides=1, padding='same')\n",
        "        self.block4 = ConvBlock(512, kernel=3, strides=1, padding='same')\n",
        "        self.block5 = ConvBlock(512, kernel=3, strides=1, padding='same')       \n",
        "        self.block6 = ConvBlock(1024, kernel=3, strides=1, padding='same')\n",
        "        self.dropout = tf.keras.layers.Dropout(rate=0.5)\n",
        "        \n",
        "        # Khởi tạo layer để flatten feature map \n",
        "        self.flatten = tf.keras.layers.Flatten()\n",
        "        \n",
        "        ### END CODE HERE\n",
        "        \n",
        "        # Khởi tạo fully connected layer\n",
        "        self.dense1 = tf.keras.layers.Dense(num_classes)\n",
        "\n",
        "    def call(self, inputs):\n",
        "        \n",
        "        # Forward gía trị inputs qua các tầng CNN và gán vào x\n",
        "        x = self.block1(inputs)\n",
        "        x = self.block2(x)\n",
        "        x = self.block3(x)\n",
        "        x = self.block4(x)\n",
        "        x = self.block5(x)\n",
        "        x = self.block6(x)\n",
        "        \n",
        "        x = self.flatten(x)\n",
        "        x = self.dropout(x)\n",
        "\n",
        "        \n",
        "       \n",
        "        \n",
        "        # Forward giá trị x qua Fully connected layer\n",
        "        x = self.dense1(x)\n",
        "        \n",
        "        ### END CODE HERE\n",
        "        \n",
        "        # Để sử dụng hàm softmax, ta phải thực thi trên CPU\n",
        "        with tf.device('/cpu:0'):\n",
        "            output = tf.nn.softmax(x)\n",
        "\n",
        "        return output"
      ],
      "execution_count": 13,
      "outputs": []
    },
    {
      "cell_type": "markdown",
      "metadata": {
        "id": "HeV9Ab03T6Mk"
      },
      "source": [
        "# Huấn Luyện\n"
      ]
    },
    {
      "cell_type": "code",
      "metadata": {
        "id": "5tmZonE2T6Ml"
      },
      "source": [
        "device = '/cpu:0' if tfe.num_gpus() == 0 else '/gpu:0'\n",
        "batch_size = 32\n",
        "epochs = 16\n",
        "\n",
        "with tf.device(device):\n",
        "    # Khởi tạo model\n",
        "    model = CNN(num_classes)\n",
        "    \n",
        "    # Tạo callback để lưu model có accuracy trên tập validation tốt nhất\n",
        "    mcp = tf.keras.callbacks.ModelCheckpoint(\"my_model.h5\", monitor=\"val_acc\",\n",
        "                      save_best_only=True, save_weights_only=True)\n",
        "    \n",
        "    # Compile model\n",
        "    model.compile(optimizer=tf.train.AdamOptimizer(0.001), loss='categorical_crossentropy',\n",
        "                  metrics=['accuracy'])\n",
        "    \n",
        "    # Huấn luyện\n",
        "    print(y_train_one)\n",
        "    model.fit(x_train, y_train_one, batch_size=batch_size, epochs=epochs,\n",
        "              validation_data=(x_valid, y_valid_one), verbose=1, callbacks=[mcp])\n"
      ],
      "execution_count": null,
      "outputs": []
    },
    {
      "cell_type": "markdown",
      "metadata": {
        "id": "5p4QgrUJT6Mp"
      },
      "source": [
        "# Dự Đoán các ảnh trên tập test\n",
        "\n"
      ]
    },
    {
      "cell_type": "markdown",
      "metadata": {
        "id": "np3O0GgN4s3n"
      },
      "source": [
        "## Tạo và load model đã lưu trước đó"
      ]
    },
    {
      "cell_type": "code",
      "metadata": {
        "id": "VnnCTqhBT6Mq"
      },
      "source": [
        "# Load best model\n",
        "model = CNN(11)\n",
        "\n",
        "# Thiết lập kích thước input cho model\n",
        "dummy_x = tf.zeros((1, 224, 224, 3))\n",
        "model._set_inputs(dummy_x)\n",
        "\n",
        "# Load model đã lưu trước đó trong quá trình huấn luyện\n",
        "model.load_weights('my_model.h5')\n",
        "print(\"Model đã được load\")"
      ],
      "execution_count": null,
      "outputs": []
    },
    {
      "cell_type": "markdown",
      "metadata": {
        "id": "QaMQvDMJ46Vs"
      },
      "source": [
        "## Dự đoán nhãn của các ảnh trên tập test"
      ]
    },
    {
      "cell_type": "markdown",
      "metadata": {
        "id": "YLaGW2b55mqW"
      },
      "source": [
        "Sử dụng hàm predict để dự đoán"
      ]
    },
    {
      "cell_type": "code",
      "metadata": {
        "id": "TBl_-M0_T6Mt"
      },
      "source": [
        "pred = model.predict(test_x)\n",
        "\n",
        "# pred là một ma trận xác suất của ảnh trên các lớp.\n",
        "# Ta lấy lớp có xác suất cao nhất trên từng ảnh bằng hàm argmax\n",
        "pred_labels = np.argmax(pred, axis=1)"
      ],
      "execution_count": null,
      "outputs": []
    },
    {
      "cell_type": "markdown",
      "metadata": {
        "id": "ZqXMbQte5o7U"
      },
      "source": [
        "Hiển thị thử kết quả của tập test"
      ]
    },
    {
      "cell_type": "code",
      "metadata": {
        "id": "DhVAFRO3T6Nn"
      },
      "source": [
        "test_df['label'] = predictions\n",
        "test_df.head(20)"
      ],
      "execution_count": null,
      "outputs": []
    },
    {
      "cell_type": "markdown",
      "metadata": {
        "id": "QlJ9T6eN5u9n"
      },
      "source": [
        "Lưu kết quả thành file CSV:"
      ]
    },
    {
      "cell_type": "code",
      "metadata": {
        "id": "wx7VJJnCozqu"
      },
      "source": [
        "test_df.to_csv(\"submission.csv\", index=False)"
      ],
      "execution_count": null,
      "outputs": []
    },
    {
      "cell_type": "markdown",
      "metadata": {
        "id": "YLo6SJb-AjWD"
      },
      "source": [
        ""
      ]
    },
    {
      "cell_type": "markdown",
      "metadata": {
        "id": "5UJBk2YToUAW"
      },
      "source": [
        "# Baseline model 2: Data augmentation"
      ]
    },
    {
      "cell_type": "markdown",
      "metadata": {
        "id": "Udb21Jh3o0Jv"
      },
      "source": [
        "Ở baseline này, để cải thiện kết quả trên tập test, chúng ta có thể áp dụng kỹ thuật Image Augmentation. Thư viện Keras hỗ trợ class `ImageDataGenerator` trong việc augmentation. Ở ví dụ bên dưới, các kỹ thuật được áp dụng trong quá trình xử lý ảnh là:\n",
        "- rescale: đưa ảnh về miền giá trị [0,1]\n",
        "- rotation: xoay ảnh ngẫu nhiên trái phải 20 độ\n",
        "- shift: dịch chuyển ảnh sang trái phải, trên dưới 20% kích thước\n",
        "- horizontal flip: lật ảnh ngang ngẫu nhiên\n",
        "\n",
        "Tuy nhiên các kĩ thuật này chỉ áp dụng trong khi training, khi validation và testing, chỉ có rescale được áp dụng để tránh việc các kết quả validation không chính xác do data thay đổi qua các lần validate."
      ]
    },
    {
      "cell_type": "code",
      "metadata": {
        "id": "1bQA6Xz2thtu"
      },
      "source": [
        "# Data Generator dùng cho training\n",
        "train_datagen = tf.keras.preprocessing.image.ImageDataGenerator(\n",
        "    rescale=1./255,\n",
        "    rotation_range=20,\n",
        "    width_shift_range=0.2,\n",
        "    height_shift_range=0.2,\n",
        "    horizontal_flip=True)\n",
        "\n",
        "# Data Generator dùng cho validation và testing\n",
        "test_datagen = tf.keras.preprocessing.image.ImageDataGenerator(rescale=1./255)"
      ],
      "execution_count": 14,
      "outputs": []
    },
    {
      "cell_type": "markdown",
      "metadata": {
        "id": "KDGDU84TqDgU"
      },
      "source": [
        "Class `ImageDataGenerator` hỗ trợ đọc ảnh và augmentation realtime khi training, điều này giúp cho quá trình training không tốn nhiều bộ nhớ do không cần phải load toàn bộ ảnh như ban đầu. Ta có thể sử dụng hàm `flow_from_dataframe` để tạo luồng input từ DataFrame và folder chứa ảnh."
      ]
    },
    {
      "cell_type": "code",
      "metadata": {
        "id": "vSYU4w2Dt73d",
        "colab": {
          "base_uri": "https://localhost:8080/"
        },
        "outputId": "1b76091e-6f3a-468f-b3d1-c6328ac420ce"
      },
      "source": [
        "batch_size = 24\n",
        "\n",
        "# ImageDataGenerator chỉ chấp nhận kiểu label là string, \n",
        "# ta chuyển cột label sang string\n",
        "train_df[\"label\"] = train_df[\"label\"].map(lambda x: str(x))\n",
        "# Chia dữ liệu thành train và validation\n",
        "train_data, val_data = train_test_split(train_df, test_size=0.25)\n",
        "\n",
        "# Tạo luồng dữ liệu cho quá trình train, các bạn có thể tìm hiểu các tham số ở Keras document\n",
        "train_gen = train_datagen.flow_from_dataframe(dataframe=train_data, \n",
        "                                        directory=\"data/images\", \n",
        "                                        x_col=\"image\", \n",
        "                                        y_col=\"label\",\n",
        "                                        class_mode=\"categorical\",\n",
        "                                        target_size=(224,224), \n",
        "                                        batch_size=batch_size)\n",
        "\n",
        "# Tạo luồng dữ liệu cho quá trình test\n",
        "val_gen = test_datagen.flow_from_dataframe(dataframe=val_data, \n",
        "                                        directory=\"data/images\", \n",
        "                                        x_col=\"image\", \n",
        "                                        y_col=\"label\",\n",
        "                                        class_mode=\"categorical\",\n",
        "                                        shuffle=False,\n",
        "                                        target_size=(224,224), \n",
        "                                        batch_size=batch_size)"
      ],
      "execution_count": 15,
      "outputs": [
        {
          "output_type": "stream",
          "text": [
            "Found 6175 validated image filenames belonging to 11 classes.\n",
            "Found 2059 validated image filenames belonging to 11 classes.\n"
          ],
          "name": "stdout"
        }
      ]
    },
    {
      "cell_type": "markdown",
      "metadata": {
        "id": "vl1UAMp8q51Z"
      },
      "source": [
        "Tiến hành huấn luyện"
      ]
    },
    {
      "cell_type": "code",
      "metadata": {
        "id": "usWQsXR3q0b9",
        "colab": {
          "base_uri": "https://localhost:8080/"
        },
        "outputId": "25ea025a-d679-47c2-ce1e-fe5d3e052ae1"
      },
      "source": [
        "device = '/gpu:0' \n",
        "epochs = 50\n",
        "\n",
        "# Số lượng training step mỗi epoch\n",
        "steps_per_epoch = train_gen.n // batch_size\n",
        "# Số lượng validation step\n",
        "validation_steps = val_gen.n // batch_size\n",
        "\n",
        "with tf.device(device):\n",
        "    # Khởi tạo model\n",
        "    model = CNN(num_classes=11)\n",
        "    \n",
        "    \n",
        "    \n",
        "    # Tạo callback để lưu model có accuracy trên tập validation tốt nhất\n",
        "    mcp = tf.keras.callbacks.ModelCheckpoint(\"cnn_augmentation.h5\", monitor=\"val_accuracy\",\n",
        "                      save_best_only=True, save_weights_only=True)\n",
        "    rlr = keras.callbacks.ReduceLROnPlateau(monitor='val_accuracy', factor=0.3, mode='max', patience=5, min_lr=1e-8, verbose=1)\n",
        "    \n",
        "    # Compile model\n",
        "    model.compile(optimizer=tf.keras.optimizers.Adam(0.001), loss='categorical_crossentropy',\n",
        "                  metrics=['accuracy'])\n",
        "    \n",
        "    # Huấn luyện với data generator\n",
        "    model.fit(train_gen, \n",
        "                        steps_per_epoch=steps_per_epoch, \n",
        "                        epochs=epochs,\n",
        "                        verbose=1, \n",
        "                        validation_data=val_gen,\n",
        "                        validation_steps=validation_steps, \n",
        "                        callbacks=[mcp,rlr])"
      ],
      "execution_count": 18,
      "outputs": [
        {
          "output_type": "stream",
          "text": [
            "Epoch 1/50\n",
            "257/257 [==============================] - 100s 384ms/step - loss: 3.0856 - accuracy: 0.2977 - val_loss: 2.7222 - val_accuracy: 0.2118\n",
            "Epoch 2/50\n",
            "257/257 [==============================] - 98s 382ms/step - loss: 2.1179 - accuracy: 0.4170 - val_loss: 1.4239 - val_accuracy: 0.5750\n",
            "Epoch 3/50\n",
            "257/257 [==============================] - 98s 382ms/step - loss: 1.4684 - accuracy: 0.5384 - val_loss: 1.3925 - val_accuracy: 0.5613\n",
            "Epoch 4/50\n",
            "257/257 [==============================] - 98s 382ms/step - loss: 1.1621 - accuracy: 0.6123 - val_loss: 0.9425 - val_accuracy: 0.7005\n",
            "Epoch 5/50\n",
            "257/257 [==============================] - 98s 382ms/step - loss: 0.9697 - accuracy: 0.6778 - val_loss: 1.0901 - val_accuracy: 0.6475\n",
            "Epoch 6/50\n",
            "257/257 [==============================] - 99s 384ms/step - loss: 0.8711 - accuracy: 0.7083 - val_loss: 0.9243 - val_accuracy: 0.7098\n",
            "Epoch 7/50\n",
            "257/257 [==============================] - 99s 387ms/step - loss: 0.7830 - accuracy: 0.7402 - val_loss: 1.5625 - val_accuracy: 0.5755\n",
            "Epoch 8/50\n",
            "257/257 [==============================] - 98s 381ms/step - loss: 0.7571 - accuracy: 0.7501 - val_loss: 0.6700 - val_accuracy: 0.8000\n",
            "Epoch 9/50\n",
            "257/257 [==============================] - 98s 380ms/step - loss: 0.6744 - accuracy: 0.7782 - val_loss: 0.8509 - val_accuracy: 0.7515\n",
            "Epoch 10/50\n",
            "257/257 [==============================] - 98s 380ms/step - loss: 0.6277 - accuracy: 0.7934 - val_loss: 0.7855 - val_accuracy: 0.7583\n",
            "Epoch 11/50\n",
            "257/257 [==============================] - 98s 380ms/step - loss: 0.5674 - accuracy: 0.8096 - val_loss: 0.6468 - val_accuracy: 0.8167\n",
            "Epoch 12/50\n",
            "257/257 [==============================] - 98s 381ms/step - loss: 0.5614 - accuracy: 0.8130 - val_loss: 1.1108 - val_accuracy: 0.6941\n",
            "Epoch 13/50\n",
            "257/257 [==============================] - 99s 384ms/step - loss: 0.5164 - accuracy: 0.8325 - val_loss: 0.6951 - val_accuracy: 0.7794\n",
            "Epoch 14/50\n",
            "257/257 [==============================] - 98s 382ms/step - loss: 0.5017 - accuracy: 0.8316 - val_loss: 0.4983 - val_accuracy: 0.8368\n",
            "Epoch 15/50\n",
            "257/257 [==============================] - 98s 382ms/step - loss: 0.4943 - accuracy: 0.8321 - val_loss: 1.2171 - val_accuracy: 0.7039\n",
            "Epoch 16/50\n",
            "257/257 [==============================] - 98s 382ms/step - loss: 0.4450 - accuracy: 0.8480 - val_loss: 0.5508 - val_accuracy: 0.8270\n",
            "Epoch 17/50\n",
            "257/257 [==============================] - 98s 382ms/step - loss: 0.4104 - accuracy: 0.8621 - val_loss: 0.5759 - val_accuracy: 0.8265\n",
            "Epoch 18/50\n",
            "257/257 [==============================] - 98s 382ms/step - loss: 0.4049 - accuracy: 0.8628 - val_loss: 0.9000 - val_accuracy: 0.7775\n",
            "Epoch 19/50\n",
            "257/257 [==============================] - 98s 380ms/step - loss: 0.3859 - accuracy: 0.8730 - val_loss: 0.4512 - val_accuracy: 0.8583\n",
            "Epoch 20/50\n",
            "257/257 [==============================] - 98s 381ms/step - loss: 0.3651 - accuracy: 0.8773 - val_loss: 0.5518 - val_accuracy: 0.8441\n",
            "Epoch 21/50\n",
            "257/257 [==============================] - 98s 381ms/step - loss: 0.3709 - accuracy: 0.8795 - val_loss: 0.7697 - val_accuracy: 0.8049\n",
            "Epoch 22/50\n",
            "257/257 [==============================] - 98s 382ms/step - loss: 0.3455 - accuracy: 0.8836 - val_loss: 0.5999 - val_accuracy: 0.8123\n",
            "Epoch 23/50\n",
            "257/257 [==============================] - 100s 388ms/step - loss: 0.3239 - accuracy: 0.8896 - val_loss: 0.4588 - val_accuracy: 0.8475\n",
            "Epoch 24/50\n",
            "257/257 [==============================] - 98s 383ms/step - loss: 0.2930 - accuracy: 0.8986 - val_loss: 0.6039 - val_accuracy: 0.8368\n",
            "Epoch 25/50\n",
            "257/257 [==============================] - 98s 381ms/step - loss: 0.3009 - accuracy: 0.8945 - val_loss: 0.5237 - val_accuracy: 0.8623\n",
            "Epoch 26/50\n",
            "257/257 [==============================] - 99s 384ms/step - loss: 0.2908 - accuracy: 0.8994 - val_loss: 0.5994 - val_accuracy: 0.8456\n",
            "Epoch 27/50\n",
            "257/257 [==============================] - 99s 384ms/step - loss: 0.2949 - accuracy: 0.8987 - val_loss: 0.6620 - val_accuracy: 0.8069\n",
            "Epoch 28/50\n",
            "257/257 [==============================] - 98s 382ms/step - loss: 0.2728 - accuracy: 0.9117 - val_loss: 0.6595 - val_accuracy: 0.8152\n",
            "Epoch 29/50\n",
            "257/257 [==============================] - 99s 383ms/step - loss: 0.2396 - accuracy: 0.9150 - val_loss: 0.3717 - val_accuracy: 0.8902\n",
            "Epoch 30/50\n",
            "257/257 [==============================] - 98s 381ms/step - loss: 0.2367 - accuracy: 0.9216 - val_loss: 0.6342 - val_accuracy: 0.8245\n",
            "Epoch 31/50\n",
            "257/257 [==============================] - 98s 382ms/step - loss: 0.2368 - accuracy: 0.9179 - val_loss: 0.5144 - val_accuracy: 0.8716\n",
            "Epoch 32/50\n",
            "257/257 [==============================] - 98s 380ms/step - loss: 0.2380 - accuracy: 0.9197 - val_loss: 0.7130 - val_accuracy: 0.8083\n",
            "Epoch 33/50\n",
            "257/257 [==============================] - 98s 380ms/step - loss: 0.2185 - accuracy: 0.9265 - val_loss: 0.4653 - val_accuracy: 0.8569\n",
            "Epoch 34/50\n",
            "257/257 [==============================] - 98s 383ms/step - loss: 0.1995 - accuracy: 0.9329 - val_loss: 0.3610 - val_accuracy: 0.9015\n",
            "Epoch 35/50\n",
            "257/257 [==============================] - 98s 382ms/step - loss: 0.2157 - accuracy: 0.9239 - val_loss: 0.8027 - val_accuracy: 0.8137\n",
            "Epoch 36/50\n",
            "257/257 [==============================] - 99s 386ms/step - loss: 0.1894 - accuracy: 0.9332 - val_loss: 0.3378 - val_accuracy: 0.9186\n",
            "Epoch 37/50\n",
            "257/257 [==============================] - 98s 383ms/step - loss: 0.1932 - accuracy: 0.9333 - val_loss: 0.5021 - val_accuracy: 0.8750\n",
            "Epoch 38/50\n",
            "257/257 [==============================] - 98s 383ms/step - loss: 0.1810 - accuracy: 0.9343 - val_loss: 0.5172 - val_accuracy: 0.8892\n",
            "Epoch 39/50\n",
            "257/257 [==============================] - 98s 383ms/step - loss: 0.1822 - accuracy: 0.9395 - val_loss: 0.9486 - val_accuracy: 0.7755\n",
            "Epoch 40/50\n",
            "257/257 [==============================] - 98s 381ms/step - loss: 0.1746 - accuracy: 0.9415 - val_loss: 0.4462 - val_accuracy: 0.8971\n",
            "Epoch 41/50\n",
            "257/257 [==============================] - 98s 382ms/step - loss: 0.1655 - accuracy: 0.9415 - val_loss: 0.3903 - val_accuracy: 0.8892\n",
            "Epoch 42/50\n",
            "257/257 [==============================] - 98s 381ms/step - loss: 0.1570 - accuracy: 0.9473 - val_loss: 0.4338 - val_accuracy: 0.8804\n",
            "Epoch 43/50\n",
            "257/257 [==============================] - 98s 381ms/step - loss: 0.1630 - accuracy: 0.9457 - val_loss: 0.4369 - val_accuracy: 0.8922\n",
            "Epoch 44/50\n",
            "257/257 [==============================] - 98s 381ms/step - loss: 0.1528 - accuracy: 0.9480 - val_loss: 0.5417 - val_accuracy: 0.8735\n",
            "Epoch 45/50\n",
            "257/257 [==============================] - 98s 382ms/step - loss: 0.1520 - accuracy: 0.9498 - val_loss: 0.3348 - val_accuracy: 0.9132\n",
            "Epoch 46/50\n",
            "257/257 [==============================] - 98s 381ms/step - loss: 0.1463 - accuracy: 0.9503 - val_loss: 0.3661 - val_accuracy: 0.9064\n",
            "Epoch 47/50\n",
            "257/257 [==============================] - 98s 381ms/step - loss: 0.1398 - accuracy: 0.9533 - val_loss: 0.4054 - val_accuracy: 0.9044\n",
            "Epoch 48/50\n",
            "257/257 [==============================] - 98s 382ms/step - loss: 0.1373 - accuracy: 0.9507 - val_loss: 0.5473 - val_accuracy: 0.8696\n",
            "Epoch 49/50\n",
            "257/257 [==============================] - 98s 380ms/step - loss: 0.1315 - accuracy: 0.9579 - val_loss: 0.5903 - val_accuracy: 0.8730\n",
            "Epoch 50/50\n",
            "257/257 [==============================] - 99s 386ms/step - loss: 0.1230 - accuracy: 0.9571 - val_loss: 0.3661 - val_accuracy: 0.9059\n"
          ],
          "name": "stdout"
        }
      ]
    },
    {
      "cell_type": "code",
      "metadata": {
        "colab": {
          "base_uri": "https://localhost:8080/",
          "height": 295
        },
        "id": "XfJO3uZEGNF8",
        "outputId": "e6bc8c56-663f-4725-c7c8-2d6463e880d9"
      },
      "source": [
        "import matplotlib.pyplot as plt\n",
        "history = model.history\n",
        "loss = history .history['loss']\n",
        "val_loss = history.history['val_loss']\n",
        "\n",
        "epochs = range(1, len(loss) + 1)\n",
        "\n",
        "plt.plot(epochs, loss, 'bo', label='Training loss')\n",
        "plt.plot(epochs, val_loss, 'b', label='Validation loss')\n",
        "plt.title('Training and validation loss')\n",
        "plt.xlabel('Epochs')\n",
        "plt.ylabel('Loss')\n",
        "plt.legend()\n",
        "\n",
        "plt.show()"
      ],
      "execution_count": 19,
      "outputs": [
        {
          "output_type": "display_data",
          "data": {
            "image/png": "[encoded data removed]",
            "text/plain": [
              "<Figure size 432x288 with 1 Axes>"
            ]
          },
          "metadata": {
            "tags": [],
            "needs_background": "light"
          }
        }
      ]
    },
    {
      "cell_type": "code",
      "metadata": {
        "colab": {
          "base_uri": "https://localhost:8080/",
          "height": 295
        },
        "id": "miKsgQtAHE-9",
        "outputId": "042a8cb7-1f42-4ef6-ea37-cbb630c95519"
      },
      "source": [
        "plt.clf()   # clear figure\n",
        "\n",
        "acc = history .history['accuracy']\n",
        "val_acc = history .history['val_accuracy']\n",
        "\n",
        "plt.plot(epochs, acc, 'bo', label='Training acc')\n",
        "plt.plot(epochs, val_acc, 'b', label='Validation acc')\n",
        "plt.title('Training and validation accuracy')\n",
        "plt.xlabel('Epochs')\n",
        "plt.ylabel('Loss')\n",
        "plt.legend()\n",
        "\n",
        "plt.show()"
      ],
      "execution_count": 20,
      "outputs": [
        {
          "output_type": "display_data",
          "data": {
            "image/png": "[encoded data removed]",
            "text/plain": [
              "<Figure size 432x288 with 1 Axes>"
            ]
          },
          "metadata": {
            "tags": [],
            "needs_background": "light"
          }
        }
      ]
    },
    {
      "cell_type": "markdown",
      "metadata": {
        "id": "2VW8rt8VrkC7"
      },
      "source": [
        "Để predict trên tập test, ta cũng tạo một data generator với `class_mode` là `None`"
      ]
    },
    {
      "cell_type": "code",
      "metadata": {
        "id": "HTWHpPVyQR3C"
      },
      "source": [
        "test_gen = test_datagen.flow_from_dataframe(dataframe=test_df, \n",
        "                                        directory=\"data/images\", \n",
        "                                        x_col=\"image\",\n",
        "                                        class_mode=None,\n",
        "                                        shuffle=False,\n",
        "                                        batch_size=32,\n",
        "                                        target_size=(224,224))"
      ],
      "execution_count": null,
      "outputs": []
    },
    {
      "cell_type": "markdown",
      "metadata": {
        "id": "NaNHbhX6r1SQ"
      },
      "source": [
        "Lưu ý, thứ tự các lớp sẽ không tuân theo quy luật từ 0-10 mà sẽ theo thứ tự alphabet khi sử dụng ImageDataGenerator. Do đó ta cần ánh xạ các indices sau khi predict về lớp tương ứng của nó:"
      ]
    },
    {
      "cell_type": "code",
      "metadata": {
        "id": "xVb_cZ-Aoj5n"
      },
      "source": [
        "pred = model.predict_generator(test_gen)\n",
        "\n",
        "# pred là một ma trận xác suất của ảnh trên các lớp.\n",
        "# Ta lấy lớp có xác suất cao nhất trên từng ảnh bằng hàm argmax\n",
        "predicted_class_indices = np.argmax(pred, axis=1)\n",
        "\n",
        "# Dictionary ánh xạ nhãn và index\n",
        "labels = train_gen.class_indices\n",
        "\n",
        "# Ánh xạ indices về nhãn đúng\n",
        "labels = dict((v,k) for k,v in labels.items())\n",
        "predictions = [labels[k] for k in predicted_class_indices]"
      ],
      "execution_count": null,
      "outputs": []
    },
    {
      "cell_type": "markdown",
      "metadata": {
        "id": "gBTLU_fwswBx"
      },
      "source": [
        "# Baseline model 3: Transfer learning"
      ]
    },
    {
      "cell_type": "code",
      "metadata": {
        "id": "ZOQNzAFOp9qz"
      },
      "source": [
        "# from effiecientnet improt EfficientNetB3\n",
        "from tensorflow.keras.applications import EfficientNetB3\n",
        "from tensorflow.keras.applications.efficientnet import preprocess_input"
      ],
      "execution_count": 12,
      "outputs": []
    },
    {
      "cell_type": "code",
      "metadata": {
        "id": "diBHD1ShNxL6"
      },
      "source": [
        "import keras.backend as K\n",
        "\n",
        "def f1(y_true, y_pred):\n",
        "    def recall(y_true, y_pred):\n",
        "        \"\"\"Recall metric.\n",
        "\n",
        "        Only computes a batch-wise average of recall.\n",
        "\n",
        "        Computes the recall, a metric for multi-label classification of\n",
        "        how many relevant items are selected.\n",
        "        \"\"\"\n",
        "        true_positives = K.sum(K.round(K.clip(y_true * y_pred, 0, 1)))\n",
        "        possible_positives = K.sum(K.round(K.clip(y_true, 0, 1)))\n",
        "        recall = true_positives / (possible_positives + K.epsilon())\n",
        "        return recall\n",
        "\n",
        "    def precision(y_true, y_pred):\n",
        "        \"\"\"Precision metric.\n",
        "\n",
        "        Only computes a batch-wise average of precision.\n",
        "\n",
        "        Computes the precision, a metric for multi-label classification of\n",
        "        how many selected items are relevant.\n",
        "        \"\"\"\n",
        "        true_positives = K.sum(K.round(K.clip(y_true * y_pred, 0, 1)))\n",
        "        predicted_positives = K.sum(K.round(K.clip(y_pred, 0, 1)))\n",
        "        precision = true_positives / (predicted_positives + K.epsilon())\n",
        "        return precision\n",
        "    precision = precision(y_true, y_pred)\n",
        "    recall = recall(y_true, y_pred)\n",
        "    return 2*((precision*recall)/(precision+recall+K.epsilon()))"
      ],
      "execution_count": 13,
      "outputs": []
    },
    {
      "cell_type": "code",
      "metadata": {
        "id": "dYqRYl5JIJm7"
      },
      "source": [
        "# Data Generator dùng cho training\n",
        "train_datagen = tf.keras.preprocessing.image.ImageDataGenerator(\n",
        "    preprocessing_function=preprocess_input,\n",
        "    rotation_range=20,\n",
        "    width_shift_range=0.2,\n",
        "    height_shift_range=0.2,\n",
        "    horizontal_flip=True)\n",
        "\n",
        "# Data Generator dùng cho validation và testing\n",
        "test_datagen = tf.keras.preprocessing.image.ImageDataGenerator(preprocessing_function=preprocess_input)"
      ],
      "execution_count": 14,
      "outputs": []
    },
    {
      "cell_type": "code",
      "metadata": {
        "colab": {
          "base_uri": "https://localhost:8080/"
        },
        "id": "UDRnVgjiILH7",
        "outputId": "b6691046-a8b2-4005-bfcc-4ec120dedb24"
      },
      "source": [
        "batch_size = 32\n",
        "\n",
        "# ImageDataGenerator chỉ chấp nhận kiểu label là string, \n",
        "# ta chuyển cột label sang string\n",
        "train_df[\"label\"] = train_df[\"label\"].map(lambda x: str(x))\n",
        "# Chia dữ liệu thành train và validation\n",
        "train_data, val_data = train_test_split(train_df, test_size=0.25)\n",
        "\n",
        "# Tạo luồng dữ liệu cho quá trình train, các bạn có thể tìm hiểu các tham số ở Keras document\n",
        "train_gen = train_datagen.flow_from_dataframe(dataframe=train_data, \n",
        "                                        directory=\"data/images\", \n",
        "                                        x_col=\"image\", \n",
        "                                        y_col=\"label\",\n",
        "                                        class_mode=\"categorical\",\n",
        "                                        target_size=(224,224), \n",
        "                                        batch_size=batch_size)\n",
        "\n",
        "# Tạo luồng dữ liệu cho quá trình test\n",
        "val_gen = test_datagen.flow_from_dataframe(dataframe=val_data, \n",
        "                                        directory=\"data/images\", \n",
        "                                        x_col=\"image\", \n",
        "                                        y_col=\"label\",\n",
        "                                        class_mode=\"categorical\",\n",
        "                                        shuffle=False,\n",
        "                                        target_size=(224,224), \n",
        "                                        batch_size=batch_size)"
      ],
      "execution_count": 15,
      "outputs": [
        {
          "output_type": "stream",
          "text": [
            "Found 6175 validated image filenames belonging to 11 classes.\n",
            "Found 2059 validated image filenames belonging to 11 classes.\n"
          ],
          "name": "stdout"
        }
      ]
    },
    {
      "cell_type": "code",
      "metadata": {
        "id": "yM4TR8rlqB2-",
        "colab": {
          "base_uri": "https://localhost:8080/"
        },
        "outputId": "83adbf37-13c3-4a1b-e4e8-522aae7b97aa"
      },
      "source": [
        "# Số lượng training step mỗi epoch\n",
        "steps_per_epoch = train_gen.n // batch_size\n",
        "# Số lượng validation step\n",
        "validation_steps = val_gen.n // batch_size\n",
        "\n",
        "# Khởi tạo base model Resnet với pretrained weights từ ImageNet\n",
        "base_model = EfficientNetB3(weights='imagenet', include_top=False, input_shape=(224, 224, 3))\n",
        "\n",
        "# Tạo model hoàn chỉnh bằng cách thêm lớp classifier\n",
        "x = base_model.output\n",
        "x = tf.keras.layers.GlobalAveragePooling2D()(x)\n",
        "predictions = tf.keras.layers.Dense(11, activation='softmax')(x)\n",
        "model = tf.keras.Model(inputs = base_model.input, outputs = predictions)\n",
        "\n",
        "# Freeze các lớp CNN ban đầu\n",
        "base_model.trainable = False\n",
        "\n",
        "# Tạo callback để lưu model có accuracy trên tập validation tốt nhất\n",
        "mcp = tf.keras.callbacks.ModelCheckpoint(\"efficientnetb3.h5\", monitor=\"val_f1\",\n",
        "                  save_best_only=True, mode='max', save_weights_only=True, verbose=1)\n",
        "rlr = tf.keras.callbacks.ReduceLROnPlateau(monitor='val_f1', factor=0.1, mode='max', patience=5, min_lr=1e-8, verbose=1)\n",
        "\n",
        "# Compile model\n",
        "model.compile(optimizer=tf.keras.optimizers.Adam(0.01), loss='categorical_crossentropy',\n",
        "              metrics=[f1])\n",
        "\n",
        "# model.load_weights(\"efficientnetb3.h5\")\n",
        "\n",
        "# Huấn luyện 10 epochs với learning rate lớn\n",
        "model.fit(train_gen, \n",
        "                    steps_per_epoch=steps_per_epoch, \n",
        "                    epochs=10,\n",
        "                    verbose=1, \n",
        "                    validation_data=val_gen,\n",
        "                    validation_steps=validation_steps, \n",
        "                    callbacks=[mcp,rlr])\n",
        "\n",
        "# Unfreeze toàn bộ mạng\n",
        "base_model.trainable = True\n",
        "\n",
        "# Compile model\n",
        "model.compile(optimizer=tf.keras.optimizers.Adam(1e-5), loss='categorical_crossentropy',\n",
        "              metrics=[f1])\n",
        "\n",
        "\n",
        "\n",
        "# Huấn luyện 100 epochs với learning rate nhỏ\n",
        "model.fit(train_gen, \n",
        "                    steps_per_epoch=steps_per_epoch, \n",
        "                    epochs=50,\n",
        "                    verbose=1, \n",
        "                    validation_data=val_gen,\n",
        "                    validation_steps=validation_steps, \n",
        "                    callbacks=[mcp])"
      ],
      "execution_count": 35,
      "outputs": [
        {
          "output_type": "stream",
          "text": [
            "Epoch 1/10\n",
            "192/192 [==============================] - 105s 503ms/step - loss: 0.6081 - f1: 0.8087 - val_loss: 0.3072 - val_f1: 0.9039\n",
            "\n",
            "Epoch 00001: val_f1 improved from -inf to 0.90387, saving model to efficientnetb3.h5\n",
            "Epoch 2/10\n",
            "192/192 [==============================] - 95s 492ms/step - loss: 0.4183 - f1: 0.8722 - val_loss: 0.3448 - val_f1: 0.8989\n",
            "\n",
            "Epoch 00002: val_f1 did not improve from 0.90387\n",
            "Epoch 3/10\n",
            "192/192 [==============================] - 95s 492ms/step - loss: 0.3561 - f1: 0.8947 - val_loss: 0.2880 - val_f1: 0.9247\n",
            "\n",
            "Epoch 00003: val_f1 improved from 0.90387 to 0.92471, saving model to efficientnetb3.h5\n",
            "Epoch 4/10\n",
            "192/192 [==============================] - 95s 493ms/step - loss: 0.3369 - f1: 0.9012 - val_loss: 0.2542 - val_f1: 0.9236\n",
            "\n",
            "Epoch 00004: val_f1 did not improve from 0.92471\n",
            "Epoch 5/10\n",
            "192/192 [==============================] - 95s 493ms/step - loss: 0.2943 - f1: 0.9126 - val_loss: 0.2918 - val_f1: 0.9179\n",
            "\n",
            "Epoch 00005: val_f1 did not improve from 0.92471\n",
            "Epoch 6/10\n",
            "192/192 [==============================] - 94s 490ms/step - loss: 0.3311 - f1: 0.9045 - val_loss: 0.3017 - val_f1: 0.9185\n",
            "\n",
            "Epoch 00006: val_f1 did not improve from 0.92471\n",
            "Epoch 7/10\n",
            "192/192 [==============================] - 94s 491ms/step - loss: 0.2757 - f1: 0.9139 - val_loss: 0.2742 - val_f1: 0.9285\n",
            "\n",
            "Epoch 00007: val_f1 improved from 0.92471 to 0.92852, saving model to efficientnetb3.h5\n",
            "Epoch 8/10\n",
            "192/192 [==============================] - 94s 492ms/step - loss: 0.2921 - f1: 0.9124 - val_loss: 0.2956 - val_f1: 0.9214\n",
            "\n",
            "Epoch 00008: val_f1 did not improve from 0.92852\n",
            "Epoch 9/10\n",
            "192/192 [==============================] - 94s 491ms/step - loss: 0.2851 - f1: 0.9194 - val_loss: 0.2639 - val_f1: 0.9259\n",
            "\n",
            "Epoch 00009: val_f1 did not improve from 0.92852\n",
            "Epoch 10/10\n",
            "192/192 [==============================] - 94s 490ms/step - loss: 0.2837 - f1: 0.9226 - val_loss: 0.3661 - val_f1: 0.9194\n",
            "\n",
            "Epoch 00010: val_f1 did not improve from 0.92852\n",
            "Epoch 1/50\n",
            "192/192 [==============================] - 144s 684ms/step - loss: 1.9013 - f1: 0.6152 - val_loss: 0.6863 - val_f1: 0.8410\n",
            "\n",
            "Epoch 00001: val_f1 did not improve from 0.92852\n",
            "Epoch 2/50\n",
            "192/192 [==============================] - 130s 676ms/step - loss: 1.2543 - f1: 0.7210 - val_loss: 0.7177 - val_f1: 0.8292\n",
            "\n",
            "Epoch 00002: val_f1 did not improve from 0.92852\n",
            "Epoch 3/50\n",
            "192/192 [==============================] - 129s 670ms/step - loss: 0.9680 - f1: 0.7763 - val_loss: 0.6199 - val_f1: 0.8510\n",
            "\n",
            "Epoch 00003: val_f1 did not improve from 0.92852\n",
            "Epoch 4/50\n",
            "192/192 [==============================] - 129s 670ms/step - loss: 0.7901 - f1: 0.8032 - val_loss: 0.5348 - val_f1: 0.8623\n",
            "\n",
            "Epoch 00004: val_f1 did not improve from 0.92852\n",
            "Epoch 5/50\n",
            "192/192 [==============================] - 129s 667ms/step - loss: 0.6406 - f1: 0.8343 - val_loss: 0.4684 - val_f1: 0.8766\n",
            "\n",
            "Epoch 00005: val_f1 did not improve from 0.92852\n",
            "Epoch 6/50\n",
            "192/192 [==============================] - 129s 668ms/step - loss: 0.5516 - f1: 0.8560 - val_loss: 0.4223 - val_f1: 0.8863\n",
            "\n",
            "Epoch 00006: val_f1 did not improve from 0.92852\n",
            "Epoch 7/50\n",
            "192/192 [==============================] - 128s 667ms/step - loss: 0.4814 - f1: 0.8725 - val_loss: 0.3942 - val_f1: 0.8983\n",
            "\n",
            "Epoch 00007: val_f1 did not improve from 0.92852\n",
            "Epoch 8/50\n",
            "192/192 [==============================] - 128s 666ms/step - loss: 0.3978 - f1: 0.8861 - val_loss: 0.3645 - val_f1: 0.9066\n",
            "\n",
            "Epoch 00008: val_f1 did not improve from 0.92852\n",
            "Epoch 9/50\n",
            "192/192 [==============================] - 128s 664ms/step - loss: 0.3689 - f1: 0.8962 - val_loss: 0.3423 - val_f1: 0.9134\n",
            "\n",
            "Epoch 00009: val_f1 did not improve from 0.92852\n",
            "Epoch 10/50\n",
            "192/192 [==============================] - 128s 665ms/step - loss: 0.3325 - f1: 0.9021 - val_loss: 0.3295 - val_f1: 0.9159\n",
            "\n",
            "Epoch 00010: val_f1 did not improve from 0.92852\n",
            "Epoch 11/50\n",
            "192/192 [==============================] - 128s 663ms/step - loss: 0.3034 - f1: 0.9102 - val_loss: 0.3171 - val_f1: 0.9185\n",
            "\n",
            "Epoch 00011: val_f1 did not improve from 0.92852\n",
            "Epoch 12/50\n",
            "192/192 [==============================] - 128s 665ms/step - loss: 0.2629 - f1: 0.9192 - val_loss: 0.3037 - val_f1: 0.9230\n",
            "\n",
            "Epoch 00012: val_f1 did not improve from 0.92852\n",
            "Epoch 13/50\n",
            "192/192 [==============================] - 128s 664ms/step - loss: 0.2530 - f1: 0.9247 - val_loss: 0.2931 - val_f1: 0.9271\n",
            "\n",
            "Epoch 00013: val_f1 did not improve from 0.92852\n",
            "Epoch 14/50\n",
            "192/192 [==============================] - 128s 664ms/step - loss: 0.2312 - f1: 0.9271 - val_loss: 0.2852 - val_f1: 0.9276\n",
            "\n",
            "Epoch 00014: val_f1 did not improve from 0.92852\n",
            "Epoch 15/50\n",
            "192/192 [==============================] - 128s 666ms/step - loss: 0.2241 - f1: 0.9312 - val_loss: 0.2734 - val_f1: 0.9337\n",
            "\n",
            "Epoch 00015: val_f1 improved from 0.92852 to 0.93375, saving model to efficientnetb3.h5\n",
            "Epoch 16/50\n",
            "192/192 [==============================] - 128s 665ms/step - loss: 0.1995 - f1: 0.9367 - val_loss: 0.2649 - val_f1: 0.9323\n",
            "\n",
            "Epoch 00016: val_f1 did not improve from 0.93375\n",
            "Epoch 17/50\n",
            "192/192 [==============================] - 128s 665ms/step - loss: 0.1827 - f1: 0.9400 - val_loss: 0.2543 - val_f1: 0.9392\n",
            "\n",
            "Epoch 00017: val_f1 improved from 0.93375 to 0.93916, saving model to efficientnetb3.h5\n",
            "Epoch 18/50\n",
            "192/192 [==============================] - 128s 666ms/step - loss: 0.1898 - f1: 0.9411 - val_loss: 0.2490 - val_f1: 0.9387\n",
            "\n",
            "Epoch 00018: val_f1 did not improve from 0.93916\n",
            "Epoch 19/50\n",
            "192/192 [==============================] - 128s 664ms/step - loss: 0.1677 - f1: 0.9492 - val_loss: 0.2404 - val_f1: 0.9417\n",
            "\n",
            "Epoch 00019: val_f1 improved from 0.93916 to 0.94165, saving model to efficientnetb3.h5\n",
            "Epoch 20/50\n",
            "192/192 [==============================] - 128s 665ms/step - loss: 0.1464 - f1: 0.9555 - val_loss: 0.2346 - val_f1: 0.9414\n",
            "\n",
            "Epoch 00020: val_f1 did not improve from 0.94165\n",
            "Epoch 21/50\n",
            "192/192 [==============================] - 128s 665ms/step - loss: 0.1492 - f1: 0.9530 - val_loss: 0.2310 - val_f1: 0.9414\n",
            "\n",
            "Epoch 00021: val_f1 did not improve from 0.94165\n",
            "Epoch 22/50\n",
            "192/192 [==============================] - 129s 668ms/step - loss: 0.1367 - f1: 0.9559 - val_loss: 0.2276 - val_f1: 0.9436\n",
            "\n",
            "Epoch 00022: val_f1 improved from 0.94165 to 0.94362, saving model to efficientnetb3.h5\n",
            "Epoch 23/50\n",
            "192/192 [==============================] - 128s 667ms/step - loss: 0.1183 - f1: 0.9594 - val_loss: 0.2254 - val_f1: 0.9465\n",
            "\n",
            "Epoch 00023: val_f1 improved from 0.94362 to 0.94654, saving model to efficientnetb3.h5\n",
            "Epoch 24/50\n",
            "192/192 [==============================] - 128s 666ms/step - loss: 0.1204 - f1: 0.9602 - val_loss: 0.2201 - val_f1: 0.9456\n",
            "\n",
            "Epoch 00024: val_f1 did not improve from 0.94654\n",
            "Epoch 25/50\n",
            "192/192 [==============================] - 128s 667ms/step - loss: 0.1132 - f1: 0.9648 - val_loss: 0.2125 - val_f1: 0.9483\n",
            "\n",
            "Epoch 00025: val_f1 improved from 0.94654 to 0.94831, saving model to efficientnetb3.h5\n",
            "Epoch 26/50\n",
            "192/192 [==============================] - 129s 670ms/step - loss: 0.0945 - f1: 0.9675 - val_loss: 0.2111 - val_f1: 0.9498\n",
            "\n",
            "Epoch 00026: val_f1 improved from 0.94831 to 0.94985, saving model to efficientnetb3.h5\n",
            "Epoch 27/50\n",
            "192/192 [==============================] - 131s 681ms/step - loss: 0.0992 - f1: 0.9680 - val_loss: 0.2099 - val_f1: 0.9491\n",
            "\n",
            "Epoch 00027: val_f1 did not improve from 0.94985\n",
            "Epoch 28/50\n",
            "192/192 [==============================] - 129s 670ms/step - loss: 0.0951 - f1: 0.9688 - val_loss: 0.2053 - val_f1: 0.9518\n",
            "\n",
            "Epoch 00028: val_f1 improved from 0.94985 to 0.95176, saving model to efficientnetb3.h5\n",
            "Epoch 29/50\n",
            "192/192 [==============================] - 129s 672ms/step - loss: 0.0778 - f1: 0.9748 - val_loss: 0.2074 - val_f1: 0.9513\n",
            "\n",
            "Epoch 00029: val_f1 did not improve from 0.95176\n",
            "Epoch 30/50\n",
            "192/192 [==============================] - 129s 671ms/step - loss: 0.0963 - f1: 0.9693 - val_loss: 0.2120 - val_f1: 0.9459\n",
            "\n",
            "Epoch 00030: val_f1 did not improve from 0.95176\n",
            "Epoch 31/50\n",
            "192/192 [==============================] - 130s 673ms/step - loss: 0.0682 - f1: 0.9761 - val_loss: 0.2089 - val_f1: 0.9466\n",
            "\n",
            "Epoch 00031: val_f1 did not improve from 0.95176\n",
            "Epoch 32/50\n",
            "192/192 [==============================] - 129s 669ms/step - loss: 0.0837 - f1: 0.9718 - val_loss: 0.2046 - val_f1: 0.9493\n",
            "\n",
            "Epoch 00032: val_f1 did not improve from 0.95176\n",
            "Epoch 33/50\n",
            "192/192 [==============================] - 129s 669ms/step - loss: 0.0697 - f1: 0.9759 - val_loss: 0.2012 - val_f1: 0.9484\n",
            "\n",
            "Epoch 00033: val_f1 did not improve from 0.95176\n",
            "Epoch 34/50\n",
            "192/192 [==============================] - 129s 669ms/step - loss: 0.0721 - f1: 0.9747 - val_loss: 0.1969 - val_f1: 0.9486\n",
            "\n",
            "Epoch 00034: val_f1 did not improve from 0.95176\n",
            "Epoch 35/50\n",
            "192/192 [==============================] - 129s 671ms/step - loss: 0.0592 - f1: 0.9773 - val_loss: 0.1945 - val_f1: 0.9496\n",
            "\n",
            "Epoch 00035: val_f1 did not improve from 0.95176\n",
            "Epoch 36/50\n",
            "192/192 [==============================] - 128s 665ms/step - loss: 0.0574 - f1: 0.9786 - val_loss: 0.1962 - val_f1: 0.9531\n",
            "\n",
            "Epoch 00036: val_f1 improved from 0.95176 to 0.95306, saving model to efficientnetb3.h5\n",
            "Epoch 37/50\n",
            "192/192 [==============================] - 128s 666ms/step - loss: 0.0585 - f1: 0.9794 - val_loss: 0.1929 - val_f1: 0.9528\n",
            "\n",
            "Epoch 00037: val_f1 did not improve from 0.95306\n",
            "Epoch 38/50\n",
            "192/192 [==============================] - 128s 666ms/step - loss: 0.0596 - f1: 0.9786 - val_loss: 0.1875 - val_f1: 0.9542\n",
            "\n",
            "Epoch 00038: val_f1 improved from 0.95306 to 0.95421, saving model to efficientnetb3.h5\n",
            "Epoch 39/50\n",
            "192/192 [==============================] - 128s 666ms/step - loss: 0.0536 - f1: 0.9800 - val_loss: 0.1915 - val_f1: 0.9537\n",
            "\n",
            "Epoch 00039: val_f1 did not improve from 0.95421\n",
            "Epoch 40/50\n",
            "192/192 [==============================] - 128s 667ms/step - loss: 0.0495 - f1: 0.9824 - val_loss: 0.1874 - val_f1: 0.9545\n",
            "\n",
            "Epoch 00040: val_f1 improved from 0.95421 to 0.95450, saving model to efficientnetb3.h5\n",
            "Epoch 41/50\n",
            "192/192 [==============================] - 128s 666ms/step - loss: 0.0571 - f1: 0.9799 - val_loss: 0.1827 - val_f1: 0.9570\n",
            "\n",
            "Epoch 00041: val_f1 improved from 0.95450 to 0.95696, saving model to efficientnetb3.h5\n",
            "Epoch 42/50\n",
            "192/192 [==============================] - 128s 667ms/step - loss: 0.0509 - f1: 0.9823 - val_loss: 0.1861 - val_f1: 0.9547\n",
            "\n",
            "Epoch 00042: val_f1 did not improve from 0.95696\n",
            "Epoch 43/50\n",
            "192/192 [==============================] - 128s 667ms/step - loss: 0.0499 - f1: 0.9808 - val_loss: 0.1796 - val_f1: 0.9543\n",
            "\n",
            "Epoch 00043: val_f1 did not improve from 0.95696\n",
            "Epoch 44/50\n",
            "192/192 [==============================] - 129s 670ms/step - loss: 0.0525 - f1: 0.9818 - val_loss: 0.1822 - val_f1: 0.9555\n",
            "\n",
            "Epoch 00044: val_f1 did not improve from 0.95696\n",
            "Epoch 45/50\n",
            "192/192 [==============================] - 131s 679ms/step - loss: 0.0522 - f1: 0.9804 - val_loss: 0.1836 - val_f1: 0.9567\n",
            "\n",
            "Epoch 00045: val_f1 did not improve from 0.95696\n",
            "Epoch 46/50\n",
            "192/192 [==============================] - 131s 678ms/step - loss: 0.0424 - f1: 0.9847 - val_loss: 0.1806 - val_f1: 0.9550\n",
            "\n",
            "Epoch 00046: val_f1 did not improve from 0.95696\n",
            "Epoch 47/50\n",
            "192/192 [==============================] - 131s 680ms/step - loss: 0.0472 - f1: 0.9838 - val_loss: 0.1803 - val_f1: 0.9557\n",
            "\n",
            "Epoch 00047: val_f1 did not improve from 0.95696\n",
            "Epoch 48/50\n",
            "192/192 [==============================] - 131s 680ms/step - loss: 0.0373 - f1: 0.9874 - val_loss: 0.1760 - val_f1: 0.9587\n",
            "\n",
            "Epoch 00048: val_f1 improved from 0.95696 to 0.95868, saving model to efficientnetb3.h5\n",
            "Epoch 49/50\n",
            "192/192 [==============================] - 131s 680ms/step - loss: 0.0432 - f1: 0.9851 - val_loss: 0.1765 - val_f1: 0.9582\n",
            "\n",
            "Epoch 00049: val_f1 did not improve from 0.95868\n",
            "Epoch 50/50\n",
            "192/192 [==============================] - 132s 684ms/step - loss: 0.0379 - f1: 0.9871 - val_loss: 0.1759 - val_f1: 0.9604\n",
            "\n",
            "Epoch 00050: val_f1 improved from 0.95868 to 0.96036, saving model to efficientnetb3.h5\n"
          ],
          "name": "stdout"
        },
        {
          "output_type": "execute_result",
          "data": {
            "text/plain": [
              "<tensorflow.python.keras.callbacks.History at 0x7f987e4d9e90>"
            ]
          },
          "metadata": {
            "tags": []
          },
          "execution_count": 35
        }
      ]
    },
    {
      "cell_type": "code",
      "metadata": {
        "id": "uqHSMra3gFZw",
        "colab": {
          "base_uri": "https://localhost:8080/"
        },
        "outputId": "854558ce-fdb3-475d-d6c8-33802a791858"
      },
      "source": [
        "# Số lượng training step mỗi epoch\n",
        "steps_per_epoch = train_gen.n // batch_size\n",
        "# Số lượng validation step\n",
        "validation_steps = val_gen.n // batch_size\n",
        "# Khởi tạo base model Resnet với pretrained weights từ ImageNet\n",
        "base_model = tf.keras.applications.ResNet50(input_shape=(224,224,3),\n",
        "                                               include_top=False, \n",
        "                                               weights='imagenet')\n",
        "    \n",
        "# Tạo model hoàn chỉnh bằng cách thêm lớp classifier\n",
        "model = tf.keras.Sequential([\n",
        "      base_model,\n",
        "      tf.keras.layers.GlobalAveragePooling2D(),\n",
        "      tf.keras.layers.Dense(11, activation='softmax')\n",
        "    ])\n",
        "    \n",
        "    # Freeze các lớp CNN ban đầu\n",
        "base_model.trainable = False\n",
        "    \n",
        "    # Tạo callback để lưu model có accuracy trên tập validation tốt nhất\n",
        "mcp = tf.keras.callbacks.ModelCheckpoint(\"resnet50.h5\", monitor=\"val_f1\",\n",
        "                      save_best_only=True, save_weights_only=True)\n",
        "rlr = tf.keras.callbacks.ReduceLROnPlateau(monitor='val_f1', factor=0.1, mode='max', \n",
        "                                               patience=5, min_lr=1e-8, verbose=1)\n",
        "    \n",
        "    # Compile model\n",
        "model.compile(optimizer=tf.keras.optimizers.Adam(0.01), loss='categorical_crossentropy',\n",
        "                  metrics=[f1])\n",
        "    \n",
        "    # Huấn luyện 10 epochs với learning rate lớn\n",
        "model.fit(train_gen,steps_per_epoch=steps_per_epoch, \n",
        "                        epochs=10,\n",
        "                        verbose=1, \n",
        "                        validation_data=val_gen,\n",
        "                        validation_steps=validation_steps, \n",
        "                        callbacks=[mcp,rlr])\n",
        "    \n",
        "# Unfreeze toàn bộ mạng\n",
        "base_model.trainable = True\n",
        "    \n",
        "# Compile model\n",
        "model.compile(optimizer=tf.keras.optimizers.Adam(1e-5), loss='categorical_crossentropy',\n",
        "                  metrics=[f1])\n",
        "    \n",
        "# Huấn luyện 100 epochs với learning rate nhỏ\n",
        "model.fit(train_gen,steps_per_epoch=steps_per_epoch, \n",
        "                        epochs=50,\n",
        "                        verbose=1, \n",
        "                        validation_data=val_gen,\n",
        "                        validation_steps=validation_steps, \n",
        "                        callbacks=[mcp])\n",
        "    "
      ],
      "execution_count": null,
      "outputs": [
        {
          "output_type": "stream",
          "text": [
            "Downloading data from https://storage.googleapis.com/tensorflow/keras-applications/resnet/resnet50_weights_tf_dim_ordering_tf_kernels_notop.h5\n",
            "94773248/94765736 [==============================] - 1s 0us/step\n",
            "Epoch 1/10\n",
            "192/192 [==============================] - 1948s 10s/step - loss: 1.3988 - f1: 0.7094 - val_loss: 0.8266 - val_f1: 0.8420\n",
            "Epoch 2/10\n",
            "192/192 [==============================] - 94s 492ms/step - loss: 0.9159 - f1: 0.8071 - val_loss: 0.9520 - val_f1: 0.8445\n",
            "Epoch 3/10\n",
            "192/192 [==============================] - 93s 482ms/step - loss: 0.7130 - f1: 0.8487 - val_loss: 0.9783 - val_f1: 0.8411\n",
            "Epoch 4/10\n",
            "192/192 [==============================] - 92s 481ms/step - loss: 0.6551 - f1: 0.8646 - val_loss: 0.8003 - val_f1: 0.8899\n",
            "Epoch 5/10\n",
            "192/192 [==============================] - 92s 479ms/step - loss: 0.7624 - f1: 0.8595 - val_loss: 0.9626 - val_f1: 0.8755\n",
            "Epoch 6/10\n",
            "192/192 [==============================] - 92s 479ms/step - loss: 0.6828 - f1: 0.8730 - val_loss: 1.0335 - val_f1: 0.8691\n",
            "Epoch 7/10\n",
            "192/192 [==============================] - 92s 479ms/step - loss: 0.5796 - f1: 0.8923 - val_loss: 1.0992 - val_f1: 0.8752\n",
            "Epoch 8/10\n",
            "192/192 [==============================] - 92s 479ms/step - loss: 0.7057 - f1: 0.8755 - val_loss: 1.0949 - val_f1: 0.8812\n",
            "Epoch 9/10\n",
            "192/192 [==============================] - 92s 478ms/step - loss: 0.7308 - f1: 0.8824 - val_loss: 1.0708 - val_f1: 0.8795\n",
            "\n",
            "Epoch 00009: ReduceLROnPlateau reducing learning rate to 0.0009999999776482583.\n",
            "Epoch 10/10\n",
            "192/192 [==============================] - 92s 478ms/step - loss: 0.3884 - f1: 0.9259 - val_loss: 0.7621 - val_f1: 0.9126\n",
            "Epoch 1/50\n",
            "192/192 [==============================] - 116s 567ms/step - loss: 0.9723 - f1: 0.8625 - val_loss: 0.8116 - val_f1: 0.9077\n",
            "Epoch 2/50\n",
            "192/192 [==============================] - 108s 560ms/step - loss: 0.4638 - f1: 0.9171 - val_loss: 0.7087 - val_f1: 0.9162\n",
            "Epoch 3/50\n",
            "192/192 [==============================] - 108s 559ms/step - loss: 0.3109 - f1: 0.9375 - val_loss: 0.7445 - val_f1: 0.9098\n",
            "Epoch 4/50\n",
            "192/192 [==============================] - 107s 559ms/step - loss: 0.2385 - f1: 0.9480 - val_loss: 0.6351 - val_f1: 0.9218\n",
            "Epoch 5/50\n",
            "192/192 [==============================] - 108s 560ms/step - loss: 0.1643 - f1: 0.9577 - val_loss: 0.5974 - val_f1: 0.9283\n",
            "Epoch 6/50\n",
            "192/192 [==============================] - 109s 566ms/step - loss: 0.1620 - f1: 0.9634 - val_loss: 0.6156 - val_f1: 0.9254\n",
            "Epoch 7/50\n",
            "192/192 [==============================] - 108s 560ms/step - loss: 0.1385 - f1: 0.9655 - val_loss: 0.5927 - val_f1: 0.9284\n",
            "Epoch 8/50\n",
            "192/192 [==============================] - 107s 558ms/step - loss: 0.1229 - f1: 0.9695 - val_loss: 0.5533 - val_f1: 0.9318\n",
            "Epoch 9/50\n",
            "192/192 [==============================] - 108s 560ms/step - loss: 0.0828 - f1: 0.9760 - val_loss: 0.5414 - val_f1: 0.9330\n",
            "Epoch 10/50\n",
            "192/192 [==============================] - 107s 559ms/step - loss: 0.0799 - f1: 0.9776 - val_loss: 0.5461 - val_f1: 0.9335\n",
            "Epoch 11/50\n",
            "192/192 [==============================] - 108s 559ms/step - loss: 0.0977 - f1: 0.9763 - val_loss: 0.5310 - val_f1: 0.9331\n",
            "Epoch 12/50\n",
            "192/192 [==============================] - 107s 559ms/step - loss: 0.0722 - f1: 0.9809 - val_loss: 0.5461 - val_f1: 0.9338\n",
            "Epoch 13/50\n",
            "188/192 [============================>.] - ETA: 2s - loss: 0.0738 - f1: 0.9820"
          ],
          "name": "stdout"
        }
      ]
    },
    {
      "cell_type": "code",
      "metadata": {
        "colab": {
          "base_uri": "https://localhost:8080/"
        },
        "id": "MlYA3IwQD4tk",
        "outputId": "6c80eec7-5249-4049-8a87-f3fc2ff8b2b6"
      },
      "source": [
        "from tensorflow.python.client import device_lib\n",
        "print('Current Device: ', tf.test.gpu_device_name() + '\\n')\n",
        "device_lib.list_local_devices()"
      ],
      "execution_count": 1,
      "outputs": [
        {
          "output_type": "stream",
          "text": [
            "Current Device:  /device:GPU:0\n",
            "\n"
          ],
          "name": "stdout"
        },
        {
          "output_type": "execute_result",
          "data": {
            "text/plain": [
              "[name: \"/device:CPU:0\"\n",
              " device_type: \"CPU\"\n",
              " memory_limit: 268435456\n",
              " locality {\n",
              " }\n",
              " incarnation: 1951670194529485588, name: \"/device:GPU:0\"\n",
              " device_type: \"GPU\"\n",
              " memory_limit: 14509932544\n",
              " locality {\n",
              "   bus_id: 1\n",
              "   links {\n",
              "   }\n",
              " }\n",
              " incarnation: 3114433218443238655\n",
              " physical_device_desc: \"device: 0, name: Tesla T4, pci bus id: 0000:00:04.0, compute capability: 7.5\"]"
            ]
          },
          "metadata": {
            "tags": []
          },
          "execution_count": 1
        }
      ]
    },
    {
      "cell_type": "markdown",
      "metadata": {
        "id": "xPaZVmoEuSBQ"
      },
      "source": [
        "# Các phương pháp khác\n",
        "Ngoài các baseline models được giới thiệu ở trên, có thể sử dụng thêm các phương pháp khác như:\n",
        "- Sử dụng thư viện augmentation phức tạo hơn `imgaug`.\n",
        "- Oversampling để làm tăng độ cân bằng của dữ liệu.\n",
        "- Thêm weights vào hàm loss để làm tăng độ cân bằng giữa các nhãn.\n",
        "- Sử dụng các kiến trúc CNN khác, hoặc kết hợp nhiều kiến trúc lại với nhau.\n",
        "- Sử dụng ten-crop validation khi testing.\n",
        "- Sử dụng các phương pháp cross-validation để chia dữ liệu khi huấn luyện."
      ]
    }
  ]
}