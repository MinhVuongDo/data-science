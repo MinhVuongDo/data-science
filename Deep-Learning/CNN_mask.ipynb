{
  "nbformat": 4,
  "nbformat_minor": 0,
  "metadata": {
    "colab": {
      "name": "CNN_mask.ipynb",
      "provenance": []
    },
    "kernelspec": {
      "name": "python3",
      "display_name": "Python 3"
    },
    "language_info": {
      "name": "python"
    },
    "accelerator": "GPU"
  },
  "cells": [
    {
      "cell_type": "code",
      "metadata": {
        "colab": {
          "base_uri": "https://localhost:8080/"
        },
        "id": "noUVsKDca2en",
        "outputId": "ab9bb7fa-4c6d-428d-d46c-a485d25d75cd"
      },
      "source": [
        "from google.colab import drive\n",
        "drive.mount('/content/drive')"
      ],
      "execution_count": 1,
      "outputs": [
        {
          "output_type": "stream",
          "text": [
            "Mounted at /content/drive\n"
          ],
          "name": "stdout"
        }
      ]
    },
    {
      "cell_type": "code",
      "metadata": {
        "colab": {
          "base_uri": "https://localhost:8080/"
        },
        "id": "mjvJfD6jbAQ9",
        "outputId": "d9d3994e-576d-4fdb-99d6-b965809db354"
      },
      "source": [
        "cd '/content/drive/MyDrive'"
      ],
      "execution_count": 2,
      "outputs": [
        {
          "output_type": "stream",
          "text": [
            "/content/drive/MyDrive\n"
          ],
          "name": "stdout"
        }
      ]
    },
    {
      "cell_type": "code",
      "metadata": {
        "colab": {
          "base_uri": "https://localhost:8080/"
        },
        "id": "sa5xiy8yRszR",
        "outputId": "74225a5c-1fdf-42d2-ebeb-0bda60cf1720"
      },
      "source": [
        "import os \n",
        "os.listdir('./data/Face_Mask_Dataset')"
      ],
      "execution_count": 3,
      "outputs": [
        {
          "output_type": "execute_result",
          "data": {
            "text/plain": [
              "['Validation', 'Test', 'Train']"
            ]
          },
          "metadata": {
            "tags": []
          },
          "execution_count": 3
        }
      ]
    },
    {
      "cell_type": "code",
      "metadata": {
        "id": "fI9R1dFDbOuK"
      },
      "source": [
        "import tensorflow as tf\n",
        "import matplotlib.pyplot as plt\n",
        "import numpy as np\n",
        "from keras.models import Sequential\n",
        "from keras.layers import Conv2D, MaxPooling2D, BatchNormalization, Dropout, Flatten, Dense, Activation\n",
        "from keras.optimizers import Adam\n",
        "from keras.preprocessing.image import ImageDataGenerator"
      ],
      "execution_count": 4,
      "outputs": []
    },
    {
      "cell_type": "code",
      "metadata": {
        "id": "GQlACK5ub872"
      },
      "source": [
        "train_dir = './data/Face_Mask_Dataset/Train'\n",
        "val_dir = './data/Face_Mask_Dataset/Validation'\n",
        "test_dir = './data/Face_Mask_Dataset/Test'"
      ],
      "execution_count": 10,
      "outputs": []
    },
    {
      "cell_type": "code",
      "metadata": {
        "id": "3kuDR14m__6N"
      },
      "source": [
        "fig, ax = plt.subplots()"
      ],
      "execution_count": null,
      "outputs": []
    },
    {
      "cell_type": "code",
      "metadata": {
        "id": "gPSmgahzcJ1Q"
      },
      "source": [
        "height = 160\n",
        "weight = 160\n",
        "batch_size = 64"
      ],
      "execution_count": 5,
      "outputs": []
    },
    {
      "cell_type": "code",
      "metadata": {
        "id": "hC8c7k5Bczk3"
      },
      "source": [
        "train_gen = ImageDataGenerator(\n",
        "    rescale=1./255,\n",
        "    rotation_range=20,\n",
        "    width_shift_range=0.2,\n",
        "    height_shift_range=0.2,\n",
        "    horizontal_flip=True,\n",
        "    zoom_range=0.4,\n",
        "    shear_range = 0.2\n",
        ")\n",
        "val_gen = ImageDataGenerator(rescale=1./255)\n",
        "test_gen = ImageDataGenerator(rescale=1./255)"
      ],
      "execution_count": 8,
      "outputs": []
    },
    {
      "cell_type": "code",
      "metadata": {
        "colab": {
          "base_uri": "https://localhost:8080/"
        },
        "id": "ehbpQX68gH2p",
        "outputId": "5d88f0c7-2099-40a7-ca7b-66c545e95eb2"
      },
      "source": [
        "train_data = train_gen.flow_from_directory(\n",
        "    train_dir,\n",
        "    class_mode= 'categorical',\n",
        "    color_mode='rgb',\n",
        "    target_size =(height,weight) ,\n",
        "    shuffle = True,\n",
        "    batch_size = batch_size\n",
        ")\n",
        "val_data = val_gen.flow_from_directory(\n",
        "    val_dir,\n",
        "    class_mode= 'categorical',\n",
        "    color_mode='rgb',\n",
        "    target_size =(height,weight) ,\n",
        "    shuffle = False,\n",
        "    batch_size = batch_size\n",
        ")\n",
        "test_data = test_gen.flow_from_directory(\n",
        "    test_dir,\n",
        "    class_mode= 'categorical',\n",
        "    color_mode='rgb',\n",
        "    target_size =(height,weight) ,\n",
        "    shuffle = False,\n",
        "    batch_size = batch_size\n",
        ")"
      ],
      "execution_count": 11,
      "outputs": [
        {
          "output_type": "stream",
          "text": [
            "Found 10000 images belonging to 2 classes.\n",
            "Found 800 images belonging to 2 classes.\n",
            "Found 992 images belonging to 2 classes.\n"
          ],
          "name": "stdout"
        }
      ]
    },
    {
      "cell_type": "code",
      "metadata": {
        "colab": {
          "base_uri": "https://localhost:8080/"
        },
        "id": "HaX8t5MtiOZY",
        "outputId": "e58d45af-5763-4647-df19-f48ff7c66228"
      },
      "source": [
        "model = Sequential()\n",
        "\n",
        "model.add(Conv2D(32,(3,3),padding = 'same',kernel_initializer='he_normal',input_shape=(160,160, 3)))\n",
        "model.add(BatchNormalization())\n",
        "model.add(Activation('relu'))\n",
        "model.add(MaxPooling2D(pool_size = (2,2)))\n",
        "model.add(Dropout(0.2))\n",
        "\n",
        "model.add(Conv2D(64,(3,3),padding = 'same',kernel_initializer='he_normal'))\n",
        "model.add(BatchNormalization())\n",
        "model.add(Activation('relu'))\n",
        "model.add(MaxPooling2D(pool_size = (2,2)))\n",
        "model.add(Dropout(0.2))\n",
        "\n",
        "model.add(Conv2D(128,(3,3),padding = 'same',kernel_initializer='he_normal'))\n",
        "model.add(BatchNormalization())\n",
        "model.add(Activation('relu'))\n",
        "model.add(MaxPooling2D(pool_size = (2,2)))\n",
        "model.add(Dropout(0.2))\n",
        "\n",
        "model.add(Conv2D(256,(3,3),padding = 'same',kernel_initializer='he_normal'))\n",
        "model.add(BatchNormalization())\n",
        "model.add(Activation('relu'))\n",
        "model.add(MaxPooling2D(pool_size = (2,2)))\n",
        "model.add(Dropout(0.2))\n",
        "\n",
        "model.add(Conv2D(512,(3,3),padding = 'same',kernel_initializer='he_normal'))\n",
        "model.add(BatchNormalization())\n",
        "model.add(Activation('relu'))\n",
        "model.add(MaxPooling2D(pool_size = (2,2)))\n",
        "model.add(Dropout(0.2))\n",
        "\n",
        "model.add(Flatten())\n",
        "\n",
        "model.add(Dense(128, activation='relu', kernel_initializer='he_normal',kernel_regularizer='l2'))\n",
        "model.add(Dropout(0.2))\n",
        "\n",
        "model.add(Dense(2, activation='softmax'))\n",
        "model.summary()"
      ],
      "execution_count": 12,
      "outputs": [
        {
          "output_type": "stream",
          "text": [
            "Model: \"sequential\"\n",
            "_________________________________________________________________\n",
            "Layer (type)                 Output Shape              Param #   \n",
            "=================================================================\n",
            "conv2d (Conv2D)              (None, 160, 160, 32)      896       \n",
            "_________________________________________________________________\n",
            "batch_normalization (BatchNo (None, 160, 160, 32)      128       \n",
            "_________________________________________________________________\n",
            "activation (Activation)      (None, 160, 160, 32)      0         \n",
            "_________________________________________________________________\n",
            "max_pooling2d (MaxPooling2D) (None, 80, 80, 32)        0         \n",
            "_________________________________________________________________\n",
            "dropout (Dropout)            (None, 80, 80, 32)        0         \n",
            "_________________________________________________________________\n",
            "conv2d_1 (Conv2D)            (None, 80, 80, 64)        18496     \n",
            "_________________________________________________________________\n",
            "batch_normalization_1 (Batch (None, 80, 80, 64)        256       \n",
            "_________________________________________________________________\n",
            "activation_1 (Activation)    (None, 80, 80, 64)        0         \n",
            "_________________________________________________________________\n",
            "max_pooling2d_1 (MaxPooling2 (None, 40, 40, 64)        0         \n",
            "_________________________________________________________________\n",
            "dropout_1 (Dropout)          (None, 40, 40, 64)        0         \n",
            "_________________________________________________________________\n",
            "conv2d_2 (Conv2D)            (None, 40, 40, 128)       73856     \n",
            "_________________________________________________________________\n",
            "batch_normalization_2 (Batch (None, 40, 40, 128)       512       \n",
            "_________________________________________________________________\n",
            "activation_2 (Activation)    (None, 40, 40, 128)       0         \n",
            "_________________________________________________________________\n",
            "max_pooling2d_2 (MaxPooling2 (None, 20, 20, 128)       0         \n",
            "_________________________________________________________________\n",
            "dropout_2 (Dropout)          (None, 20, 20, 128)       0         \n",
            "_________________________________________________________________\n",
            "conv2d_3 (Conv2D)            (None, 20, 20, 256)       295168    \n",
            "_________________________________________________________________\n",
            "batch_normalization_3 (Batch (None, 20, 20, 256)       1024      \n",
            "_________________________________________________________________\n",
            "activation_3 (Activation)    (None, 20, 20, 256)       0         \n",
            "_________________________________________________________________\n",
            "max_pooling2d_3 (MaxPooling2 (None, 10, 10, 256)       0         \n",
            "_________________________________________________________________\n",
            "dropout_3 (Dropout)          (None, 10, 10, 256)       0         \n",
            "_________________________________________________________________\n",
            "conv2d_4 (Conv2D)            (None, 10, 10, 512)       1180160   \n",
            "_________________________________________________________________\n",
            "batch_normalization_4 (Batch (None, 10, 10, 512)       2048      \n",
            "_________________________________________________________________\n",
            "activation_4 (Activation)    (None, 10, 10, 512)       0         \n",
            "_________________________________________________________________\n",
            "max_pooling2d_4 (MaxPooling2 (None, 5, 5, 512)         0         \n",
            "_________________________________________________________________\n",
            "dropout_4 (Dropout)          (None, 5, 5, 512)         0         \n",
            "_________________________________________________________________\n",
            "flatten (Flatten)            (None, 12800)             0         \n",
            "_________________________________________________________________\n",
            "dense (Dense)                (None, 128)               1638528   \n",
            "_________________________________________________________________\n",
            "dropout_5 (Dropout)          (None, 128)               0         \n",
            "_________________________________________________________________\n",
            "dense_1 (Dense)              (None, 2)                 258       \n",
            "=================================================================\n",
            "Total params: 3,211,330\n",
            "Trainable params: 3,209,346\n",
            "Non-trainable params: 1,984\n",
            "_________________________________________________________________\n"
          ],
          "name": "stdout"
        }
      ]
    },
    {
      "cell_type": "code",
      "metadata": {
        "id": "KMBDR9yujX-7"
      },
      "source": [
        "model.compile(optimizer=Adam(learning_rate=0.001), loss='categorical_crossentropy', metrics = ['accuracy'])"
      ],
      "execution_count": 13,
      "outputs": []
    },
    {
      "cell_type": "code",
      "metadata": {
        "colab": {
          "base_uri": "https://localhost:8080/"
        },
        "id": "XSUCo5n2jqzz",
        "outputId": "49272229-63a4-4b14-9bb7-0e28509d5332"
      },
      "source": [
        "history = model.fit(\n",
        "    train_data,\n",
        "    steps_per_epoch = train_data.n//batch_size,\n",
        "    epochs = 20,verbose = 1,\n",
        "    validation_data = val_data,\n",
        "    validation_steps = val_data.n//batch_size\n",
        ")"
      ],
      "execution_count": 14,
      "outputs": [
        {
          "output_type": "stream",
          "text": [
            "Epoch 1/20\n",
            "156/156 [==============================] - 3213s 20s/step - loss: 3.1697 - accuracy: 0.8325 - val_loss: 2.5095 - val_accuracy: 0.5065\n",
            "Epoch 2/20\n",
            "156/156 [==============================] - 78s 500ms/step - loss: 0.7174 - accuracy: 0.9350 - val_loss: 0.8625 - val_accuracy: 0.7526\n",
            "Epoch 3/20\n",
            "156/156 [==============================] - 78s 503ms/step - loss: 0.3745 - accuracy: 0.9388 - val_loss: 0.3224 - val_accuracy: 0.9115\n",
            "Epoch 4/20\n",
            "156/156 [==============================] - 78s 498ms/step - loss: 0.2451 - accuracy: 0.9479 - val_loss: 0.3318 - val_accuracy: 0.9010\n",
            "Epoch 5/20\n",
            "156/156 [==============================] - 78s 502ms/step - loss: 0.2183 - accuracy: 0.9477 - val_loss: 0.1979 - val_accuracy: 0.9583\n",
            "Epoch 6/20\n",
            "156/156 [==============================] - 78s 499ms/step - loss: 0.1818 - accuracy: 0.9499 - val_loss: 0.5826 - val_accuracy: 0.8398\n",
            "Epoch 7/20\n",
            "156/156 [==============================] - 79s 505ms/step - loss: 0.1896 - accuracy: 0.9502 - val_loss: 0.1131 - val_accuracy: 0.9740\n",
            "Epoch 8/20\n",
            "156/156 [==============================] - 79s 506ms/step - loss: 0.1860 - accuracy: 0.9519 - val_loss: 0.1455 - val_accuracy: 0.9622\n",
            "Epoch 9/20\n",
            "156/156 [==============================] - 77s 496ms/step - loss: 0.1625 - accuracy: 0.9593 - val_loss: 0.2004 - val_accuracy: 0.9427\n",
            "Epoch 10/20\n",
            "156/156 [==============================] - 77s 494ms/step - loss: 0.1536 - accuracy: 0.9613 - val_loss: 0.1253 - val_accuracy: 0.9701\n",
            "Epoch 11/20\n",
            "156/156 [==============================] - 78s 498ms/step - loss: 0.1457 - accuracy: 0.9632 - val_loss: 0.1263 - val_accuracy: 0.9727\n",
            "Epoch 12/20\n",
            "156/156 [==============================] - 79s 505ms/step - loss: 0.1354 - accuracy: 0.9648 - val_loss: 0.0985 - val_accuracy: 0.9714\n",
            "Epoch 13/20\n",
            "156/156 [==============================] - 77s 495ms/step - loss: 0.1263 - accuracy: 0.9696 - val_loss: 0.2092 - val_accuracy: 0.9297\n",
            "Epoch 14/20\n",
            "156/156 [==============================] - 78s 500ms/step - loss: 0.1249 - accuracy: 0.9699 - val_loss: 0.2232 - val_accuracy: 0.9466\n",
            "Epoch 15/20\n",
            "156/156 [==============================] - 79s 505ms/step - loss: 0.1089 - accuracy: 0.9744 - val_loss: 0.0823 - val_accuracy: 0.9844\n",
            "Epoch 16/20\n",
            "156/156 [==============================] - 78s 500ms/step - loss: 0.1075 - accuracy: 0.9749 - val_loss: 0.1438 - val_accuracy: 0.9622\n",
            "Epoch 17/20\n",
            "156/156 [==============================] - 79s 503ms/step - loss: 0.1030 - accuracy: 0.9738 - val_loss: 0.1367 - val_accuracy: 0.9596\n",
            "Epoch 18/20\n",
            "156/156 [==============================] - 78s 502ms/step - loss: 0.0981 - accuracy: 0.9775 - val_loss: 0.0694 - val_accuracy: 0.9857\n",
            "Epoch 19/20\n",
            "156/156 [==============================] - 78s 498ms/step - loss: 0.1064 - accuracy: 0.9758 - val_loss: 0.0596 - val_accuracy: 0.9896\n",
            "Epoch 20/20\n",
            "156/156 [==============================] - 80s 510ms/step - loss: 0.0897 - accuracy: 0.9790 - val_loss: 0.0500 - val_accuracy: 0.9935\n"
          ],
          "name": "stdout"
        }
      ]
    },
    {
      "cell_type": "code",
      "metadata": {
        "colab": {
          "base_uri": "https://localhost:8080/"
        },
        "id": "43NpGrOwtdVu",
        "outputId": "7cae1ef2-4415-4d52-e909-00e6ea586fc8"
      },
      "source": [
        "model.evaluate(test_data)"
      ],
      "execution_count": 15,
      "outputs": [
        {
          "output_type": "stream",
          "text": [
            "16/16 [==============================] - 287s 19s/step - loss: 0.0647 - accuracy: 0.9899\n"
          ],
          "name": "stdout"
        },
        {
          "output_type": "execute_result",
          "data": {
            "text/plain": [
              "[0.06469807773828506, 0.9899193644523621]"
            ]
          },
          "metadata": {
            "tags": []
          },
          "execution_count": 15
        }
      ]
    },
    {
      "cell_type": "code",
      "metadata": {
        "id": "BDzxdFGtZ6HW"
      },
      "source": [
        "model.save('mask.h5')"
      ],
      "execution_count": 16,
      "outputs": []
    },
    {
      "cell_type": "code",
      "metadata": {
        "colab": {
          "base_uri": "https://localhost:8080/",
          "height": 295
        },
        "id": "7QF2VldMYQ7g",
        "outputId": "e259ad08-91f6-437d-ecb6-6f8124d25a72"
      },
      "source": [
        "loss = history.history['loss']\n",
        "val_loss = history.history['val_loss']\n",
        "\n",
        "epochs = range(1, len(loss) + 1)\n",
        "\n",
        "plt.plot(epochs, loss, 'bo', label='Training loss')\n",
        "plt.plot(epochs, val_loss, 'b', label='Validation loss')\n",
        "plt.title('Training and validation loss')\n",
        "plt.xlabel('Epochs')\n",
        "plt.ylabel('Loss')\n",
        "plt.legend()\n",
        "\n",
        "plt.show()"
      ],
      "execution_count": 17,
      "outputs": [
        {
          "output_type": "display_data",
          "data": {
            "image/png": "[encoded data removed]",
            "text/plain": [
              "<Figure size 432x288 with 1 Axes>"
            ]
          },
          "metadata": {
            "tags": [],
            "needs_background": "light"
          }
        }
      ]
    },
    {
      "cell_type": "code",
      "metadata": {
        "colab": {
          "base_uri": "https://localhost:8080/",
          "height": 295
        },
        "id": "I1ZzSnK5YR2E",
        "outputId": "75d36205-2414-4238-c833-91ba73389163"
      },
      "source": [
        "plt.clf()   # clear figure\n",
        "\n",
        "acc = history.history['accuracy']\n",
        "val_acc = history.history['val_accuracy']\n",
        "\n",
        "plt.plot(epochs, acc, 'bo', label='Training acc')\n",
        "plt.plot(epochs, val_acc, 'b', label='Validation acc')\n",
        "plt.title('Training and validation accuracy')\n",
        "plt.xlabel('Epochs')\n",
        "plt.ylabel('Loss')\n",
        "plt.legend()\n",
        "\n",
        "plt.show()"
      ],
      "execution_count": 18,
      "outputs": [
        {
          "output_type": "display_data",
          "data": {
            "image/png": "[encoded data removed]",
            "text/plain": [
              "<Figure size 432x288 with 1 Axes>"
            ]
          },
          "metadata": {
            "tags": [],
            "needs_background": "light"
          }
        }
      ]
    },
    {
      "cell_type": "code",
      "metadata": {
        "colab": {
          "base_uri": "https://localhost:8080/"
        },
        "id": "Dkc18y51DzAR",
        "outputId": "75896f5e-c2db-452a-adf7-2f9942e39564"
      },
      "source": [
        "\n",
        "with tf.device('/gpu:0'):\n",
        "    # Khởi tạo base model Resnet với pretrained weights từ ImageNet\n",
        "    base_model = tf.keras.applications.MobileNetV2(input_shape=(160,160,3),\n",
        "                                               include_top=False, \n",
        "                                               weights='imagenet')\n",
        "    \n",
        "    # Tạo model hoàn chỉnh bằng cách thêm lớp classifier\n",
        "    model = tf.keras.Sequential([\n",
        "      base_model,\n",
        "      tf.keras.layers.GlobalAveragePooling2D(),\n",
        "      tf.keras.layers.Dense(2, activation='softmax')\n",
        "    ])\n",
        "    \n",
        "    # Freeze các lớp CNN ban đầu\n",
        "    base_model.trainable = False\n",
        "    \n",
        "    # Tạo callback để lưu model có accuracy trên tập validation tốt nhất\n",
        "    mcp = tf.keras.callbacks.ModelCheckpoint(\"Mask_MobileNetV2.h5\", monitor=\"val_accuracy\",\n",
        "                      save_best_only=True, save_weights_only=True)\n",
        "    \n",
        "    # Compile model\n",
        "    model.compile(optimizer=tf.keras.optimizers.Adam(0.01), loss='categorical_crossentropy',\n",
        "                  metrics=['accuracy'])\n",
        "    \n",
        " \n",
        "    history = model.fit(train_data,steps_per_epoch = train_data.n//batch_size,\n",
        "                        epochs = 10,verbose = 1,\n",
        "                        validation_data = val_data,\n",
        "                        validation_steps = val_data.n//batch_size)\n",
        "    \n",
        "\n",
        "    base_model.trainable = True\n",
        "\n",
        "    model.compile(optimizer=tf.keras.optimizers.Adam(0.001), loss='categorical_crossentropy',\n",
        "                  metrics=['accuracy'])\n",
        "\n",
        "    history = model.fit(train_data,steps_per_epoch = train_data.n//batch_size,\n",
        "                        epochs = 20,verbose = 1,\n",
        "                        validation_data = val_data,\n",
        "                        validation_steps = val_data.n//batch_size,\n",
        "                        callbacks=[mcp])\n",
        "   "
      ],
      "execution_count": 19,
      "outputs": [
        {
          "output_type": "stream",
          "text": [
            "Downloading data from https://storage.googleapis.com/tensorflow/keras-applications/mobilenet_v2/mobilenet_v2_weights_tf_dim_ordering_tf_kernels_1.0_160_no_top.h5\n",
            "9412608/9406464 [==============================] - 0s 0us/step\n",
            "Epoch 1/10\n",
            "156/156 [==============================] - 79s 489ms/step - loss: 0.1694 - accuracy: 0.9501 - val_loss: 0.0521 - val_accuracy: 0.9844\n",
            "Epoch 2/10\n",
            "156/156 [==============================] - 76s 486ms/step - loss: 0.0780 - accuracy: 0.9747 - val_loss: 0.0370 - val_accuracy: 0.9870\n",
            "Epoch 3/10\n",
            "156/156 [==============================] - 75s 481ms/step - loss: 0.0714 - accuracy: 0.9782 - val_loss: 0.0452 - val_accuracy: 0.9909\n",
            "Epoch 4/10\n",
            "156/156 [==============================] - 76s 486ms/step - loss: 0.0903 - accuracy: 0.9724 - val_loss: 0.0724 - val_accuracy: 0.9792\n",
            "Epoch 5/10\n",
            "156/156 [==============================] - 75s 480ms/step - loss: 0.0811 - accuracy: 0.9768 - val_loss: 0.0847 - val_accuracy: 0.9779\n",
            "Epoch 6/10\n",
            "156/156 [==============================] - 76s 486ms/step - loss: 0.0932 - accuracy: 0.9754 - val_loss: 0.0619 - val_accuracy: 0.9844\n",
            "Epoch 7/10\n",
            "156/156 [==============================] - 75s 483ms/step - loss: 0.0857 - accuracy: 0.9801 - val_loss: 0.0528 - val_accuracy: 0.9831\n",
            "Epoch 8/10\n",
            "156/156 [==============================] - 75s 481ms/step - loss: 0.0755 - accuracy: 0.9812 - val_loss: 0.0553 - val_accuracy: 0.9870\n",
            "Epoch 9/10\n",
            "156/156 [==============================] - 75s 480ms/step - loss: 0.0959 - accuracy: 0.9764 - val_loss: 0.0704 - val_accuracy: 0.9831\n",
            "Epoch 10/10\n",
            "156/156 [==============================] - 75s 484ms/step - loss: 0.0955 - accuracy: 0.9793 - val_loss: 0.0919 - val_accuracy: 0.9779\n",
            "Epoch 1/20\n",
            "156/156 [==============================] - 91s 556ms/step - loss: 0.1807 - accuracy: 0.9759 - val_loss: 1.1080 - val_accuracy: 0.9766\n",
            "Epoch 2/20\n",
            "156/156 [==============================] - 85s 541ms/step - loss: 0.0250 - accuracy: 0.9918 - val_loss: 1.4659 - val_accuracy: 0.9648\n",
            "Epoch 3/20\n",
            "156/156 [==============================] - 85s 547ms/step - loss: 0.0211 - accuracy: 0.9935 - val_loss: 1.1833 - val_accuracy: 0.9753\n",
            "Epoch 4/20\n",
            "156/156 [==============================] - 84s 539ms/step - loss: 0.0216 - accuracy: 0.9929 - val_loss: 0.3281 - val_accuracy: 0.9844\n",
            "Epoch 5/20\n",
            "156/156 [==============================] - 85s 543ms/step - loss: 0.0750 - accuracy: 0.9795 - val_loss: 2.9157 - val_accuracy: 0.8581\n",
            "Epoch 6/20\n",
            "156/156 [==============================] - 85s 546ms/step - loss: 0.0532 - accuracy: 0.9845 - val_loss: 1.1806 - val_accuracy: 0.9596\n",
            "Epoch 7/20\n",
            "156/156 [==============================] - 84s 539ms/step - loss: 0.0241 - accuracy: 0.9915 - val_loss: 0.1459 - val_accuracy: 0.9922\n",
            "Epoch 8/20\n",
            "156/156 [==============================] - 86s 551ms/step - loss: 0.0208 - accuracy: 0.9935 - val_loss: 0.0698 - val_accuracy: 0.9922\n",
            "Epoch 9/20\n",
            "156/156 [==============================] - 86s 548ms/step - loss: 0.0118 - accuracy: 0.9955 - val_loss: 0.1576 - val_accuracy: 0.9896\n",
            "Epoch 10/20\n",
            "156/156 [==============================] - 85s 544ms/step - loss: 0.0099 - accuracy: 0.9960 - val_loss: 0.0263 - val_accuracy: 0.9974\n",
            "Epoch 11/20\n",
            "156/156 [==============================] - 85s 545ms/step - loss: 0.0075 - accuracy: 0.9977 - val_loss: 0.0196 - val_accuracy: 0.9961\n",
            "Epoch 12/20\n",
            "156/156 [==============================] - 85s 546ms/step - loss: 0.0122 - accuracy: 0.9962 - val_loss: 0.8889 - val_accuracy: 0.9596\n",
            "Epoch 13/20\n",
            "156/156 [==============================] - 86s 548ms/step - loss: 0.0153 - accuracy: 0.9953 - val_loss: 0.3499 - val_accuracy: 0.9753\n",
            "Epoch 14/20\n",
            "156/156 [==============================] - 85s 547ms/step - loss: 0.0068 - accuracy: 0.9976 - val_loss: 0.0235 - val_accuracy: 0.9961\n",
            "Epoch 15/20\n",
            "156/156 [==============================] - 85s 545ms/step - loss: 0.0075 - accuracy: 0.9977 - val_loss: 0.0733 - val_accuracy: 0.9909\n",
            "Epoch 16/20\n",
            "156/156 [==============================] - 85s 545ms/step - loss: 0.0064 - accuracy: 0.9976 - val_loss: 0.0409 - val_accuracy: 0.9922\n",
            "Epoch 17/20\n",
            "156/156 [==============================] - 85s 545ms/step - loss: 0.0073 - accuracy: 0.9977 - val_loss: 0.0145 - val_accuracy: 0.9974\n",
            "Epoch 18/20\n",
            "156/156 [==============================] - 85s 545ms/step - loss: 0.0064 - accuracy: 0.9980 - val_loss: 0.0050 - val_accuracy: 0.9987\n",
            "Epoch 19/20\n",
            "156/156 [==============================] - 85s 544ms/step - loss: 0.0082 - accuracy: 0.9973 - val_loss: 0.0042 - val_accuracy: 0.9987\n",
            "Epoch 20/20\n",
            "156/156 [==============================] - 85s 544ms/step - loss: 0.0065 - accuracy: 0.9977 - val_loss: 6.1322e-04 - val_accuracy: 1.0000\n"
          ],
          "name": "stdout"
        }
      ]
    },
    {
      "cell_type": "code",
      "metadata": {
        "colab": {
          "base_uri": "https://localhost:8080/"
        },
        "id": "Z2QHbVZJxsML",
        "outputId": "fdeb23ed-b5cd-48e0-b786-1067fbfde6f3"
      },
      "source": [
        "model.evaluate(test_data)"
      ],
      "execution_count": 20,
      "outputs": [
        {
          "output_type": "stream",
          "text": [
            "16/16 [==============================] - 3s 178ms/step - loss: 0.0040 - accuracy: 0.9990\n"
          ],
          "name": "stdout"
        },
        {
          "output_type": "execute_result",
          "data": {
            "text/plain": [
              "[0.003979865927249193, 0.9989919066429138]"
            ]
          },
          "metadata": {
            "tags": []
          },
          "execution_count": 20
        }
      ]
    },
    {
      "cell_type": "code",
      "metadata": {
        "id": "raRIDIMUihEl"
      },
      "source": [
        "model.save('mask_mobilenetv2.h5')"
      ],
      "execution_count": null,
      "outputs": []
    },
    {
      "cell_type": "code",
      "metadata": {
        "id": "Iz2pf2mmfSo4"
      },
      "source": [
        "model.save_weights('mask_mobilenetv2')"
      ],
      "execution_count": 22,
      "outputs": []
    },
    {
      "cell_type": "code",
      "metadata": {
        "colab": {
          "base_uri": "https://localhost:8080/",
          "height": 295
        },
        "id": "6uY0hnUCn6Pr",
        "outputId": "6f2817eb-32cb-44c6-fae2-91f19467c6e2"
      },
      "source": [
        "loss = history .history['loss']\n",
        "val_loss = history .history['val_loss']\n",
        "\n",
        "epochs = range(1, len(loss) + 1)\n",
        "\n",
        "plt.plot(epochs, loss, 'bo', label='Training loss')\n",
        "plt.plot(epochs, val_loss, 'b', label='Validation loss')\n",
        "plt.title('Training and validation loss')\n",
        "plt.xlabel('Epochs')\n",
        "plt.ylabel('Loss')\n",
        "plt.legend()\n",
        "\n",
        "plt.show()"
      ],
      "execution_count": 23,
      "outputs": [
        {
          "output_type": "display_data",
          "data": {
            "image/png": "[encoded data removed]",
            "text/plain": [
              "<Figure size 432x288 with 1 Axes>"
            ]
          },
          "metadata": {
            "tags": [],
            "needs_background": "light"
          }
        }
      ]
    },
    {
      "cell_type": "code",
      "metadata": {
        "colab": {
          "base_uri": "https://localhost:8080/",
          "height": 295
        },
        "id": "fCttkeYaoElJ",
        "outputId": "6a886123-3855-4131-92b4-b189b0decf10"
      },
      "source": [
        "plt.clf()\n",
        "acc = history .history['accuracy']\n",
        "val_acc = history .history['val_accuracy']\n",
        "\n",
        "plt.plot(epochs, acc, 'bo', label='Training acc')\n",
        "plt.plot(epochs, val_acc, 'b', label='Validation acc')\n",
        "plt.title('Training and validation accuracy')\n",
        "plt.xlabel('Epochs')\n",
        "plt.ylabel('Loss')\n",
        "plt.legend()\n",
        "\n",
        "plt.show()"
      ],
      "execution_count": 24,
      "outputs": [
        {
          "output_type": "display_data",
          "data": {
            "image/png": "[encoded data removed]",
            "text/plain": [
              "<Figure size 432x288 with 1 Axes>"
            ]
          },
          "metadata": {
            "tags": [],
            "needs_background": "light"
          }
        }
      ]
    },
    {
      "cell_type": "code",
      "metadata": {
        "colab": {
          "base_uri": "https://localhost:8080/"
        },
        "id": "hutfqy7igsd9",
        "outputId": "01120f21-ecbb-41a7-828a-4267df4e9699"
      },
      "source": [
        "with tf.device('/gpu:0'):\n",
        "    # Khởi tạo base model Resnet với pretrained weights từ ImageNet\n",
        "    base_model = tf.keras.applications.DenseNet121(input_shape=(160,160,3),\n",
        "                                               include_top=False, \n",
        "                                               weights='imagenet')\n",
        "    \n",
        "    # Tạo model hoàn chỉnh bằng cách thêm lớp classifier\n",
        "    model = tf.keras.Sequential([\n",
        "      base_model,\n",
        "      tf.keras.layers.GlobalAveragePooling2D(),\n",
        "      tf.keras.layers.Dense(2, activation='softmax')\n",
        "    ])\n",
        "    \n",
        "    # Freeze các lớp CNN ban đầu\n",
        "    base_model.trainable = False\n",
        "    \n",
        "    # Tạo callback để lưu model có accuracy trên tập validation tốt nhất\n",
        "    mcp = tf.keras.callbacks.ModelCheckpoint(\"Mask_DenseNet121.h5\", monitor=\"val_accuracy\",\n",
        "                      save_best_only=True, save_weights_only=True)\n",
        "    \n",
        "   \n",
        "    model.compile(optimizer=tf.keras.optimizers.Adam(0.01), loss='categorical_crossentropy',\n",
        "                  metrics=['accuracy'])\n",
        "    \n",
        "    history = model.fit(train_data,steps_per_epoch = train_data.n//batch_size,\n",
        "                        epochs = 10,verbose = 1,\n",
        "                        validation_data = val_data,\n",
        "                        validation_steps = val_data.n//batch_size)\n",
        " \n",
        "    base_model.trainable = True\n",
        "    \n",
        "    model.compile(optimizer=tf.keras.optimizers.Adam(0.001), loss='categorical_crossentropy',\n",
        "                  metrics=['accuracy'])\n",
        "  \n",
        "    history = model.fit(train_data,steps_per_epoch = train_data.n//batch_size,\n",
        "                        epochs = 20,verbose = 1,\n",
        "                        validation_data = val_data,\n",
        "                        validation_steps = val_data.n//batch_size,\n",
        "                        callbacks=[mcp])"
      ],
      "execution_count": 25,
      "outputs": [
        {
          "output_type": "stream",
          "text": [
            "Downloading data from https://storage.googleapis.com/tensorflow/keras-applications/densenet/densenet121_weights_tf_dim_ordering_tf_kernels_notop.h5\n",
            "29089792/29084464 [==============================] - 0s 0us/step\n",
            "Epoch 1/10\n",
            "156/156 [==============================] - 87s 515ms/step - loss: 0.1305 - accuracy: 0.9615 - val_loss: 0.0027 - val_accuracy: 1.0000\n",
            "Epoch 2/10\n",
            "156/156 [==============================] - 80s 509ms/step - loss: 0.0415 - accuracy: 0.9868 - val_loss: 0.0025 - val_accuracy: 1.0000\n",
            "Epoch 3/10\n",
            "156/156 [==============================] - 79s 507ms/step - loss: 0.0255 - accuracy: 0.9917 - val_loss: 0.0032 - val_accuracy: 0.9987\n",
            "Epoch 4/10\n",
            "156/156 [==============================] - 79s 504ms/step - loss: 0.0233 - accuracy: 0.9909 - val_loss: 0.0117 - val_accuracy: 0.9961\n",
            "Epoch 5/10\n",
            "156/156 [==============================] - 79s 507ms/step - loss: 0.0334 - accuracy: 0.9896 - val_loss: 0.0092 - val_accuracy: 0.9974\n",
            "Epoch 6/10\n",
            "156/156 [==============================] - 79s 508ms/step - loss: 0.0323 - accuracy: 0.9905 - val_loss: 5.9750e-04 - val_accuracy: 1.0000\n",
            "Epoch 7/10\n",
            "156/156 [==============================] - 78s 501ms/step - loss: 0.0383 - accuracy: 0.9902 - val_loss: 0.0019 - val_accuracy: 1.0000\n",
            "Epoch 8/10\n",
            "156/156 [==============================] - 81s 518ms/step - loss: 0.0327 - accuracy: 0.9920 - val_loss: 0.0157 - val_accuracy: 0.9961\n",
            "Epoch 9/10\n",
            "156/156 [==============================] - 79s 506ms/step - loss: 0.0356 - accuracy: 0.9908 - val_loss: 0.0059 - val_accuracy: 0.9974\n",
            "Epoch 10/10\n",
            "156/156 [==============================] - 79s 505ms/step - loss: 0.0360 - accuracy: 0.9904 - val_loss: 0.0013 - val_accuracy: 1.0000\n",
            "Epoch 1/20\n",
            "156/156 [==============================] - 112s 634ms/step - loss: 0.1987 - accuracy: 0.9697 - val_loss: 0.0979 - val_accuracy: 0.9779\n",
            "Epoch 2/20\n",
            "156/156 [==============================] - 96s 616ms/step - loss: 0.0355 - accuracy: 0.9893 - val_loss: 0.0254 - val_accuracy: 0.9935\n",
            "Epoch 3/20\n",
            "156/156 [==============================] - 95s 610ms/step - loss: 0.0209 - accuracy: 0.9920 - val_loss: 0.0076 - val_accuracy: 0.9961\n",
            "Epoch 4/20\n",
            "156/156 [==============================] - 96s 616ms/step - loss: 0.0149 - accuracy: 0.9950 - val_loss: 0.0094 - val_accuracy: 0.9974\n",
            "Epoch 5/20\n",
            "156/156 [==============================] - 95s 607ms/step - loss: 0.0206 - accuracy: 0.9931 - val_loss: 0.0247 - val_accuracy: 0.9909\n",
            "Epoch 6/20\n",
            "156/156 [==============================] - 96s 613ms/step - loss: 0.0145 - accuracy: 0.9953 - val_loss: 0.0025 - val_accuracy: 1.0000\n",
            "Epoch 7/20\n",
            "156/156 [==============================] - 95s 610ms/step - loss: 0.0106 - accuracy: 0.9966 - val_loss: 0.0057 - val_accuracy: 0.9974\n",
            "Epoch 8/20\n",
            "156/156 [==============================] - 95s 606ms/step - loss: 0.0093 - accuracy: 0.9969 - val_loss: 0.0040 - val_accuracy: 0.9987\n",
            "Epoch 9/20\n",
            "156/156 [==============================] - 96s 613ms/step - loss: 0.0133 - accuracy: 0.9954 - val_loss: 0.0221 - val_accuracy: 0.9922\n",
            "Epoch 10/20\n",
            "156/156 [==============================] - 94s 601ms/step - loss: 0.0120 - accuracy: 0.9954 - val_loss: 0.0271 - val_accuracy: 0.9935\n",
            "Epoch 11/20\n",
            "156/156 [==============================] - 95s 611ms/step - loss: 0.0186 - accuracy: 0.9937 - val_loss: 0.0404 - val_accuracy: 0.9870\n",
            "Epoch 12/20\n",
            "156/156 [==============================] - 94s 602ms/step - loss: 0.0230 - accuracy: 0.9918 - val_loss: 0.0395 - val_accuracy: 0.9909\n",
            "Epoch 13/20\n",
            "156/156 [==============================] - 95s 610ms/step - loss: 0.0137 - accuracy: 0.9956 - val_loss: 0.0334 - val_accuracy: 0.9909\n",
            "Epoch 14/20\n",
            "156/156 [==============================] - 96s 612ms/step - loss: 0.0137 - accuracy: 0.9947 - val_loss: 0.0093 - val_accuracy: 0.9961\n",
            "Epoch 15/20\n",
            "156/156 [==============================] - 95s 607ms/step - loss: 0.0076 - accuracy: 0.9973 - val_loss: 0.0037 - val_accuracy: 0.9987\n",
            "Epoch 16/20\n",
            "156/156 [==============================] - 94s 604ms/step - loss: 0.0188 - accuracy: 0.9933 - val_loss: 1.9716 - val_accuracy: 0.7669\n",
            "Epoch 17/20\n",
            "156/156 [==============================] - 96s 612ms/step - loss: 0.0523 - accuracy: 0.9812 - val_loss: 0.1183 - val_accuracy: 0.9661\n",
            "Epoch 18/20\n",
            "156/156 [==============================] - 94s 602ms/step - loss: 0.0192 - accuracy: 0.9940 - val_loss: 0.0027 - val_accuracy: 0.9987\n",
            "Epoch 19/20\n",
            "156/156 [==============================] - 95s 610ms/step - loss: 0.0174 - accuracy: 0.9939 - val_loss: 0.1654 - val_accuracy: 0.9544\n",
            "Epoch 20/20\n",
            "156/156 [==============================] - 94s 603ms/step - loss: 0.0148 - accuracy: 0.9956 - val_loss: 0.0027 - val_accuracy: 0.9987\n"
          ],
          "name": "stdout"
        }
      ]
    },
    {
      "cell_type": "code",
      "metadata": {
        "id": "3EOolW6hkOvv"
      },
      "source": [
        "model.save_weights('DenseNet121')"
      ],
      "execution_count": 29,
      "outputs": []
    },
    {
      "cell_type": "code",
      "metadata": {
        "colab": {
          "base_uri": "https://localhost:8080/"
        },
        "id": "xNaItDiOZEAm",
        "outputId": "2afc71f3-24bc-4d9a-9f2f-45de5e15d55d"
      },
      "source": [
        "model.evaluate(test_data)"
      ],
      "execution_count": 26,
      "outputs": [
        {
          "output_type": "stream",
          "text": [
            "16/16 [==============================] - 4s 265ms/step - loss: 0.0027 - accuracy: 0.9990\n"
          ],
          "name": "stdout"
        },
        {
          "output_type": "execute_result",
          "data": {
            "text/plain": [
              "[0.002722869161516428, 0.9989919066429138]"
            ]
          },
          "metadata": {
            "tags": []
          },
          "execution_count": 26
        }
      ]
    },
    {
      "cell_type": "code",
      "metadata": {
        "colab": {
          "base_uri": "https://localhost:8080/",
          "height": 295
        },
        "id": "_mBPBncMtQxH",
        "outputId": "66118db9-22de-4010-e791-e9610a659f80"
      },
      "source": [
        "loss = history.history['loss']\n",
        "val_loss = history.history['val_loss']\n",
        "\n",
        "epochs = range(1, len(loss) + 1)\n",
        "\n",
        "plt.plot(epochs, loss, 'bo', label='Training loss')\n",
        "plt.plot(epochs, val_loss, 'b', label='Validation loss')\n",
        "plt.title('Training and validation loss')\n",
        "plt.xlabel('Epochs')\n",
        "plt.ylabel('Loss')\n",
        "plt.legend()\n",
        "plt.show()"
      ],
      "execution_count": 27,
      "outputs": [
        {
          "output_type": "display_data",
          "data": {
            "image/png": "[encoded data removed]",
            "text/plain": [
              "<Figure size 432x288 with 1 Axes>"
            ]
          },
          "metadata": {
            "tags": [],
            "needs_background": "light"
          }
        }
      ]
    },
    {
      "cell_type": "code",
      "metadata": {
        "colab": {
          "base_uri": "https://localhost:8080/",
          "height": 295
        },
        "id": "QJrZugx2YxyF",
        "outputId": "d8eec78d-ce67-41df-a409-1fcde6ea0022"
      },
      "source": [
        "plt.clf()   # clear figure\n",
        "\n",
        "acc = history.history['accuracy']\n",
        "val_acc = history.history['val_accuracy']\n",
        "\n",
        "plt.plot(epochs, acc, 'bo', label='Training acc')\n",
        "plt.plot(epochs, val_acc, 'b', label='Validation acc')\n",
        "plt.title('Training and validation accuracy')\n",
        "plt.xlabel('Epochs')\n",
        "plt.ylabel('Loss')\n",
        "plt.legend()\n",
        "\n",
        "plt.show()"
      ],
      "execution_count": 28,
      "outputs": [
        {
          "output_type": "display_data",
          "data": {
            "image/png": "[encoded data removed]",
            "text/plain": [
              "<Figure size 432x288 with 1 Axes>"
            ]
          },
          "metadata": {
            "tags": [],
            "needs_background": "light"
          }
        }
      ]
    }
  ]
}