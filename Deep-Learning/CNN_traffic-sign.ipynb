{
  "nbformat": 4,
  "nbformat_minor": 0,
  "metadata": {
    "colab": {
      "name": "traffic.ipynb",
      "provenance": [],
      "collapsed_sections": []
    },
    "kernelspec": {
      "name": "python3",
      "display_name": "Python 3"
    },
    "accelerator": "GPU"
  },
  "cells": [
    {
      "cell_type": "code",
      "metadata": {
        "colab": {
          "base_uri": "https://localhost:8080/"
        },
        "id": "2kCevN9Doyls",
        "outputId": "529ae406-8e89-49fe-85bd-23c83b071e2d"
      },
      "source": [
        "!wget https://d17h27t6h515a5.cloudfront.net/topher/2017/February/5898cd6f_traffic-signs-data/traffic-signs-data.zip\n",
        "!unzip -q traffic-signs-data.zip"
      ],
      "execution_count": 1,
      "outputs": [
        {
          "output_type": "stream",
          "text": [
            "--2021-06-17 12:01:15--  https://d17h27t6h515a5.cloudfront.net/topher/2017/February/5898cd6f_traffic-signs-data/traffic-signs-data.zip\n",
            "Resolving d17h27t6h515a5.cloudfront.net (d17h27t6h515a5.cloudfront.net)... 13.226.39.136, 13.226.39.80, 13.226.39.65, ...\n",
            "Connecting to d17h27t6h515a5.cloudfront.net (d17h27t6h515a5.cloudfront.net)|13.226.39.136|:443... connected.\n",
            "HTTP request sent, awaiting response... 200 OK\n",
            "Length: 123524425 (118M) [application/zip]\n",
            "Saving to: ‘traffic-signs-data.zip.1’\n",
            "\n",
            "traffic-signs-data. 100%[===================>] 117.80M  44.2MB/s    in 2.7s    \n",
            "\n",
            "2021-06-17 12:01:18 (44.2 MB/s) - ‘traffic-signs-data.zip.1’ saved [123524425/123524425]\n",
            "\n",
            "replace test.p? [y]es, [n]o, [A]ll, [N]one, [r]ename: "
          ],
          "name": "stdout"
        }
      ]
    },
    {
      "cell_type": "code",
      "metadata": {
        "id": "Ca2jcPzjTiMj"
      },
      "source": [
        "train_link = \"train.p\"\n",
        "valid_link = \"valid.p\"\n",
        "test_link = \"test.p\""
      ],
      "execution_count": 4,
      "outputs": []
    },
    {
      "cell_type": "code",
      "metadata": {
        "id": "Cut39oWG2Rto"
      },
      "source": [
        "!rm traffic-signs-data.zip.1 "
      ],
      "execution_count": 3,
      "outputs": []
    },
    {
      "cell_type": "code",
      "metadata": {
        "id": "Ei6tTrd8TrQi"
      },
      "source": [
        "import pickle\n",
        "import matplotlib.pyplot as plt\n",
        "from sklearn.utils import shuffle\n"
      ],
      "execution_count": 5,
      "outputs": []
    },
    {
      "cell_type": "code",
      "metadata": {
        "id": "2R8N8OxQTxFN"
      },
      "source": [
        "with open(train_link, mode = 'rb') as f:\n",
        "  train = pickle.load(f)\n",
        "with open(test_link, mode = 'rb') as f:\n",
        "  test = pickle.load(f)\n",
        "with open(valid_link, mode=\"rb\") as f:\n",
        "  valid = pickle.load(f)"
      ],
      "execution_count": 6,
      "outputs": []
    },
    {
      "cell_type": "code",
      "metadata": {
        "id": "j7e4TaAWVm2_"
      },
      "source": [
        "trainX = train['features']\n",
        "trainY = train['labels']"
      ],
      "execution_count": 7,
      "outputs": []
    },
    {
      "cell_type": "code",
      "metadata": {
        "id": "2q54-jWvJIPw",
        "colab": {
          "base_uri": "https://localhost:8080/",
          "height": 303
        },
        "outputId": "08671b10-45c2-48f8-c864-7df332493d24"
      },
      "source": [
        "print(trainY[0])\n",
        "\n",
        "plt.imshow(trainX[0])"
      ],
      "execution_count": 8,
      "outputs": [
        {
          "output_type": "stream",
          "text": [
            "41\n"
          ],
          "name": "stdout"
        },
        {
          "output_type": "execute_result",
          "data": {
            "text/plain": [
              "<matplotlib.image.AxesImage at 0x7f8b5715e4d0>"
            ]
          },
          "metadata": {
            "tags": []
          },
          "execution_count": 8
        },
        {
          "output_type": "display_data",
          "data": {
            "image/png": "[encoded data removed]",
            "text/plain": [
              "<Figure size 432x288 with 1 Axes>"
            ]
          },
          "metadata": {
            "tags": [],
            "needs_background": "light"
          }
        }
      ]
    },
    {
      "cell_type": "code",
      "metadata": {
        "colab": {
          "base_uri": "https://localhost:8080/"
        },
        "id": "ZwnDD4khbZmZ",
        "outputId": "862ddebe-f083-4334-856e-c625c086ac02"
      },
      "source": [
        "train['coords'][2]"
      ],
      "execution_count": 7,
      "outputs": [
        {
          "output_type": "execute_result",
          "data": {
            "text/plain": [
              "array([ 5,  6, 22, 23], dtype=uint8)"
            ]
          },
          "metadata": {
            "tags": []
          },
          "execution_count": 7
        }
      ]
    },
    {
      "cell_type": "code",
      "metadata": {
        "id": "4f43DIlbVzRH",
        "colab": {
          "base_uri": "https://localhost:8080/",
          "height": 266
        },
        "outputId": "4bcb598f-62fa-4923-8704-dfa3c63ff42c"
      },
      "source": [
        "plt.imshow(trainX[0])\n",
        "classNames = {0: 'Speed limit (20km/h)',\n",
        " 1: 'Speed limit (30km/h)',\n",
        " 2: 'Speed limit (50km/h)',\n",
        " 3: 'Speed limit (60km/h)',\n",
        " 4: 'Speed limit (70km/h)',\n",
        " 5: 'Speed limit (80km/h)',\n",
        " 6: 'End of speed limit (80km/h)',\n",
        " 7: 'Speed limit (100km/h)',\n",
        " 8: 'Speed limit (120km/h)',\n",
        " 9: 'No passing',\n",
        " 10: 'No passing for vehicles over 3.5 metric tons',\n",
        " 11: 'Right-of-way at the next intersection',\n",
        " 12: 'Priority road',\n",
        " 13: 'Yield',\n",
        " 14: 'Stop',\n",
        " 15: 'No vehicles',\n",
        " 16: 'Vehicles over 3.5 metric tons prohibited',\n",
        " 17: 'No entry',\n",
        " 18: 'General caution',\n",
        " 19: 'Dangerous curve to the left',\n",
        " 20: 'Dangerous curve to the right',\n",
        " 21: 'Double curve',\n",
        " 22: 'Bumpy road',\n",
        " 23: 'Slippery road',\n",
        " 24: 'Road narrows on the right',\n",
        " 25: 'Road work',\n",
        " 26: 'Traffic signals',\n",
        " 27: 'Pedestrians',\n",
        " 28: 'Children crossing',\n",
        " 29: 'Bicycles crossing',\n",
        " 30: 'Beware of ice/snow',\n",
        " 31: 'Wild animals crossing',\n",
        " 32: 'End of all speed and passing limits',\n",
        " 33: 'Turn right ahead',\n",
        " 34: 'Turn left ahead',\n",
        " 35: 'Ahead only',\n",
        " 36: 'Go straight or right',\n",
        " 37: 'Go straight or left',\n",
        " 38: 'Keep right',\n",
        " 39: 'Keep left',\n",
        " 40: 'Roundabout mandatory',\n",
        " 41: 'End of no passing',\n",
        " 42: 'End of no passing by vehicles over 3.5 metric tons'}"
      ],
      "execution_count": null,
      "outputs": [
        {
          "output_type": "display_data",
          "data": {
            "image/png": "[encoded data removed]",
            "text/plain": [
              "<Figure size 432x288 with 1 Axes>"
            ]
          },
          "metadata": {
            "tags": [],
            "needs_background": "light"
          }
        }
      ]
    },
    {
      "cell_type": "code",
      "metadata": {
        "id": "1MHXutNvWbax"
      },
      "source": [
        "trainX, trainY = shuffle(trainX, trainY)"
      ],
      "execution_count": 9,
      "outputs": []
    },
    {
      "cell_type": "code",
      "metadata": {
        "id": "So8CcAhLYP9P"
      },
      "source": [
        "from sklearn.preprocessing import LabelBinarizer\n",
        "lb = LabelBinarizer()"
      ],
      "execution_count": 10,
      "outputs": []
    },
    {
      "cell_type": "code",
      "metadata": {
        "id": "DMKlk6fYXnyN"
      },
      "source": [
        "validX = valid[\"features\"]\n",
        "validY = valid[\"labels\"]\n",
        "testX = test[\"features\"]\n",
        "testY = test[\"labels\"]\n",
        "trainX = trainX.astype(\"float\") / 255.0\n",
        "validX = validX.astype(\"float\") / 255.0\n",
        "testX = testX.astype(\"float\") / 255.0\n",
        "trainY = lb.fit_transform(trainY)\n",
        "validY = lb.fit_transform(validY)"
      ],
      "execution_count": 11,
      "outputs": []
    },
    {
      "cell_type": "code",
      "metadata": {
        "id": "FzLxYqHEXZpE"
      },
      "source": [
        "import tensorflow as tf\n",
        "from keras.models import Sequential\n",
        "from keras.layers import Conv2D, MaxPooling2D, BatchNormalization, Flatten, Dense,Dropout\n",
        "from tensorflow.keras.preprocessing.image import ImageDataGenerator\n",
        "from tensorflow.keras.optimizers import SGD"
      ],
      "execution_count": 13,
      "outputs": []
    },
    {
      "cell_type": "code",
      "metadata": {
        "id": "BRInYsAUY1H6"
      },
      "source": [
        "num_classes = 43"
      ],
      "execution_count": 14,
      "outputs": []
    },
    {
      "cell_type": "code",
      "metadata": {
        "id": "Ln_aD42DYsTq",
        "colab": {
          "base_uri": "https://localhost:8080/"
        },
        "outputId": "5ecbfc1e-64a4-4e4a-b7a5-6ce6ea8e6cc0"
      },
      "source": [
        "model = Sequential()\n",
        "\n",
        "model.add(Conv2D(filters=32, kernel_size=(2, 2), padding='same', activation='relu', input_shape = (32,32,3)))\n",
        "model.add(BatchNormalization())\n",
        "model.add(Conv2D(filters = 32, kernel_size=(2,2), padding = 'same', activation = 'relu'))\n",
        "model.add(BatchNormalization())\n",
        "model.add(MaxPooling2D(pool_size = (2,2)))\n",
        "\n",
        "model.add(Conv2D(filters = 64, kernel_size=(2,2), padding = 'same', activation = 'relu'))\n",
        "model.add(BatchNormalization())\n",
        "model.add(Conv2D(filters = 64, kernel_size=(2,2), padding = 'same', activation = 'relu'))\n",
        "model.add(BatchNormalization())\n",
        "model.add(MaxPooling2D(pool_size = (2,2)))\n",
        "\n",
        "model.add(Conv2D(filters = 128, kernel_size=(2,2), padding = 'same', activation = 'relu'))\n",
        "model.add(BatchNormalization())\n",
        "model.add(Conv2D(filters = 128, kernel_size=(2,2), padding = 'same', activation = 'relu'))\n",
        "model.add(BatchNormalization())\n",
        "model.add(MaxPooling2D(pool_size = (2,2)))\n",
        "\n",
        "model.add(Flatten())\n",
        "model.add(Dense(256, activation = 'relu', kernel_regularizer='l2'))\n",
        "model.add(Dropout(0.2))\n",
        "model.add(Dense(256, activation = 'relu',kernel_regularizer='l2'))\n",
        "model.add(Dropout(0.2))\n",
        "model.add(Dense(256, activation = 'relu',kernel_regularizer='l2'))\n",
        "model.add(Dropout(0.2))\n",
        "model.add(Dense(num_classes, activation=\"softmax\"))                                  \n",
        "model.summary()"
      ],
      "execution_count": 15,
      "outputs": [
        {
          "output_type": "stream",
          "text": [
            "Model: \"sequential\"\n",
            "_________________________________________________________________\n",
            "Layer (type)                 Output Shape              Param #   \n",
            "=================================================================\n",
            "conv2d (Conv2D)              (None, 32, 32, 32)        416       \n",
            "_________________________________________________________________\n",
            "batch_normalization (BatchNo (None, 32, 32, 32)        128       \n",
            "_________________________________________________________________\n",
            "conv2d_1 (Conv2D)            (None, 32, 32, 32)        4128      \n",
            "_________________________________________________________________\n",
            "batch_normalization_1 (Batch (None, 32, 32, 32)        128       \n",
            "_________________________________________________________________\n",
            "max_pooling2d (MaxPooling2D) (None, 16, 16, 32)        0         \n",
            "_________________________________________________________________\n",
            "conv2d_2 (Conv2D)            (None, 16, 16, 64)        8256      \n",
            "_________________________________________________________________\n",
            "batch_normalization_2 (Batch (None, 16, 16, 64)        256       \n",
            "_________________________________________________________________\n",
            "conv2d_3 (Conv2D)            (None, 16, 16, 64)        16448     \n",
            "_________________________________________________________________\n",
            "batch_normalization_3 (Batch (None, 16, 16, 64)        256       \n",
            "_________________________________________________________________\n",
            "max_pooling2d_1 (MaxPooling2 (None, 8, 8, 64)          0         \n",
            "_________________________________________________________________\n",
            "conv2d_4 (Conv2D)            (None, 8, 8, 128)         32896     \n",
            "_________________________________________________________________\n",
            "batch_normalization_4 (Batch (None, 8, 8, 128)         512       \n",
            "_________________________________________________________________\n",
            "conv2d_5 (Conv2D)            (None, 8, 8, 128)         65664     \n",
            "_________________________________________________________________\n",
            "batch_normalization_5 (Batch (None, 8, 8, 128)         512       \n",
            "_________________________________________________________________\n",
            "max_pooling2d_2 (MaxPooling2 (None, 4, 4, 128)         0         \n",
            "_________________________________________________________________\n",
            "flatten (Flatten)            (None, 2048)              0         \n",
            "_________________________________________________________________\n",
            "dense (Dense)                (None, 256)               524544    \n",
            "_________________________________________________________________\n",
            "dropout (Dropout)            (None, 256)               0         \n",
            "_________________________________________________________________\n",
            "dense_1 (Dense)              (None, 256)               65792     \n",
            "_________________________________________________________________\n",
            "dropout_1 (Dropout)          (None, 256)               0         \n",
            "_________________________________________________________________\n",
            "dense_2 (Dense)              (None, 256)               65792     \n",
            "_________________________________________________________________\n",
            "dropout_2 (Dropout)          (None, 256)               0         \n",
            "_________________________________________________________________\n",
            "dense_3 (Dense)              (None, 43)                11051     \n",
            "=================================================================\n",
            "Total params: 796,779\n",
            "Trainable params: 795,883\n",
            "Non-trainable params: 896\n",
            "_________________________________________________________________\n"
          ],
          "name": "stdout"
        }
      ]
    },
    {
      "cell_type": "code",
      "metadata": {
        "id": "elA2rqUBbze4"
      },
      "source": [
        "aug = ImageDataGenerator(rotation_range=0.18, zoom_range=0.15, \n",
        "                         width_shift_range=0.2, height_shift_range=0.2, \n",
        "                         horizontal_flip=True)"
      ],
      "execution_count": 16,
      "outputs": []
    },
    {
      "cell_type": "code",
      "metadata": {
        "id": "f5b1lwJCb1Be"
      },
      "source": [
        "learning_rate = 0.001\n",
        "epochs = 40\n",
        "batch_size = 128"
      ],
      "execution_count": 17,
      "outputs": []
    },
    {
      "cell_type": "code",
      "metadata": {
        "id": "9wv07HZeb8Ni",
        "colab": {
          "base_uri": "https://localhost:8080/"
        },
        "outputId": "f076a7f1-acc4-455b-925e-9102deabc878"
      },
      "source": [
        "opt = SGD(learning_rate=learning_rate, momentum=0.9)\n",
        "model.compile(optimizer=opt, loss=\"categorical_crossentropy\", metrics=[\"accuracy\"])\n",
        "H = model.fit(aug.flow(trainX, trainY, batch_size=batch_size), validation_data=(validX, validY), steps_per_epoch=trainX.shape[0]//batch_size, epochs=epochs, verbose=1)"
      ],
      "execution_count": 18,
      "outputs": [
        {
          "output_type": "stream",
          "text": [
            "271/271 [==============================] - 19s 70ms/step - loss: 0.9073 - accuracy: 0.9221 - val_loss: 1.0964 - val_accuracy: 0.8612\n",
            "Epoch 31/40\n",
            "271/271 [==============================] - 19s 71ms/step - loss: 0.8525 - accuracy: 0.9265 - val_loss: 0.9453 - val_accuracy: 0.8794\n",
            "Epoch 32/40\n",
            "271/271 [==============================] - 19s 70ms/step - loss: 0.8052 - accuracy: 0.9307 - val_loss: 1.0079 - val_accuracy: 0.8649\n",
            "Epoch 33/40\n",
            "271/271 [==============================] - 20s 73ms/step - loss: 0.7603 - accuracy: 0.9324 - val_loss: 0.8838 - val_accuracy: 0.8905\n",
            "Epoch 34/40\n",
            "271/271 [==============================] - 19s 70ms/step - loss: 0.7235 - accuracy: 0.9346 - val_loss: 0.7935 - val_accuracy: 0.8937\n",
            "Epoch 35/40\n",
            "271/271 [==============================] - 19s 70ms/step - loss: 0.6839 - accuracy: 0.9378 - val_loss: 0.9393 - val_accuracy: 0.8562\n",
            "Epoch 36/40\n",
            "271/271 [==============================] - 19s 70ms/step - loss: 0.6482 - accuracy: 0.9425 - val_loss: 0.7762 - val_accuracy: 0.8968\n",
            "Epoch 37/40\n",
            "271/271 [==============================] - 19s 70ms/step - loss: 0.6063 - accuracy: 0.9481 - val_loss: 0.8306 - val_accuracy: 0.8680\n",
            "Epoch 38/40\n",
            "271/271 [==============================] - 19s 71ms/step - loss: 0.5858 - accuracy: 0.9476 - val_loss: 0.7920 - val_accuracy: 0.8878\n",
            "Epoch 39/40\n",
            "271/271 [==============================] - 19s 72ms/step - loss: 0.5616 - accuracy: 0.9493 - val_loss: 0.6845 - val_accuracy: 0.9068\n",
            "Epoch 40/40\n",
            "271/271 [==============================] - 20s 72ms/step - loss: 0.5416 - accuracy: 0.9497 - val_loss: 0.7321 - val_accuracy: 0.8839\n"
          ],
          "name": "stdout"
        }
      ]
    },
    {
      "cell_type": "code",
      "metadata": {
        "colab": {
          "base_uri": "https://localhost:8080/",
          "height": 295
        },
        "id": "jqfS51AkpyYi",
        "outputId": "5b8b2a20-80f7-4a62-92d0-062b9b55f610"
      },
      "source": [
        "loss = H.history['loss']\n",
        "val_loss = H.history['val_loss']\n",
        "\n",
        "epochs = range(1, len(loss) + 1)\n",
        "\n",
        "plt.plot(epochs, loss, 'bo', label='Training loss')\n",
        "plt.plot(epochs, val_loss, 'b', label='Validation loss')\n",
        "plt.title('Training and validation loss')\n",
        "plt.xlabel('Epochs')\n",
        "plt.ylabel('Loss')\n",
        "plt.legend()\n",
        "\n",
        "plt.show()"
      ],
      "execution_count": 19,
      "outputs": [
        {
          "output_type": "display_data",
          "data": {
            "image/png": "[encoded data removed]",
            "text/plain": [
              "<Figure size 432x288 with 1 Axes>"
            ]
          },
          "metadata": {
            "tags": [],
            "needs_background": "light"
          }
        }
      ]
    },
    {
      "cell_type": "code",
      "metadata": {
        "colab": {
          "base_uri": "https://localhost:8080/",
          "height": 295
        },
        "id": "Qh1BQIHVpz26",
        "outputId": "a3302dc3-1282-459d-ac0c-01e9cd1f123f"
      },
      "source": [
        "loss = H.history['accuracy']\n",
        "val_loss = H.history['val_accuracy']\n",
        "\n",
        "epochs = range(1, len(loss) + 1)\n",
        "\n",
        "plt.plot(epochs, loss, 'bo', label='Training loss')\n",
        "plt.plot(epochs, val_loss, 'b', label='Validation loss')\n",
        "plt.title('Training and validation loss')\n",
        "plt.xlabel('Epochs')\n",
        "plt.ylabel('Loss')\n",
        "plt.legend()\n",
        "\n",
        "plt.show()"
      ],
      "execution_count": 20,
      "outputs": [
        {
          "output_type": "display_data",
          "data": {
            "image/png": "[encoded data removed]",
            "text/plain": [
              "<Figure size 432x288 with 1 Axes>"
            ]
          },
          "metadata": {
            "tags": [],
            "needs_background": "light"
          }
        }
      ]
    },
    {
      "cell_type": "code",
      "metadata": {
        "colab": {
          "base_uri": "https://localhost:8080/"
        },
        "id": "4vULgR2sq073",
        "outputId": "e0e9b3a9-562d-42fe-e159-fe3daf7eada0"
      },
      "source": [
        "model.evaluate(testX, lb.fit_transform(testY))"
      ],
      "execution_count": 21,
      "outputs": [
        {
          "output_type": "stream",
          "text": [
            "395/395 [==============================] - 2s 5ms/step - loss: 0.7504 - accuracy: 0.8966\n"
          ],
          "name": "stdout"
        },
        {
          "output_type": "execute_result",
          "data": {
            "text/plain": [
              "[0.75042325258255, 0.8965954184532166]"
            ]
          },
          "metadata": {
            "tags": []
          },
          "execution_count": 21
        }
      ]
    },
    {
      "cell_type": "code",
      "metadata": {
        "id": "1xQdjIOafIsK"
      },
      "source": [
        "model.save('./model_TrafficSign.h5')\n"
      ],
      "execution_count": null,
      "outputs": []
    },
    {
      "cell_type": "code",
      "metadata": {
        "id": "e5ZLFUsZX5XR"
      },
      "source": [
        "import tensorflow as tf\n",
        "saved_model = tf.keras.models.load_model('./model_TrafficSign.h5')\n"
      ],
      "execution_count": null,
      "outputs": []
    },
    {
      "cell_type": "code",
      "metadata": {
        "id": "cS2aKO_Jgi1E"
      },
      "source": [
        "result = saved_model.predict(testX[10:11])"
      ],
      "execution_count": null,
      "outputs": []
    },
    {
      "cell_type": "code",
      "metadata": {
        "id": "TdK-JePmkU6P"
      },
      "source": [
        "import numpy as np"
      ],
      "execution_count": null,
      "outputs": []
    },
    {
      "cell_type": "code",
      "metadata": {
        "id": "SmAbtz_qkWl4",
        "colab": {
          "base_uri": "https://localhost:8080/",
          "height": 283
        },
        "outputId": "5861da60-7bfb-4fd6-ab49-3f3d72a32fec"
      },
      "source": [
        "final = np.argmax(result)\n",
        "bienbao=classNames[final]\n",
        "plt.imshow(testX[11])"
      ],
      "execution_count": null,
      "outputs": [
        {
          "output_type": "execute_result",
          "data": {
            "text/plain": [
              "<matplotlib.image.AxesImage at 0x7f1d4a146cc0>"
            ]
          },
          "metadata": {
            "tags": []
          },
          "execution_count": 72
        },
        {
          "output_type": "display_data",
          "data": {
            "image/png": "[encoded data removed]",
            "text/plain": [
              "<Figure size 432x288 with 1 Axes>"
            ]
          },
          "metadata": {
            "tags": [],
            "needs_background": "light"
          }
        }
      ]
    }
  ]
}