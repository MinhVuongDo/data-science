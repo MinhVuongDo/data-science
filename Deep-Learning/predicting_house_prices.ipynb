{
  "nbformat": 4,
  "nbformat_minor": 0,
  "metadata": {
    "colab": {
      "name": "predicting-house-prices.ipynb",
      "provenance": []
    },
    "kernelspec": {
      "name": "python3",
      "display_name": "Python 3"
    },
    "language_info": {
      "name": "python"
    },
    "accelerator": "GPU"
  },
  "cells": [
    {
      "cell_type": "code",
      "metadata": {
        "id": "E64IjfwcaGDf"
      },
      "source": [
        "import numpy as np\n",
        "import matplotlib.pyplot as plt\n",
        "from keras.datasets import boston_housing\n",
        "from keras.layers import Dense, Flatten\n",
        "from keras.models import  Sequential\n",
        "from keras.optimizers import Adam"
      ],
      "execution_count": 1,
      "outputs": []
    },
    {
      "cell_type": "code",
      "metadata": {
        "colab": {
          "base_uri": "https://localhost:8080/"
        },
        "id": "46eUckMLal6u",
        "outputId": "476decc8-de62-488e-ffd8-a804dd773482"
      },
      "source": [
        "(train_data, train_targets), (test_data, test_targets) =  boston_housing.load_data()"
      ],
      "execution_count": 2,
      "outputs": [
        {
          "output_type": "stream",
          "text": [
            "Downloading data from https://storage.googleapis.com/tensorflow/tf-keras-datasets/boston_housing.npz\n",
            "57344/57026 [==============================] - 0s 0us/step\n",
            "65536/57026 [==================================] - 0s 0us/step\n"
          ],
          "name": "stdout"
        }
      ]
    },
    {
      "cell_type": "code",
      "metadata": {
        "colab": {
          "base_uri": "https://localhost:8080/"
        },
        "id": "C6ufi9FqatmM",
        "outputId": "49acb96b-8ff6-4931-b913-0f2a8be35ad6"
      },
      "source": [
        "train_data.shape"
      ],
      "execution_count": 3,
      "outputs": [
        {
          "output_type": "execute_result",
          "data": {
            "text/plain": [
              "(404, 13)"
            ]
          },
          "metadata": {
            "tags": []
          },
          "execution_count": 3
        }
      ]
    },
    {
      "cell_type": "code",
      "metadata": {
        "id": "VXUwtHwFbCmO"
      },
      "source": [
        "mean_train = train_data.mean(axis=0)\n",
        "std_train = train_data.std(axis=0)\n",
        "train_nor = (train_data-mean_train)/std_train"
      ],
      "execution_count": 6,
      "outputs": []
    },
    {
      "cell_type": "code",
      "metadata": {
        "id": "LFaQK7E1bqTC"
      },
      "source": [
        "mean_test = test_data.mean(axis=0)\n",
        "std_test = test_data.std(axis=0)\n",
        "test_nor = (test_data-mean_test)/std_test"
      ],
      "execution_count": 7,
      "outputs": []
    },
    {
      "cell_type": "code",
      "metadata": {
        "id": "15EKXblMcEoE"
      },
      "source": [
        "def build_model():\n",
        "    model = Sequential()\n",
        "    model.add(Dense(128, activation='relu',\n",
        "                           input_shape=(train_data.shape[1],)))\n",
        "    model.add(Dense(1))\n",
        "    model.compile(optimizer=Adam(learning_rate = 0.001), loss='mse', metrics=['mae'])\n",
        "    return model"
      ],
      "execution_count": 36,
      "outputs": []
    },
    {
      "cell_type": "code",
      "metadata": {
        "id": "irv2m1Iqc5mb"
      },
      "source": [
        "k = 5\n",
        "num_val_samples = len(train_data)//k\n",
        "num_epochs = 200\n",
        "all_mae_histories = []\n",
        "for i in range(k):\n",
        "  val_data = train_nor[i*num_val_samples: (i+1)*num_val_samples]\n",
        "  val_targets = train_targets[i*num_val_samples: (i+1)*num_val_samples]\n",
        "  partial_train_nor = np.concatenate(\n",
        "        [train_nor[:i * num_val_samples],\n",
        "         train_nor[(i + 1) * num_val_samples:]],\n",
        "        axis=0)\n",
        "  partial_train_targets = np.concatenate(\n",
        "        [train_targets[:i * num_val_samples],\n",
        "         train_targets[(i + 1) * num_val_samples:]],\n",
        "        axis=0)\n",
        "  model = build_model()\n",
        "    \n",
        "  history = model.fit(partial_train_nor, partial_train_targets,\n",
        "                        validation_data=(val_data, val_targets),\n",
        "                        epochs=num_epochs, batch_size=1, verbose=0)\n",
        "  mae_history = history.history['val_mae']\n",
        "  all_mae_histories.append(mae_history)"
      ],
      "execution_count": 24,
      "outputs": []
    },
    {
      "cell_type": "code",
      "metadata": {
        "colab": {
          "base_uri": "https://localhost:8080/"
        },
        "id": "sAO6SPPtcV9m",
        "outputId": "f73b2235-f554-424e-fcf3-a079d2392154"
      },
      "source": [
        "np.mean(all_mae_histories, axis=0)"
      ],
      "execution_count": 25,
      "outputs": [
        {
          "output_type": "execute_result",
          "data": {
            "text/plain": [
              "array([9.84588737, 4.66696725, 3.87452545, 3.57442317, 3.39086113,\n",
              "       3.15087161, 3.10570507, 2.93874984, 2.92992816, 2.76047688,\n",
              "       2.71101604, 2.61860018, 2.63296552, 2.57232461, 2.49735515,\n",
              "       2.48495646, 2.46978588, 2.43281682, 2.42470245, 2.44392316,\n",
              "       2.45803528, 2.45134199, 2.39576175, 2.37222278, 2.3859395 ,\n",
              "       2.40925326, 2.34814196, 2.30196702, 2.33917289, 2.39707868,\n",
              "       2.37869072, 2.30893221, 2.42060618, 2.35504704, 2.30991037,\n",
              "       2.34500999, 2.38229294, 2.36263433, 2.33654842, 2.27627411,\n",
              "       2.30304933, 2.22997336, 2.31839898, 2.2481317 , 2.24817214,\n",
              "       2.29223039, 2.22009673, 2.26156223, 2.21935103, 2.26874614,\n",
              "       2.27415426, 2.20602579, 2.2356281 , 2.22770042, 2.23582668,\n",
              "       2.2827456 , 2.24604764, 2.31048026, 2.31135602, 2.31777816,\n",
              "       2.20808382, 2.27368841, 2.23596122, 2.1991523 , 2.23989275,\n",
              "       2.21342616, 2.25708251, 2.29624066, 2.23112006, 2.27921767,\n",
              "       2.2547874 , 2.1823431 , 2.24608197, 2.25065618, 2.18975682,\n",
              "       2.25310698, 2.28666885, 2.20781424, 2.19575615, 2.34277658,\n",
              "       2.22842474, 2.28861084, 2.29339411, 2.28793221, 2.23539116,\n",
              "       2.2750241 , 2.16958666, 2.26277707, 2.26769648, 2.32012291,\n",
              "       2.25556777, 2.2234792 , 2.21742749, 2.212466  , 2.2727396 ,\n",
              "       2.29616399, 2.23848891, 2.20859296, 2.32860601, 2.20338378,\n",
              "       2.28733785, 2.25966892, 2.2445262 , 2.24075317, 2.22508049,\n",
              "       2.29061944, 2.25992675, 2.29307952, 2.24572732, 2.19789279,\n",
              "       2.19653993, 2.20979278, 2.24163539, 2.28408632, 2.2161829 ,\n",
              "       2.23317938, 2.28676114, 2.25855691, 2.23433895, 2.34489582,\n",
              "       2.20801225, 2.29203253, 2.27627771, 2.20283353, 2.26853025,\n",
              "       2.25776851, 2.25112698, 2.25190206, 2.43583107, 2.36692061,\n",
              "       2.28175864, 2.26014252, 2.32542109, 2.31185534, 2.29456711,\n",
              "       2.32058311, 2.24931436, 2.30428314, 2.36571026, 2.31332524,\n",
              "       2.33002346, 2.32070656, 2.29460104, 2.25599191, 2.2550272 ,\n",
              "       2.26334445, 2.29215035, 2.35079291, 2.36474042, 2.34571609,\n",
              "       2.25916061, 2.31204379, 2.29805052, 2.33552141, 2.36363509,\n",
              "       2.27088709, 2.34496505, 2.33334951, 2.30086665, 2.36187823,\n",
              "       2.29098771, 2.28893504, 2.33645563, 2.32572193, 2.31546736,\n",
              "       2.32787158, 2.35246983, 2.31419015, 2.28959489, 2.30010526,\n",
              "       2.37065222, 2.3458046 , 2.38885858, 2.28471587, 2.38658237,\n",
              "       2.32414336, 2.34380083, 2.30672929, 2.28790004, 2.37373152,\n",
              "       2.25829074, 2.32187538, 2.35921967, 2.31667242, 2.38180456,\n",
              "       2.35118079, 2.30950186, 2.35249898, 2.35859852, 2.33269243,\n",
              "       2.34677351, 2.40376949, 2.25731614, 2.41037323, 2.39117618,\n",
              "       2.38604572, 2.3571794 , 2.3422816 , 2.37635303, 2.40142193])"
            ]
          },
          "metadata": {
            "tags": []
          },
          "execution_count": 25
        }
      ]
    },
    {
      "cell_type": "code",
      "metadata": {
        "id": "oZWANADMji8E"
      },
      "source": [
        "average_mae_history = [np.mean([x[i] for x in all_mae_histories]) for i in range(num_epochs)]"
      ],
      "execution_count": 26,
      "outputs": []
    },
    {
      "cell_type": "code",
      "metadata": {
        "colab": {
          "base_uri": "https://localhost:8080/",
          "height": 279
        },
        "id": "Rw6Qz3eVoCfm",
        "outputId": "75aa2947-289f-4fbf-c108-d809e322e515"
      },
      "source": [
        "plt.plot(range(1, len(average_mae_history) + 1), average_mae_history)\n",
        "plt.xlabel('Epochs')\n",
        "plt.ylabel('Validation MAE')\n",
        "plt.show()"
      ],
      "execution_count": 27,
      "outputs": [
        {
          "output_type": "display_data",
          "data": {
            "image/png": "[encoded data removed]",
            "text/plain": [
              "<Figure size 432x288 with 1 Axes>"
            ]
          },
          "metadata": {
            "tags": [],
            "needs_background": "light"
          }
        }
      ]
    },
    {
      "cell_type": "code",
      "metadata": {
        "colab": {
          "base_uri": "https://localhost:8080/"
        },
        "id": "Y8HKWx4doIwc",
        "outputId": "13a3411f-ceb4-4c67-9e3f-6328a61d0dde"
      },
      "source": [
        "\n",
        "model = build_model()\n",
        "\n",
        "model.fit(train_nor, train_targets,\n",
        "          epochs=200, batch_size=1, verbose=0)\n"
      ],
      "execution_count": 37,
      "outputs": [
        {
          "output_type": "execute_result",
          "data": {
            "text/plain": [
              "<keras.callbacks.History at 0x7f1b10673990>"
            ]
          },
          "metadata": {
            "tags": []
          },
          "execution_count": 37
        }
      ]
    },
    {
      "cell_type": "code",
      "metadata": {
        "colab": {
          "base_uri": "https://localhost:8080/"
        },
        "id": "TbmTf8ujpH6Y",
        "outputId": "5ce19796-0737-4814-f2d5-fc10720a5dbb"
      },
      "source": [
        "test_mse_score, test_mae_score = model.evaluate(test_nor, test_targets)"
      ],
      "execution_count": 39,
      "outputs": [
        {
          "output_type": "stream",
          "text": [
            "4/4 [==============================] - 0s 2ms/step - loss: 13.4485 - mae: 2.6571\n"
          ],
          "name": "stdout"
        }
      ]
    }
  ]
}