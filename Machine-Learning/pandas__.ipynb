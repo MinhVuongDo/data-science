{
  "nbformat": 4,
  "nbformat_minor": 0,
  "metadata": {
    "kernelspec": {
      "display_name": "Python 3",
      "language": "python",
      "name": "python3"
    },
    "language_info": {
      "codemirror_mode": {
        "name": "ipython",
        "version": 3
      },
      "file_extension": ".py",
      "mimetype": "text/x-python",
      "name": "python",
      "nbconvert_exporter": "python",
      "pygments_lexer": "ipython3",
      "version": "3.9.0"
    },
    "colab": {
      "name": "Solution.ipynb",
      "provenance": []
    }
  },
  "cells": [
    {
      "cell_type": "code",
      "metadata": {
        "colab": {
          "base_uri": "https://localhost:8080/"
        },
        "id": "PCc1mqhqBuQK",
        "outputId": "1e66259a-9446-42cd-e5ed-ea7d93d9a8d5"
      },
      "source": [
        "from google.colab import drive\n",
        "drive.mount('/content/drive')"
      ],
      "execution_count": 1,
      "outputs": [
        {
          "output_type": "stream",
          "text": [
            "Mounted at /content/drive\n"
          ],
          "name": "stdout"
        }
      ]
    },
    {
      "cell_type": "code",
      "metadata": {
        "colab": {
          "base_uri": "https://localhost:8080/"
        },
        "id": "dhrge4W_Buyc",
        "outputId": "749bc8e0-3df6-43eb-8333-1613ff971e88"
      },
      "source": [
        "cd '/content/drive/MyDrive/nn/Practical-Data-Science-with-Python-main/Chapter4/test_your_knowledge'"
      ],
      "execution_count": 6,
      "outputs": [
        {
          "output_type": "stream",
          "text": [
            "/content/drive/MyDrive/nn/Practical-Data-Science-with-Python-main/Chapter4/test_your_knowledge\n"
          ],
          "name": "stdout"
        }
      ]
    },
    {
      "cell_type": "code",
      "metadata": {
        "id": "Q08A40U3CYN6"
      },
      "source": [
        "import pandas as pd \n",
        "import matplotlib.pyplot as plt\n",
        "from sklearn.impute import KNNImputer"
      ],
      "execution_count": 7,
      "outputs": []
    },
    {
      "cell_type": "code",
      "metadata": {
        "colab": {
          "base_uri": "https://localhost:8080/",
          "height": 218
        },
        "id": "3KrlBMuYCqAi",
        "outputId": "3de4c66e-3869-4485-b91e-32592dd3547c"
      },
      "source": [
        "df1 = pd.read_excel('solar_data_1.xlsx', engine = 'openpyxl')\n",
        "df2 = pd.read_excel('solar_data_2.xlsx', engine = 'openpyxl')\n",
        "df = pd.concat([df1,df2], axis= 0)\n",
        "df.head()"
      ],
      "execution_count": 8,
      "outputs": [
        {
          "output_type": "execute_result",
          "data": {
            "text/html": [
              "<div>\n",
              "<style scoped>\n",
              "    .dataframe tbody tr th:only-of-type {\n",
              "        vertical-align: middle;\n",
              "    }\n",
              "\n",
              "    .dataframe tbody tr th {\n",
              "        vertical-align: top;\n",
              "    }\n",
              "\n",
              "    .dataframe thead th {\n",
              "        text-align: right;\n",
              "    }\n",
              "</style>\n",
              "<table border=\"1\" class=\"dataframe\">\n",
              "  <thead>\n",
              "    <tr style=\"text-align: right;\">\n",
              "      <th></th>\n",
              "      <th>state_name</th>\n",
              "      <th>number_of_panels_total</th>\n",
              "      <th>kw_total</th>\n",
              "      <th>kw_median</th>\n",
              "      <th>yearly_sunlight_kwh_median</th>\n",
              "      <th>yearly_sunlight_kwh_total</th>\n",
              "      <th>existing_installs_count</th>\n",
              "    </tr>\n",
              "  </thead>\n",
              "  <tbody>\n",
              "    <tr>\n",
              "      <th>0</th>\n",
              "      <td>NaN</td>\n",
              "      <td>31</td>\n",
              "      <td>7.75</td>\n",
              "      <td>3.25</td>\n",
              "      <td>5209.464685</td>\n",
              "      <td>1.243764e+04</td>\n",
              "      <td>0.0</td>\n",
              "    </tr>\n",
              "    <tr>\n",
              "      <th>1</th>\n",
              "      <td>Alabama</td>\n",
              "      <td>58997532</td>\n",
              "      <td>14749383.00</td>\n",
              "      <td>9.75</td>\n",
              "      <td>12069.322656</td>\n",
              "      <td>1.896138e+10</td>\n",
              "      <td>549.0</td>\n",
              "    </tr>\n",
              "    <tr>\n",
              "      <th>2</th>\n",
              "      <td>Alaska</td>\n",
              "      <td>2179124</td>\n",
              "      <td>544781.00</td>\n",
              "      <td>7.25</td>\n",
              "      <td>6540.612622</td>\n",
              "      <td>4.664927e+08</td>\n",
              "      <td>83.0</td>\n",
              "    </tr>\n",
              "    <tr>\n",
              "      <th>3</th>\n",
              "      <td>Arizona</td>\n",
              "      <td>114697808</td>\n",
              "      <td>28674452.00</td>\n",
              "      <td>11.75</td>\n",
              "      <td>18974.796637</td>\n",
              "      <td>4.639329e+10</td>\n",
              "      <td>39553.0</td>\n",
              "    </tr>\n",
              "    <tr>\n",
              "      <th>4</th>\n",
              "      <td>Arkansas</td>\n",
              "      <td>28130196</td>\n",
              "      <td>7032549.00</td>\n",
              "      <td>9.75</td>\n",
              "      <td>12099.947974</td>\n",
              "      <td>8.941609e+09</td>\n",
              "      <td>238.0</td>\n",
              "    </tr>\n",
              "  </tbody>\n",
              "</table>\n",
              "</div>"
            ],
            "text/plain": [
              "  state_name  ...  existing_installs_count\n",
              "0        NaN  ...                      0.0\n",
              "1    Alabama  ...                    549.0\n",
              "2     Alaska  ...                     83.0\n",
              "3    Arizona  ...                  39553.0\n",
              "4   Arkansas  ...                    238.0\n",
              "\n",
              "[5 rows x 7 columns]"
            ]
          },
          "metadata": {
            "tags": []
          },
          "execution_count": 8
        }
      ]
    },
    {
      "cell_type": "code",
      "metadata": {
        "colab": {
          "base_uri": "https://localhost:8080/",
          "height": 308
        },
        "id": "qvvL6QoGDLmV",
        "outputId": "03bd384b-89d2-4ca2-b000-b33ed8d29b6a"
      },
      "source": [
        "df.describe()"
      ],
      "execution_count": 10,
      "outputs": [
        {
          "output_type": "execute_result",
          "data": {
            "text/html": [
              "<div>\n",
              "<style scoped>\n",
              "    .dataframe tbody tr th:only-of-type {\n",
              "        vertical-align: middle;\n",
              "    }\n",
              "\n",
              "    .dataframe tbody tr th {\n",
              "        vertical-align: top;\n",
              "    }\n",
              "\n",
              "    .dataframe thead th {\n",
              "        text-align: right;\n",
              "    }\n",
              "</style>\n",
              "<table border=\"1\" class=\"dataframe\">\n",
              "  <thead>\n",
              "    <tr style=\"text-align: right;\">\n",
              "      <th></th>\n",
              "      <th>number_of_panels_total</th>\n",
              "      <th>kw_total</th>\n",
              "      <th>kw_median</th>\n",
              "      <th>yearly_sunlight_kwh_median</th>\n",
              "      <th>yearly_sunlight_kwh_total</th>\n",
              "      <th>existing_installs_count</th>\n",
              "    </tr>\n",
              "  </thead>\n",
              "  <tbody>\n",
              "    <tr>\n",
              "      <th>count</th>\n",
              "      <td>5.500000e+01</td>\n",
              "      <td>5.500000e+01</td>\n",
              "      <td>54.000000</td>\n",
              "      <td>54.000000</td>\n",
              "      <td>5.500000e+01</td>\n",
              "      <td>54.000000</td>\n",
              "    </tr>\n",
              "    <tr>\n",
              "      <th>mean</th>\n",
              "      <td>6.418217e+07</td>\n",
              "      <td>1.604554e+07</td>\n",
              "      <td>7.907407</td>\n",
              "      <td>9952.438422</td>\n",
              "      <td>2.078188e+10</td>\n",
              "      <td>12785.666667</td>\n",
              "    </tr>\n",
              "    <tr>\n",
              "      <th>std</th>\n",
              "      <td>9.028737e+07</td>\n",
              "      <td>2.257184e+07</td>\n",
              "      <td>1.963882</td>\n",
              "      <td>3390.644848</td>\n",
              "      <td>3.233178e+10</td>\n",
              "      <td>46522.857045</td>\n",
              "    </tr>\n",
              "    <tr>\n",
              "      <th>min</th>\n",
              "      <td>3.100000e+01</td>\n",
              "      <td>7.750000e+00</td>\n",
              "      <td>3.250000</td>\n",
              "      <td>5156.452783</td>\n",
              "      <td>1.243764e+04</td>\n",
              "      <td>0.000000</td>\n",
              "    </tr>\n",
              "    <tr>\n",
              "      <th>25%</th>\n",
              "      <td>1.704436e+07</td>\n",
              "      <td>4.261089e+06</td>\n",
              "      <td>6.750000</td>\n",
              "      <td>7350.628174</td>\n",
              "      <td>5.982309e+09</td>\n",
              "      <td>357.000000</td>\n",
              "    </tr>\n",
              "    <tr>\n",
              "      <th>50%</th>\n",
              "      <td>4.847139e+07</td>\n",
              "      <td>1.211785e+07</td>\n",
              "      <td>7.750000</td>\n",
              "      <td>9409.792603</td>\n",
              "      <td>1.481478e+10</td>\n",
              "      <td>1727.000000</td>\n",
              "    </tr>\n",
              "    <tr>\n",
              "      <th>75%</th>\n",
              "      <td>7.325589e+07</td>\n",
              "      <td>1.831397e+07</td>\n",
              "      <td>9.000000</td>\n",
              "      <td>11375.480533</td>\n",
              "      <td>2.074348e+10</td>\n",
              "      <td>5994.500000</td>\n",
              "    </tr>\n",
              "    <tr>\n",
              "      <th>max</th>\n",
              "      <td>5.310227e+08</td>\n",
              "      <td>1.327557e+08</td>\n",
              "      <td>13.000000</td>\n",
              "      <td>19004.649878</td>\n",
              "      <td>1.980163e+11</td>\n",
              "      <td>328899.000000</td>\n",
              "    </tr>\n",
              "  </tbody>\n",
              "</table>\n",
              "</div>"
            ],
            "text/plain": [
              "       number_of_panels_total  ...  existing_installs_count\n",
              "count            5.500000e+01  ...                54.000000\n",
              "mean             6.418217e+07  ...             12785.666667\n",
              "std              9.028737e+07  ...             46522.857045\n",
              "min              3.100000e+01  ...                 0.000000\n",
              "25%              1.704436e+07  ...               357.000000\n",
              "50%              4.847139e+07  ...              1727.000000\n",
              "75%              7.325589e+07  ...              5994.500000\n",
              "max              5.310227e+08  ...            328899.000000\n",
              "\n",
              "[8 rows x 6 columns]"
            ]
          },
          "metadata": {
            "tags": []
          },
          "execution_count": 10
        }
      ]
    },
    {
      "cell_type": "markdown",
      "metadata": {
        "id": "5LO3gKmz9G4T"
      },
      "source": [
        "Start with some EDA"
      ]
    },
    {
      "cell_type": "code",
      "metadata": {
        "colab": {
          "base_uri": "https://localhost:8080/"
        },
        "id": "dQ4CrfjR9G4U",
        "outputId": "fc1021a3-c998-4138-9220-28053e6b2699"
      },
      "source": [
        "# it's small data\n",
        "df.shape"
      ],
      "execution_count": 11,
      "outputs": [
        {
          "output_type": "execute_result",
          "data": {
            "text/plain": [
              "(55, 7)"
            ]
          },
          "metadata": {
            "tags": []
          },
          "execution_count": 11
        }
      ]
    },
    {
      "cell_type": "code",
      "metadata": {
        "colab": {
          "base_uri": "https://localhost:8080/"
        },
        "id": "Lkx9P5dD9G4V",
        "outputId": "260e422e-e00f-4c7c-8f18-3660780a3351"
      },
      "source": [
        "# we have a few missing values\n",
        "# the datatypes look to be correct\n",
        "df.info()"
      ],
      "execution_count": 12,
      "outputs": [
        {
          "output_type": "stream",
          "text": [
            "<class 'pandas.core.frame.DataFrame'>\n",
            "Int64Index: 55 entries, 0 to 33\n",
            "Data columns (total 7 columns):\n",
            " #   Column                      Non-Null Count  Dtype  \n",
            "---  ------                      --------------  -----  \n",
            " 0   state_name                  54 non-null     object \n",
            " 1   number_of_panels_total      55 non-null     int64  \n",
            " 2   kw_total                    55 non-null     float64\n",
            " 3   kw_median                   54 non-null     float64\n",
            " 4   yearly_sunlight_kwh_median  54 non-null     float64\n",
            " 5   yearly_sunlight_kwh_total   55 non-null     float64\n",
            " 6   existing_installs_count     54 non-null     float64\n",
            "dtypes: float64(5), int64(1), object(1)\n",
            "memory usage: 3.4+ KB\n"
          ],
          "name": "stdout"
        }
      ]
    },
    {
      "cell_type": "code",
      "metadata": {
        "colab": {
          "base_uri": "https://localhost:8080/"
        },
        "id": "lR-ZGkWH9G4W",
        "outputId": "79bb00f4-7d84-42d1-db39-fabaf560ac9e"
      },
      "source": [
        "df['state_name'].unique().shape\n",
        "df['state_name'].unique()"
      ],
      "execution_count": 14,
      "outputs": [
        {
          "output_type": "execute_result",
          "data": {
            "text/plain": [
              "(52,)"
            ]
          },
          "metadata": {
            "tags": []
          },
          "execution_count": 14
        }
      ]
    },
    {
      "cell_type": "code",
      "metadata": {
        "colab": {
          "base_uri": "https://localhost:8080/",
          "height": 421
        },
        "id": "tNQXgla79G4X",
        "outputId": "8b5d4e41-fdc3-401c-ca2b-b2e9fb2f9451"
      },
      "source": [
        "df.hist()"
      ],
      "execution_count": 15,
      "outputs": [
        {
          "output_type": "execute_result",
          "data": {
            "text/plain": [
              "array([[<matplotlib.axes._subplots.AxesSubplot object at 0x7f8cae0bf290>,\n",
              "        <matplotlib.axes._subplots.AxesSubplot object at 0x7f8cade70650>],\n",
              "       [<matplotlib.axes._subplots.AxesSubplot object at 0x7f8cade29cd0>,\n",
              "        <matplotlib.axes._subplots.AxesSubplot object at 0x7f8cade84610>],\n",
              "       [<matplotlib.axes._subplots.AxesSubplot object at 0x7f8caddfaf50>,\n",
              "        <matplotlib.axes._subplots.AxesSubplot object at 0x7f8caddbd610>]],\n",
              "      dtype=object)"
            ]
          },
          "metadata": {
            "tags": []
          },
          "execution_count": 15
        },
        {
          "output_type": "display_data",
          "data": {
            "image/png": "[encoded data removed]",
            "text/plain": [
              "<Figure size 432x288 with 6 Axes>"
            ]
          },
          "metadata": {
            "tags": [],
            "needs_background": "light"
          }
        }
      ]
    },
    {
      "cell_type": "code",
      "metadata": {
        "colab": {
          "base_uri": "https://localhost:8080/",
          "height": 248
        },
        "id": "rHJMFa4t9G4Y",
        "outputId": "54df7f1a-ee02-4eb9-b80e-8b49576fbae6"
      },
      "source": [
        "df.corr()"
      ],
      "execution_count": 16,
      "outputs": [
        {
          "output_type": "execute_result",
          "data": {
            "text/html": [
              "<div>\n",
              "<style scoped>\n",
              "    .dataframe tbody tr th:only-of-type {\n",
              "        vertical-align: middle;\n",
              "    }\n",
              "\n",
              "    .dataframe tbody tr th {\n",
              "        vertical-align: top;\n",
              "    }\n",
              "\n",
              "    .dataframe thead th {\n",
              "        text-align: right;\n",
              "    }\n",
              "</style>\n",
              "<table border=\"1\" class=\"dataframe\">\n",
              "  <thead>\n",
              "    <tr style=\"text-align: right;\">\n",
              "      <th></th>\n",
              "      <th>number_of_panels_total</th>\n",
              "      <th>kw_total</th>\n",
              "      <th>kw_median</th>\n",
              "      <th>yearly_sunlight_kwh_median</th>\n",
              "      <th>yearly_sunlight_kwh_total</th>\n",
              "      <th>existing_installs_count</th>\n",
              "    </tr>\n",
              "  </thead>\n",
              "  <tbody>\n",
              "    <tr>\n",
              "      <th>number_of_panels_total</th>\n",
              "      <td>1.000000</td>\n",
              "      <td>1.000000</td>\n",
              "      <td>0.300934</td>\n",
              "      <td>0.307517</td>\n",
              "      <td>0.995182</td>\n",
              "      <td>0.813889</td>\n",
              "    </tr>\n",
              "    <tr>\n",
              "      <th>kw_total</th>\n",
              "      <td>1.000000</td>\n",
              "      <td>1.000000</td>\n",
              "      <td>0.300934</td>\n",
              "      <td>0.307517</td>\n",
              "      <td>0.995182</td>\n",
              "      <td>0.813889</td>\n",
              "    </tr>\n",
              "    <tr>\n",
              "      <th>kw_median</th>\n",
              "      <td>0.300934</td>\n",
              "      <td>0.300934</td>\n",
              "      <td>1.000000</td>\n",
              "      <td>0.938811</td>\n",
              "      <td>0.326023</td>\n",
              "      <td>0.269857</td>\n",
              "    </tr>\n",
              "    <tr>\n",
              "      <th>yearly_sunlight_kwh_median</th>\n",
              "      <td>0.307517</td>\n",
              "      <td>0.307517</td>\n",
              "      <td>0.938811</td>\n",
              "      <td>1.000000</td>\n",
              "      <td>0.348925</td>\n",
              "      <td>0.326591</td>\n",
              "    </tr>\n",
              "    <tr>\n",
              "      <th>yearly_sunlight_kwh_total</th>\n",
              "      <td>0.995182</td>\n",
              "      <td>0.995182</td>\n",
              "      <td>0.326023</td>\n",
              "      <td>0.348925</td>\n",
              "      <td>1.000000</td>\n",
              "      <td>0.853207</td>\n",
              "    </tr>\n",
              "    <tr>\n",
              "      <th>existing_installs_count</th>\n",
              "      <td>0.813889</td>\n",
              "      <td>0.813889</td>\n",
              "      <td>0.269857</td>\n",
              "      <td>0.326591</td>\n",
              "      <td>0.853207</td>\n",
              "      <td>1.000000</td>\n",
              "    </tr>\n",
              "  </tbody>\n",
              "</table>\n",
              "</div>"
            ],
            "text/plain": [
              "                            number_of_panels_total  ...  existing_installs_count\n",
              "number_of_panels_total                    1.000000  ...                 0.813889\n",
              "kw_total                                  1.000000  ...                 0.813889\n",
              "kw_median                                 0.300934  ...                 0.269857\n",
              "yearly_sunlight_kwh_median                0.307517  ...                 0.326591\n",
              "yearly_sunlight_kwh_total                 0.995182  ...                 0.853207\n",
              "existing_installs_count                   0.813889  ...                 1.000000\n",
              "\n",
              "[6 rows x 6 columns]"
            ]
          },
          "metadata": {
            "tags": []
          },
          "execution_count": 16
        }
      ]
    },
    {
      "cell_type": "code",
      "metadata": {
        "colab": {
          "base_uri": "https://localhost:8080/",
          "height": 309
        },
        "id": "9UC2s8pJ9G4Z",
        "outputId": "ebce5823-4c90-4155-df69-43e2c6b2f40e"
      },
      "source": [
        "df.plot.scatter(x='kw_median', y='yearly_sunlight_kwh_total')"
      ],
      "execution_count": 23,
      "outputs": [
        {
          "output_type": "execute_result",
          "data": {
            "text/plain": [
              "<matplotlib.axes._subplots.AxesSubplot at 0x7f8cad4f39d0>"
            ]
          },
          "metadata": {
            "tags": []
          },
          "execution_count": 23
        },
        {
          "output_type": "display_data",
          "data": {
            "image/png": "[encoded data removed]",
            "text/plain": [
              "<Figure size 432x288 with 1 Axes>"
            ]
          },
          "metadata": {
            "tags": [],
            "needs_background": "light"
          }
        }
      ]
    },
    {
      "cell_type": "code",
      "metadata": {
        "colab": {
          "base_uri": "https://localhost:8080/",
          "height": 128
        },
        "id": "EiFTfGU79G4a",
        "outputId": "7c711bfa-faec-44dd-b14d-e822e374b288"
      },
      "source": [
        "df[df['existing_installs_count'] > 50000]"
      ],
      "execution_count": 24,
      "outputs": [
        {
          "output_type": "execute_result",
          "data": {
            "text/html": [
              "<div>\n",
              "<style scoped>\n",
              "    .dataframe tbody tr th:only-of-type {\n",
              "        vertical-align: middle;\n",
              "    }\n",
              "\n",
              "    .dataframe tbody tr th {\n",
              "        vertical-align: top;\n",
              "    }\n",
              "\n",
              "    .dataframe thead th {\n",
              "        text-align: right;\n",
              "    }\n",
              "</style>\n",
              "<table border=\"1\" class=\"dataframe\">\n",
              "  <thead>\n",
              "    <tr style=\"text-align: right;\">\n",
              "      <th></th>\n",
              "      <th>state_name</th>\n",
              "      <th>number_of_panels_total</th>\n",
              "      <th>kw_total</th>\n",
              "      <th>kw_median</th>\n",
              "      <th>yearly_sunlight_kwh_median</th>\n",
              "      <th>yearly_sunlight_kwh_total</th>\n",
              "      <th>existing_installs_count</th>\n",
              "    </tr>\n",
              "  </thead>\n",
              "  <tbody>\n",
              "    <tr>\n",
              "      <th>5</th>\n",
              "      <td>California</td>\n",
              "      <td>531022657</td>\n",
              "      <td>1.327557e+08</td>\n",
              "      <td>9.75</td>\n",
              "      <td>14460.077979</td>\n",
              "      <td>1.980163e+11</td>\n",
              "      <td>328899.0</td>\n",
              "    </tr>\n",
              "    <tr>\n",
              "      <th>10</th>\n",
              "      <td>Florida</td>\n",
              "      <td>305682374</td>\n",
              "      <td>7.642059e+07</td>\n",
              "      <td>12.75</td>\n",
              "      <td>17250.183057</td>\n",
              "      <td>1.050627e+11</td>\n",
              "      <td>104123.0</td>\n",
              "    </tr>\n",
              "  </tbody>\n",
              "</table>\n",
              "</div>"
            ],
            "text/plain": [
              "    state_name  ...  existing_installs_count\n",
              "5   California  ...                 328899.0\n",
              "10     Florida  ...                 104123.0\n",
              "\n",
              "[2 rows x 7 columns]"
            ]
          },
          "metadata": {
            "tags": []
          },
          "execution_count": 24
        }
      ]
    },
    {
      "cell_type": "markdown",
      "metadata": {
        "id": "ctEuwSm39G4b"
      },
      "source": [
        "This makes sens, CA and FL are very solar-friendly in terms of policy, I believe."
      ]
    },
    {
      "cell_type": "code",
      "metadata": {
        "colab": {
          "base_uri": "https://localhost:8080/",
          "height": 1000
        },
        "id": "V88tH0K79G4b",
        "outputId": "f4992089-fea5-45bb-f6bb-deb3e1d983f8"
      },
      "source": [
        "df.sort_values(by='kw_total')"
      ],
      "execution_count": 29,
      "outputs": [
        {
          "output_type": "execute_result",
          "data": {
            "text/html": [
              "<div>\n",
              "<style scoped>\n",
              "    .dataframe tbody tr th:only-of-type {\n",
              "        vertical-align: middle;\n",
              "    }\n",
              "\n",
              "    .dataframe tbody tr th {\n",
              "        vertical-align: top;\n",
              "    }\n",
              "\n",
              "    .dataframe thead th {\n",
              "        text-align: right;\n",
              "    }\n",
              "</style>\n",
              "<table border=\"1\" class=\"dataframe\">\n",
              "  <thead>\n",
              "    <tr style=\"text-align: right;\">\n",
              "      <th></th>\n",
              "      <th>state_name</th>\n",
              "      <th>number_of_panels_total</th>\n",
              "      <th>kw_total</th>\n",
              "      <th>kw_median</th>\n",
              "      <th>yearly_sunlight_kwh_median</th>\n",
              "      <th>yearly_sunlight_kwh_total</th>\n",
              "      <th>existing_installs_count</th>\n",
              "    </tr>\n",
              "  </thead>\n",
              "  <tbody>\n",
              "    <tr>\n",
              "      <th>0</th>\n",
              "      <td>NaN</td>\n",
              "      <td>31</td>\n",
              "      <td>7.750000e+00</td>\n",
              "      <td>3.25</td>\n",
              "      <td>5209.464685</td>\n",
              "      <td>1.243764e+04</td>\n",
              "      <td>0.0</td>\n",
              "    </tr>\n",
              "    <tr>\n",
              "      <th>25</th>\n",
              "      <td>Vermont</td>\n",
              "      <td>1517792</td>\n",
              "      <td>3.794480e+05</td>\n",
              "      <td>6.50</td>\n",
              "      <td>7115.722705</td>\n",
              "      <td>4.203384e+08</td>\n",
              "      <td>131.0</td>\n",
              "    </tr>\n",
              "    <tr>\n",
              "      <th>8</th>\n",
              "      <td>Delaware</td>\n",
              "      <td>1985389</td>\n",
              "      <td>4.963472e+05</td>\n",
              "      <td>8.00</td>\n",
              "      <td>9746.691431</td>\n",
              "      <td>6.068660e+08</td>\n",
              "      <td>90.0</td>\n",
              "    </tr>\n",
              "    <tr>\n",
              "      <th>2</th>\n",
              "      <td>Alaska</td>\n",
              "      <td>2179124</td>\n",
              "      <td>5.447810e+05</td>\n",
              "      <td>7.25</td>\n",
              "      <td>6540.612622</td>\n",
              "      <td>4.664927e+08</td>\n",
              "      <td>83.0</td>\n",
              "    </tr>\n",
              "    <tr>\n",
              "      <th>9</th>\n",
              "      <td>District of Columbia</td>\n",
              "      <td>3096860</td>\n",
              "      <td>7.742150e+05</td>\n",
              "      <td>4.25</td>\n",
              "      <td>5156.452783</td>\n",
              "      <td>9.449727e+08</td>\n",
              "      <td>443.0</td>\n",
              "    </tr>\n",
              "    <tr>\n",
              "      <th>30</th>\n",
              "      <td>Wyoming</td>\n",
              "      <td>3249883</td>\n",
              "      <td>8.124708e+05</td>\n",
              "      <td>7.75</td>\n",
              "      <td>10645.344800</td>\n",
              "      <td>1.108615e+09</td>\n",
              "      <td>29.0</td>\n",
              "    </tr>\n",
              "    <tr>\n",
              "      <th>21</th>\n",
              "      <td>South Dakota</td>\n",
              "      <td>5162611</td>\n",
              "      <td>1.290653e+06</td>\n",
              "      <td>7.75</td>\n",
              "      <td>9741.482898</td>\n",
              "      <td>1.610011e+09</td>\n",
              "      <td>21.0</td>\n",
              "    </tr>\n",
              "    <tr>\n",
              "      <th>20</th>\n",
              "      <td>Maine</td>\n",
              "      <td>6252716</td>\n",
              "      <td>1.563179e+06</td>\n",
              "      <td>5.75</td>\n",
              "      <td>6562.470239</td>\n",
              "      <td>1.792813e+09</td>\n",
              "      <td>360.0</td>\n",
              "    </tr>\n",
              "    <tr>\n",
              "      <th>28</th>\n",
              "      <td>West Virginia</td>\n",
              "      <td>6414155</td>\n",
              "      <td>1.603539e+06</td>\n",
              "      <td>7.00</td>\n",
              "      <td>8128.741748</td>\n",
              "      <td>1.857681e+09</td>\n",
              "      <td>80.0</td>\n",
              "    </tr>\n",
              "    <tr>\n",
              "      <th>9</th>\n",
              "      <td>New Hampshire</td>\n",
              "      <td>7241937</td>\n",
              "      <td>1.810484e+06</td>\n",
              "      <td>6.25</td>\n",
              "      <td>6963.208612</td>\n",
              "      <td>2.056881e+09</td>\n",
              "      <td>262.0</td>\n",
              "    </tr>\n",
              "    <tr>\n",
              "      <th>14</th>\n",
              "      <td>North Dakota</td>\n",
              "      <td>7273416</td>\n",
              "      <td>1.818354e+06</td>\n",
              "      <td>9.75</td>\n",
              "      <td>10901.191687</td>\n",
              "      <td>2.069036e+09</td>\n",
              "      <td>24.0</td>\n",
              "    </tr>\n",
              "    <tr>\n",
              "      <th>6</th>\n",
              "      <td>Montana</td>\n",
              "      <td>7521228</td>\n",
              "      <td>1.880307e+06</td>\n",
              "      <td>8.50</td>\n",
              "      <td>10077.719531</td>\n",
              "      <td>2.228184e+09</td>\n",
              "      <td>260.0</td>\n",
              "    </tr>\n",
              "    <tr>\n",
              "      <th>19</th>\n",
              "      <td>Rhode Island</td>\n",
              "      <td>10732305</td>\n",
              "      <td>2.683076e+06</td>\n",
              "      <td>6.00</td>\n",
              "      <td>6736.110132</td>\n",
              "      <td>3.102479e+09</td>\n",
              "      <td>371.0</td>\n",
              "    </tr>\n",
              "    <tr>\n",
              "      <th>12</th>\n",
              "      <td>Hawaii</td>\n",
              "      <td>15969111</td>\n",
              "      <td>3.992278e+06</td>\n",
              "      <td>13.00</td>\n",
              "      <td>19004.649878</td>\n",
              "      <td>6.004369e+09</td>\n",
              "      <td>25414.0</td>\n",
              "    </tr>\n",
              "    <tr>\n",
              "      <th>13</th>\n",
              "      <td>Idaho</td>\n",
              "      <td>18119603</td>\n",
              "      <td>4.529901e+06</td>\n",
              "      <td>9.00</td>\n",
              "      <td>12127.322705</td>\n",
              "      <td>5.960249e+09</td>\n",
              "      <td>531.0</td>\n",
              "    </tr>\n",
              "    <tr>\n",
              "      <th>7</th>\n",
              "      <td>Nebraska</td>\n",
              "      <td>19400445</td>\n",
              "      <td>4.850111e+06</td>\n",
              "      <td>7.50</td>\n",
              "      <td>9624.277734</td>\n",
              "      <td>6.101929e+09</td>\n",
              "      <td>208.0</td>\n",
              "    </tr>\n",
              "    <tr>\n",
              "      <th>16</th>\n",
              "      <td>Iowa</td>\n",
              "      <td>23041660</td>\n",
              "      <td>5.760415e+06</td>\n",
              "      <td>7.00</td>\n",
              "      <td>8292.486279</td>\n",
              "      <td>6.862786e+09</td>\n",
              "      <td>248.0</td>\n",
              "    </tr>\n",
              "    <tr>\n",
              "      <th>11</th>\n",
              "      <td>New Mexico</td>\n",
              "      <td>24388480</td>\n",
              "      <td>6.097120e+06</td>\n",
              "      <td>11.25</td>\n",
              "      <td>18833.979590</td>\n",
              "      <td>1.012644e+10</td>\n",
              "      <td>3735.0</td>\n",
              "    </tr>\n",
              "    <tr>\n",
              "      <th>4</th>\n",
              "      <td>Mississippi</td>\n",
              "      <td>24841156</td>\n",
              "      <td>6.210289e+06</td>\n",
              "      <td>10.50</td>\n",
              "      <td>13342.773730</td>\n",
              "      <td>8.099423e+09</td>\n",
              "      <td>356.0</td>\n",
              "    </tr>\n",
              "    <tr>\n",
              "      <th>17</th>\n",
              "      <td>Kansas</td>\n",
              "      <td>26403168</td>\n",
              "      <td>6.600792e+06</td>\n",
              "      <td>8.25</td>\n",
              "      <td>10583.576611</td>\n",
              "      <td>8.588088e+09</td>\n",
              "      <td>NaN</td>\n",
              "    </tr>\n",
              "    <tr>\n",
              "      <th>4</th>\n",
              "      <td>Arkansas</td>\n",
              "      <td>28130196</td>\n",
              "      <td>7.032549e+06</td>\n",
              "      <td>9.75</td>\n",
              "      <td>12099.947974</td>\n",
              "      <td>8.941609e+09</td>\n",
              "      <td>238.0</td>\n",
              "    </tr>\n",
              "    <tr>\n",
              "      <th>0</th>\n",
              "      <td>Maryland</td>\n",
              "      <td>29454507</td>\n",
              "      <td>7.363627e+06</td>\n",
              "      <td>5.25</td>\n",
              "      <td>NaN</td>\n",
              "      <td>8.946581e+09</td>\n",
              "      <td>6077.0</td>\n",
              "    </tr>\n",
              "    <tr>\n",
              "      <th>7</th>\n",
              "      <td>Connecticut</td>\n",
              "      <td>31250890</td>\n",
              "      <td>7.812722e+06</td>\n",
              "      <td>6.25</td>\n",
              "      <td>7091.383154</td>\n",
              "      <td>9.007033e+09</td>\n",
              "      <td>5253.0</td>\n",
              "    </tr>\n",
              "    <tr>\n",
              "      <th>8</th>\n",
              "      <td>Nevada</td>\n",
              "      <td>32766616</td>\n",
              "      <td>8.191654e+06</td>\n",
              "      <td>9.25</td>\n",
              "      <td>14775.902783</td>\n",
              "      <td>1.302348e+10</td>\n",
              "      <td>12759.0</td>\n",
              "    </tr>\n",
              "    <tr>\n",
              "      <th>24</th>\n",
              "      <td>Utah</td>\n",
              "      <td>32810277</td>\n",
              "      <td>8.202569e+06</td>\n",
              "      <td>7.75</td>\n",
              "      <td>10979.662915</td>\n",
              "      <td>1.142862e+10</td>\n",
              "      <td>3164.0</td>\n",
              "    </tr>\n",
              "    <tr>\n",
              "      <th>18</th>\n",
              "      <td>Kentucky</td>\n",
              "      <td>35302639</td>\n",
              "      <td>8.825660e+06</td>\n",
              "      <td>7.75</td>\n",
              "      <td>9045.892059</td>\n",
              "      <td>1.052102e+10</td>\n",
              "      <td>707.0</td>\n",
              "    </tr>\n",
              "    <tr>\n",
              "      <th>17</th>\n",
              "      <td>Oregon</td>\n",
              "      <td>47146322</td>\n",
              "      <td>1.178658e+07</td>\n",
              "      <td>8.75</td>\n",
              "      <td>9195.307471</td>\n",
              "      <td>1.273870e+10</td>\n",
              "      <td>8654.0</td>\n",
              "    </tr>\n",
              "    <tr>\n",
              "      <th>16</th>\n",
              "      <td>Oklahoma</td>\n",
              "      <td>48471394</td>\n",
              "      <td>1.211785e+07</td>\n",
              "      <td>10.00</td>\n",
              "      <td>13333.026953</td>\n",
              "      <td>1.631223e+10</td>\n",
              "      <td>800.0</td>\n",
              "    </tr>\n",
              "    <tr>\n",
              "      <th>10</th>\n",
              "      <td>New Jersey</td>\n",
              "      <td>51270566</td>\n",
              "      <td>1.281764e+07</td>\n",
              "      <td>NaN</td>\n",
              "      <td>7160.259717</td>\n",
              "      <td>1.506896e+10</td>\n",
              "      <td>12640.0</td>\n",
              "    </tr>\n",
              "    <tr>\n",
              "      <th>33</th>\n",
              "      <td>Minnesota</td>\n",
              "      <td>51738380</td>\n",
              "      <td>1.293460e+07</td>\n",
              "      <td>7.00</td>\n",
              "      <td>7896.430273</td>\n",
              "      <td>1.481478e+10</td>\n",
              "      <td>1519.0</td>\n",
              "    </tr>\n",
              "    <tr>\n",
              "      <th>3</th>\n",
              "      <td>Minnesota</td>\n",
              "      <td>51738380</td>\n",
              "      <td>1.293460e+07</td>\n",
              "      <td>7.00</td>\n",
              "      <td>7896.430273</td>\n",
              "      <td>1.481478e+10</td>\n",
              "      <td>1519.0</td>\n",
              "    </tr>\n",
              "    <tr>\n",
              "      <th>31</th>\n",
              "      <td>Massachusetts</td>\n",
              "      <td>52098838</td>\n",
              "      <td>1.302471e+07</td>\n",
              "      <td>5.75</td>\n",
              "      <td>6571.621021</td>\n",
              "      <td>1.486191e+10</td>\n",
              "      <td>15331.0</td>\n",
              "    </tr>\n",
              "    <tr>\n",
              "      <th>1</th>\n",
              "      <td>Massachusetts</td>\n",
              "      <td>52098838</td>\n",
              "      <td>1.302471e+07</td>\n",
              "      <td>5.75</td>\n",
              "      <td>6571.621021</td>\n",
              "      <td>1.486191e+10</td>\n",
              "      <td>15331.0</td>\n",
              "    </tr>\n",
              "    <tr>\n",
              "      <th>26</th>\n",
              "      <td>Virginia</td>\n",
              "      <td>52940303</td>\n",
              "      <td>1.323508e+07</td>\n",
              "      <td>6.75</td>\n",
              "      <td>8200.431238</td>\n",
              "      <td>1.650795e+10</td>\n",
              "      <td>2409.0</td>\n",
              "    </tr>\n",
              "    <tr>\n",
              "      <th>6</th>\n",
              "      <td>Colorado</td>\n",
              "      <td>55174753</td>\n",
              "      <td>1.379369e+07</td>\n",
              "      <td>6.75</td>\n",
              "      <td>9690.190088</td>\n",
              "      <td>1.970758e+10</td>\n",
              "      <td>24140.0</td>\n",
              "    </tr>\n",
              "    <tr>\n",
              "      <th>1</th>\n",
              "      <td>Alabama</td>\n",
              "      <td>58997532</td>\n",
              "      <td>1.474938e+07</td>\n",
              "      <td>9.75</td>\n",
              "      <td>12069.322656</td>\n",
              "      <td>1.896138e+10</td>\n",
              "      <td>549.0</td>\n",
              "    </tr>\n",
              "    <tr>\n",
              "      <th>19</th>\n",
              "      <td>Louisiana</td>\n",
              "      <td>60024259</td>\n",
              "      <td>1.500606e+07</td>\n",
              "      <td>11.00</td>\n",
              "      <td>14140.453491</td>\n",
              "      <td>1.951487e+10</td>\n",
              "      <td>8142.0</td>\n",
              "    </tr>\n",
              "    <tr>\n",
              "      <th>15</th>\n",
              "      <td>Indiana</td>\n",
              "      <td>62488969</td>\n",
              "      <td>1.562224e+07</td>\n",
              "      <td>7.75</td>\n",
              "      <td>8954.945898</td>\n",
              "      <td>1.825235e+10</td>\n",
              "      <td>991.0</td>\n",
              "    </tr>\n",
              "    <tr>\n",
              "      <th>20</th>\n",
              "      <td>South Carolina</td>\n",
              "      <td>62816829</td>\n",
              "      <td>1.570421e+07</td>\n",
              "      <td>9.00</td>\n",
              "      <td>11474.637256</td>\n",
              "      <td>2.049711e+10</td>\n",
              "      <td>1266.0</td>\n",
              "    </tr>\n",
              "    <tr>\n",
              "      <th>29</th>\n",
              "      <td>Wisconsin</td>\n",
              "      <td>63987980</td>\n",
              "      <td>1.599700e+07</td>\n",
              "      <td>7.50</td>\n",
              "      <td>8465.384497</td>\n",
              "      <td>1.841213e+10</td>\n",
              "      <td>1916.0</td>\n",
              "    </tr>\n",
              "    <tr>\n",
              "      <th>5</th>\n",
              "      <td>Missouri</td>\n",
              "      <td>66666248</td>\n",
              "      <td>1.666656e+07</td>\n",
              "      <td>8.25</td>\n",
              "      <td>10279.288232</td>\n",
              "      <td>2.083485e+10</td>\n",
              "      <td>2861.0</td>\n",
              "    </tr>\n",
              "    <tr>\n",
              "      <th>22</th>\n",
              "      <td>Tennessee</td>\n",
              "      <td>79845531</td>\n",
              "      <td>1.996138e+07</td>\n",
              "      <td>9.00</td>\n",
              "      <td>11078.010364</td>\n",
              "      <td>2.460622e+10</td>\n",
              "      <td>1316.0</td>\n",
              "    </tr>\n",
              "    <tr>\n",
              "      <th>27</th>\n",
              "      <td>Washington</td>\n",
              "      <td>80213294</td>\n",
              "      <td>2.005332e+07</td>\n",
              "      <td>7.75</td>\n",
              "      <td>7836.987549</td>\n",
              "      <td>2.065211e+10</td>\n",
              "      <td>5747.0</td>\n",
              "    </tr>\n",
              "    <tr>\n",
              "      <th>18</th>\n",
              "      <td>Pennsylvania</td>\n",
              "      <td>84551140</td>\n",
              "      <td>2.113778e+07</td>\n",
              "      <td>6.00</td>\n",
              "      <td>6968.881885</td>\n",
              "      <td>2.429106e+10</td>\n",
              "      <td>4414.0</td>\n",
              "    </tr>\n",
              "    <tr>\n",
              "      <th>13</th>\n",
              "      <td>North Carolina</td>\n",
              "      <td>94321272</td>\n",
              "      <td>2.358032e+07</td>\n",
              "      <td>7.75</td>\n",
              "      <td>9754.546875</td>\n",
              "      <td>3.026663e+10</td>\n",
              "      <td>2919.0</td>\n",
              "    </tr>\n",
              "    <tr>\n",
              "      <th>2</th>\n",
              "      <td>Michigan</td>\n",
              "      <td>96360897</td>\n",
              "      <td>2.409022e+07</td>\n",
              "      <td>6.75</td>\n",
              "      <td>7350.628174</td>\n",
              "      <td>2.695720e+10</td>\n",
              "      <td>1727.0</td>\n",
              "    </tr>\n",
              "    <tr>\n",
              "      <th>32</th>\n",
              "      <td>Michigan</td>\n",
              "      <td>96360897</td>\n",
              "      <td>2.409022e+07</td>\n",
              "      <td>6.75</td>\n",
              "      <td>7350.628174</td>\n",
              "      <td>2.695720e+10</td>\n",
              "      <td>1727.0</td>\n",
              "    </tr>\n",
              "    <tr>\n",
              "      <th>11</th>\n",
              "      <td>Georgia</td>\n",
              "      <td>101138623</td>\n",
              "      <td>2.528466e+07</td>\n",
              "      <td>7.75</td>\n",
              "      <td>9817.647650</td>\n",
              "      <td>3.257635e+10</td>\n",
              "      <td>1893.0</td>\n",
              "    </tr>\n",
              "    <tr>\n",
              "      <th>14</th>\n",
              "      <td>Illinois</td>\n",
              "      <td>111210372</td>\n",
              "      <td>2.780259e+07</td>\n",
              "      <td>6.50</td>\n",
              "      <td>7507.386249</td>\n",
              "      <td>3.232441e+10</td>\n",
              "      <td>2403.0</td>\n",
              "    </tr>\n",
              "    <tr>\n",
              "      <th>3</th>\n",
              "      <td>Arizona</td>\n",
              "      <td>114697808</td>\n",
              "      <td>2.867445e+07</td>\n",
              "      <td>11.75</td>\n",
              "      <td>18974.796637</td>\n",
              "      <td>4.639329e+10</td>\n",
              "      <td>39553.0</td>\n",
              "    </tr>\n",
              "    <tr>\n",
              "      <th>12</th>\n",
              "      <td>New York</td>\n",
              "      <td>121650217</td>\n",
              "      <td>3.041255e+07</td>\n",
              "      <td>6.25</td>\n",
              "      <td>7195.039160</td>\n",
              "      <td>3.492613e+10</td>\n",
              "      <td>19979.0</td>\n",
              "    </tr>\n",
              "    <tr>\n",
              "      <th>15</th>\n",
              "      <td>Ohio</td>\n",
              "      <td>122743532</td>\n",
              "      <td>3.068588e+07</td>\n",
              "      <td>7.25</td>\n",
              "      <td>7952.195441</td>\n",
              "      <td>3.478140e+10</td>\n",
              "      <td>2845.0</td>\n",
              "    </tr>\n",
              "    <tr>\n",
              "      <th>10</th>\n",
              "      <td>Florida</td>\n",
              "      <td>305682374</td>\n",
              "      <td>7.642059e+07</td>\n",
              "      <td>12.75</td>\n",
              "      <td>17250.183057</td>\n",
              "      <td>1.050627e+11</td>\n",
              "      <td>104123.0</td>\n",
              "    </tr>\n",
              "    <tr>\n",
              "      <th>23</th>\n",
              "      <td>Texas</td>\n",
              "      <td>348054893</td>\n",
              "      <td>8.701372e+07</td>\n",
              "      <td>9.50</td>\n",
              "      <td>12708.246240</td>\n",
              "      <td>1.171552e+11</td>\n",
              "      <td>13969.0</td>\n",
              "    </tr>\n",
              "    <tr>\n",
              "      <th>5</th>\n",
              "      <td>California</td>\n",
              "      <td>531022657</td>\n",
              "      <td>1.327557e+08</td>\n",
              "      <td>9.75</td>\n",
              "      <td>14460.077979</td>\n",
              "      <td>1.980163e+11</td>\n",
              "      <td>328899.0</td>\n",
              "    </tr>\n",
              "  </tbody>\n",
              "</table>\n",
              "</div>"
            ],
            "text/plain": [
              "              state_name  ...  existing_installs_count\n",
              "0                    NaN  ...                      0.0\n",
              "25               Vermont  ...                    131.0\n",
              "8               Delaware  ...                     90.0\n",
              "2                 Alaska  ...                     83.0\n",
              "9   District of Columbia  ...                    443.0\n",
              "30               Wyoming  ...                     29.0\n",
              "21          South Dakota  ...                     21.0\n",
              "20                 Maine  ...                    360.0\n",
              "28         West Virginia  ...                     80.0\n",
              "9          New Hampshire  ...                    262.0\n",
              "14          North Dakota  ...                     24.0\n",
              "6                Montana  ...                    260.0\n",
              "19          Rhode Island  ...                    371.0\n",
              "12                Hawaii  ...                  25414.0\n",
              "13                 Idaho  ...                    531.0\n",
              "7               Nebraska  ...                    208.0\n",
              "16                  Iowa  ...                    248.0\n",
              "11            New Mexico  ...                   3735.0\n",
              "4            Mississippi  ...                    356.0\n",
              "17                Kansas  ...                      NaN\n",
              "4               Arkansas  ...                    238.0\n",
              "0               Maryland  ...                   6077.0\n",
              "7            Connecticut  ...                   5253.0\n",
              "8                 Nevada  ...                  12759.0\n",
              "24                  Utah  ...                   3164.0\n",
              "18              Kentucky  ...                    707.0\n",
              "17                Oregon  ...                   8654.0\n",
              "16              Oklahoma  ...                    800.0\n",
              "10            New Jersey  ...                  12640.0\n",
              "33             Minnesota  ...                   1519.0\n",
              "3              Minnesota  ...                   1519.0\n",
              "31         Massachusetts  ...                  15331.0\n",
              "1          Massachusetts  ...                  15331.0\n",
              "26              Virginia  ...                   2409.0\n",
              "6               Colorado  ...                  24140.0\n",
              "1                Alabama  ...                    549.0\n",
              "19             Louisiana  ...                   8142.0\n",
              "15               Indiana  ...                    991.0\n",
              "20        South Carolina  ...                   1266.0\n",
              "29             Wisconsin  ...                   1916.0\n",
              "5               Missouri  ...                   2861.0\n",
              "22             Tennessee  ...                   1316.0\n",
              "27            Washington  ...                   5747.0\n",
              "18          Pennsylvania  ...                   4414.0\n",
              "13        North Carolina  ...                   2919.0\n",
              "2               Michigan  ...                   1727.0\n",
              "32              Michigan  ...                   1727.0\n",
              "11               Georgia  ...                   1893.0\n",
              "14              Illinois  ...                   2403.0\n",
              "3                Arizona  ...                  39553.0\n",
              "12              New York  ...                  19979.0\n",
              "15                  Ohio  ...                   2845.0\n",
              "10               Florida  ...                 104123.0\n",
              "23                 Texas  ...                  13969.0\n",
              "5             California  ...                 328899.0\n",
              "\n",
              "[55 rows x 7 columns]"
            ]
          },
          "metadata": {
            "tags": []
          },
          "execution_count": 29
        }
      ]
    },
    {
      "cell_type": "code",
      "metadata": {
        "colab": {
          "base_uri": "https://localhost:8080/"
        },
        "id": "6sDAI1CX9G4c",
        "outputId": "ae074e61-198b-4905-c82d-6100062084cd"
      },
      "source": [
        "df.duplicated().sum()"
      ],
      "execution_count": 28,
      "outputs": [
        {
          "output_type": "execute_result",
          "data": {
            "text/plain": [
              "3"
            ]
          },
          "metadata": {
            "tags": []
          },
          "execution_count": 28
        }
      ]
    },
    {
      "cell_type": "code",
      "metadata": {
        "colab": {
          "base_uri": "https://localhost:8080/",
          "height": 248
        },
        "id": "w_-XJHDq9G4d",
        "outputId": "c9ee085d-e928-442b-cf27-2b9535f0fbe4"
      },
      "source": [
        "# looks like we have some duplicated states in there, we should drop those\n",
        "# keep=False means it marks all duplicates as True, so shows all duplicated rows\n",
        "df[df.duplicated(keep=False)]"
      ],
      "execution_count": 30,
      "outputs": [
        {
          "output_type": "execute_result",
          "data": {
            "text/html": [
              "<div>\n",
              "<style scoped>\n",
              "    .dataframe tbody tr th:only-of-type {\n",
              "        vertical-align: middle;\n",
              "    }\n",
              "\n",
              "    .dataframe tbody tr th {\n",
              "        vertical-align: top;\n",
              "    }\n",
              "\n",
              "    .dataframe thead th {\n",
              "        text-align: right;\n",
              "    }\n",
              "</style>\n",
              "<table border=\"1\" class=\"dataframe\">\n",
              "  <thead>\n",
              "    <tr style=\"text-align: right;\">\n",
              "      <th></th>\n",
              "      <th>state_name</th>\n",
              "      <th>number_of_panels_total</th>\n",
              "      <th>kw_total</th>\n",
              "      <th>kw_median</th>\n",
              "      <th>yearly_sunlight_kwh_median</th>\n",
              "      <th>yearly_sunlight_kwh_total</th>\n",
              "      <th>existing_installs_count</th>\n",
              "    </tr>\n",
              "  </thead>\n",
              "  <tbody>\n",
              "    <tr>\n",
              "      <th>1</th>\n",
              "      <td>Massachusetts</td>\n",
              "      <td>52098838</td>\n",
              "      <td>13024709.50</td>\n",
              "      <td>5.75</td>\n",
              "      <td>6571.621021</td>\n",
              "      <td>1.486191e+10</td>\n",
              "      <td>15331.0</td>\n",
              "    </tr>\n",
              "    <tr>\n",
              "      <th>2</th>\n",
              "      <td>Michigan</td>\n",
              "      <td>96360897</td>\n",
              "      <td>24090224.25</td>\n",
              "      <td>6.75</td>\n",
              "      <td>7350.628174</td>\n",
              "      <td>2.695720e+10</td>\n",
              "      <td>1727.0</td>\n",
              "    </tr>\n",
              "    <tr>\n",
              "      <th>3</th>\n",
              "      <td>Minnesota</td>\n",
              "      <td>51738380</td>\n",
              "      <td>12934595.00</td>\n",
              "      <td>7.00</td>\n",
              "      <td>7896.430273</td>\n",
              "      <td>1.481478e+10</td>\n",
              "      <td>1519.0</td>\n",
              "    </tr>\n",
              "    <tr>\n",
              "      <th>31</th>\n",
              "      <td>Massachusetts</td>\n",
              "      <td>52098838</td>\n",
              "      <td>13024709.50</td>\n",
              "      <td>5.75</td>\n",
              "      <td>6571.621021</td>\n",
              "      <td>1.486191e+10</td>\n",
              "      <td>15331.0</td>\n",
              "    </tr>\n",
              "    <tr>\n",
              "      <th>32</th>\n",
              "      <td>Michigan</td>\n",
              "      <td>96360897</td>\n",
              "      <td>24090224.25</td>\n",
              "      <td>6.75</td>\n",
              "      <td>7350.628174</td>\n",
              "      <td>2.695720e+10</td>\n",
              "      <td>1727.0</td>\n",
              "    </tr>\n",
              "    <tr>\n",
              "      <th>33</th>\n",
              "      <td>Minnesota</td>\n",
              "      <td>51738380</td>\n",
              "      <td>12934595.00</td>\n",
              "      <td>7.00</td>\n",
              "      <td>7896.430273</td>\n",
              "      <td>1.481478e+10</td>\n",
              "      <td>1519.0</td>\n",
              "    </tr>\n",
              "  </tbody>\n",
              "</table>\n",
              "</div>"
            ],
            "text/plain": [
              "       state_name  ...  existing_installs_count\n",
              "1   Massachusetts  ...                  15331.0\n",
              "2        Michigan  ...                   1727.0\n",
              "3       Minnesota  ...                   1519.0\n",
              "31  Massachusetts  ...                  15331.0\n",
              "32       Michigan  ...                   1727.0\n",
              "33      Minnesota  ...                   1519.0\n",
              "\n",
              "[6 rows x 7 columns]"
            ]
          },
          "metadata": {
            "tags": []
          },
          "execution_count": 30
        }
      ]
    },
    {
      "cell_type": "code",
      "metadata": {
        "id": "ZS5AD7Ed9G4d"
      },
      "source": [
        "df.drop_duplicates(inplace=True)"
      ],
      "execution_count": 31,
      "outputs": []
    },
    {
      "cell_type": "code",
      "metadata": {
        "colab": {
          "base_uri": "https://localhost:8080/"
        },
        "id": "gvRQiyMB9G4d",
        "outputId": "7f6ff1a1-818f-43d5-9090-72a525bd489e"
      },
      "source": [
        "df.shape"
      ],
      "execution_count": 32,
      "outputs": [
        {
          "output_type": "execute_result",
          "data": {
            "text/plain": [
              "(52, 7)"
            ]
          },
          "metadata": {
            "tags": []
          },
          "execution_count": 32
        }
      ]
    },
    {
      "cell_type": "code",
      "metadata": {
        "id": "6Bq5yH4Y9G4e"
      },
      "source": [
        "# let's fill the missing values now\n",
        "imputer = KNNImputer(n_neighbors=10)\n",
        "state_names = df[['state_name']]  # indexing a single column with a list keeps it as a DataFrame instead of a Series\n",
        "numeric_df = df.drop('state_name', axis=1)\n",
        "imputed = imputer.fit_transform(numeric_df)\n",
        "numeric_df[numeric_df.columns] = imputed\n",
        "df = pd.concat([state_names, numeric_df], axis=1)"
      ],
      "execution_count": 35,
      "outputs": []
    },
    {
      "cell_type": "code",
      "metadata": {
        "colab": {
          "base_uri": "https://localhost:8080/"
        },
        "id": "GxqaeBkR9G4e",
        "outputId": "fc014b2a-29a9-4b1d-d3f3-5334282eedc4"
      },
      "source": [
        "# looks like we successfully filled the missing values\n",
        "df.isna().sum()"
      ],
      "execution_count": 36,
      "outputs": [
        {
          "output_type": "execute_result",
          "data": {
            "text/plain": [
              "state_name                    1\n",
              "number_of_panels_total        0\n",
              "kw_total                      0\n",
              "kw_median                     0\n",
              "yearly_sunlight_kwh_median    0\n",
              "yearly_sunlight_kwh_total     0\n",
              "existing_installs_count       0\n",
              "dtype: int64"
            ]
          },
          "metadata": {
            "tags": []
          },
          "execution_count": 36
        }
      ]
    },
    {
      "cell_type": "code",
      "metadata": {
        "id": "TPMffr6k9G4f"
      },
      "source": [
        "df.to_excel('cleaned_solar_data.xlsx', index=False)"
      ],
      "execution_count": 37,
      "outputs": []
    },
    {
      "cell_type": "markdown",
      "metadata": {
        "id": "FJYU1fay9G4f"
      },
      "source": [
        "Summary:\n",
        "\n",
        "The data is very small, with each US state, DC, and one unknown location having data. Most of the data is left-skewed with some large outliers. A few large outliers are CA and FL, which have a lot of installed solar panels.\n",
        "We also see some strong correlations between certain columns of data. For example, the yearly kW total, number of panels, and existing installs count were strongly correcated, the kWh and kW median columns were weakly correlated to everything else. Some duplicates were detected in the data and were removed, and some missing values filled in with KNN imputation. Then the data was saved to an Excel file for further use."
      ]
    },
    {
      "cell_type": "code",
      "metadata": {
        "id": "gczYI_dXE_gI"
      },
      "source": [
        "pd.read_excel()\n",
        "pd.concat([])\n",
        "df.head()\n",
        "df.info()\n",
        "df.describe()\n",
        "df.corr()\n",
        "df.hist()\n",
        "df.drop()\n",
        "df.drop_duplicates()\n",
        "df.dropna()\n",
        "df.to_excel()\n",
        "df.isna()\n",
        "df.plot()"
      ],
      "execution_count": null,
      "outputs": []
    }
  ]
}