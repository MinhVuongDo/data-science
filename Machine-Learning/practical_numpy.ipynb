{
  "nbformat": 4,
  "nbformat_minor": 0,
  "metadata": {
    "colab": {
      "name": "practical-numpy.ipynb",
      "provenance": [],
      "collapsed_sections": []
    },
    "kernelspec": {
      "name": "python3",
      "display_name": "Python 3"
    },
    "language_info": {
      "name": "python"
    }
  },
  "cells": [
    {
      "cell_type": "code",
      "metadata": {
        "id": "ocV-3ms-sETn"
      },
      "source": [
        "import numpy as np"
      ],
      "execution_count": 1,
      "outputs": []
    },
    {
      "cell_type": "code",
      "metadata": {
        "colab": {
          "base_uri": "https://localhost:8080/"
        },
        "id": "rWjRkqAZuOco",
        "outputId": "27f3eff2-ccb7-4b43-a029-afe59db3dd70"
      },
      "source": [
        "arr = np.array([[1,2,3],\n",
        "                [4,5,6]])\n",
        "arr.dtype\n",
        "arr.astype(np.float32)"
      ],
      "execution_count": 2,
      "outputs": [
        {
          "output_type": "execute_result",
          "data": {
            "text/plain": [
              "array([[1., 2., 3.],\n",
              "       [4., 5., 6.]], dtype=float32)"
            ]
          },
          "metadata": {
            "tags": []
          },
          "execution_count": 2
        }
      ]
    },
    {
      "cell_type": "code",
      "metadata": {
        "colab": {
          "base_uri": "https://localhost:8080/"
        },
        "id": "-Yy105RjvX5i",
        "outputId": "ab6348d1-6d16-4d27-db65-b12e73f7eb4a"
      },
      "source": [
        "zeros_arr = np.zeros((5,5))\n",
        "zeros_arr"
      ],
      "execution_count": 3,
      "outputs": [
        {
          "output_type": "execute_result",
          "data": {
            "text/plain": [
              "array([[0., 0., 0., 0., 0.],\n",
              "       [0., 0., 0., 0., 0.],\n",
              "       [0., 0., 0., 0., 0.],\n",
              "       [0., 0., 0., 0., 0.],\n",
              "       [0., 0., 0., 0., 0.]])"
            ]
          },
          "metadata": {
            "tags": []
          },
          "execution_count": 3
        }
      ]
    },
    {
      "cell_type": "code",
      "metadata": {
        "colab": {
          "base_uri": "https://localhost:8080/"
        },
        "id": "HC7P1dVLvkXI",
        "outputId": "a5b7af90-0624-4d6a-dc03-e3ca173fdd93"
      },
      "source": [
        "ones_arr = np.ones((5,5))\n",
        "ones_arr"
      ],
      "execution_count": 4,
      "outputs": [
        {
          "output_type": "execute_result",
          "data": {
            "text/plain": [
              "array([[1., 1., 1., 1., 1.],\n",
              "       [1., 1., 1., 1., 1.],\n",
              "       [1., 1., 1., 1., 1.],\n",
              "       [1., 1., 1., 1., 1.],\n",
              "       [1., 1., 1., 1., 1.]])"
            ]
          },
          "metadata": {
            "tags": []
          },
          "execution_count": 4
        }
      ]
    },
    {
      "cell_type": "code",
      "metadata": {
        "colab": {
          "base_uri": "https://localhost:8080/"
        },
        "id": "IuVORvYAwQKL",
        "outputId": "96dba7ea-8b0f-4459-9512-4a425be54442"
      },
      "source": [
        "arr = np.arange(0,99)\n",
        "arr"
      ],
      "execution_count": 5,
      "outputs": [
        {
          "output_type": "execute_result",
          "data": {
            "text/plain": [
              "array([ 0,  1,  2,  3,  4,  5,  6,  7,  8,  9, 10, 11, 12, 13, 14, 15, 16,\n",
              "       17, 18, 19, 20, 21, 22, 23, 24, 25, 26, 27, 28, 29, 30, 31, 32, 33,\n",
              "       34, 35, 36, 37, 38, 39, 40, 41, 42, 43, 44, 45, 46, 47, 48, 49, 50,\n",
              "       51, 52, 53, 54, 55, 56, 57, 58, 59, 60, 61, 62, 63, 64, 65, 66, 67,\n",
              "       68, 69, 70, 71, 72, 73, 74, 75, 76, 77, 78, 79, 80, 81, 82, 83, 84,\n",
              "       85, 86, 87, 88, 89, 90, 91, 92, 93, 94, 95, 96, 97, 98])"
            ]
          },
          "metadata": {
            "tags": []
          },
          "execution_count": 5
        }
      ]
    },
    {
      "cell_type": "code",
      "metadata": {
        "colab": {
          "base_uri": "https://localhost:8080/"
        },
        "id": "ZJGsveePwXUs",
        "outputId": "6917fbc6-95a8-4f6c-9aa4-39cdc0f540cd"
      },
      "source": [
        "arr = np.arange(0,99,2)\n",
        "arr"
      ],
      "execution_count": 6,
      "outputs": [
        {
          "output_type": "execute_result",
          "data": {
            "text/plain": [
              "array([ 0,  2,  4,  6,  8, 10, 12, 14, 16, 18, 20, 22, 24, 26, 28, 30, 32,\n",
              "       34, 36, 38, 40, 42, 44, 46, 48, 50, 52, 54, 56, 58, 60, 62, 64, 66,\n",
              "       68, 70, 72, 74, 76, 78, 80, 82, 84, 86, 88, 90, 92, 94, 96, 98])"
            ]
          },
          "metadata": {
            "tags": []
          },
          "execution_count": 6
        }
      ]
    },
    {
      "cell_type": "code",
      "metadata": {
        "colab": {
          "base_uri": "https://localhost:8080/"
        },
        "id": "fLZbP_VuwwU8",
        "outputId": "d1035ae3-aebd-431c-8af6-f5c40e87d575"
      },
      "source": [
        "arr = np.arange(0,100).reshape((10,10))\n",
        "arr"
      ],
      "execution_count": 7,
      "outputs": [
        {
          "output_type": "execute_result",
          "data": {
            "text/plain": [
              "array([[ 0,  1,  2,  3,  4,  5,  6,  7,  8,  9],\n",
              "       [10, 11, 12, 13, 14, 15, 16, 17, 18, 19],\n",
              "       [20, 21, 22, 23, 24, 25, 26, 27, 28, 29],\n",
              "       [30, 31, 32, 33, 34, 35, 36, 37, 38, 39],\n",
              "       [40, 41, 42, 43, 44, 45, 46, 47, 48, 49],\n",
              "       [50, 51, 52, 53, 54, 55, 56, 57, 58, 59],\n",
              "       [60, 61, 62, 63, 64, 65, 66, 67, 68, 69],\n",
              "       [70, 71, 72, 73, 74, 75, 76, 77, 78, 79],\n",
              "       [80, 81, 82, 83, 84, 85, 86, 87, 88, 89],\n",
              "       [90, 91, 92, 93, 94, 95, 96, 97, 98, 99]])"
            ]
          },
          "metadata": {
            "tags": []
          },
          "execution_count": 7
        }
      ]
    },
    {
      "cell_type": "code",
      "metadata": {
        "colab": {
          "base_uri": "https://localhost:8080/"
        },
        "id": "Od0CpuMVxB4c",
        "outputId": "b266a2e9-ac20-4096-8772-db802a97828a"
      },
      "source": [
        "eye_arr = np.eye(10,10)\n",
        "eye_arr"
      ],
      "execution_count": 8,
      "outputs": [
        {
          "output_type": "execute_result",
          "data": {
            "text/plain": [
              "array([[1., 0., 0., 0., 0., 0., 0., 0., 0., 0.],\n",
              "       [0., 1., 0., 0., 0., 0., 0., 0., 0., 0.],\n",
              "       [0., 0., 1., 0., 0., 0., 0., 0., 0., 0.],\n",
              "       [0., 0., 0., 1., 0., 0., 0., 0., 0., 0.],\n",
              "       [0., 0., 0., 0., 1., 0., 0., 0., 0., 0.],\n",
              "       [0., 0., 0., 0., 0., 1., 0., 0., 0., 0.],\n",
              "       [0., 0., 0., 0., 0., 0., 1., 0., 0., 0.],\n",
              "       [0., 0., 0., 0., 0., 0., 0., 1., 0., 0.],\n",
              "       [0., 0., 0., 0., 0., 0., 0., 0., 1., 0.],\n",
              "       [0., 0., 0., 0., 0., 0., 0., 0., 0., 1.]])"
            ]
          },
          "metadata": {
            "tags": []
          },
          "execution_count": 8
        }
      ]
    },
    {
      "cell_type": "markdown",
      "metadata": {
        "id": "JVq6D2FD1PxK"
      },
      "source": [
        "## Create Random  Array"
      ]
    },
    {
      "cell_type": "code",
      "metadata": {
        "colab": {
          "base_uri": "https://localhost:8080/"
        },
        "id": "9OMq4nicxOpD",
        "outputId": "6fe0b128-99ed-4418-9c53-87bccf149200"
      },
      "source": [
        "arr = np.random.randn(5,5)\n",
        "arr"
      ],
      "execution_count": 9,
      "outputs": [
        {
          "output_type": "execute_result",
          "data": {
            "text/plain": [
              "array([[ 0.47646601,  1.90226679, -0.47313931, -0.21045941,  0.5571158 ],\n",
              "       [-0.48810677, -2.05340141,  0.5753781 ,  0.27662657,  0.07125215],\n",
              "       [-0.10682424, -2.16087219, -0.12709794,  0.81658322,  0.4656924 ],\n",
              "       [ 0.0967734 ,  0.95678392,  1.07747647,  0.21527322,  0.76472994],\n",
              "       [ 0.37087202, -0.16456942,  1.64406207, -1.09699924, -0.31350598]])"
            ]
          },
          "metadata": {
            "tags": []
          },
          "execution_count": 9
        }
      ]
    },
    {
      "cell_type": "code",
      "metadata": {
        "colab": {
          "base_uri": "https://localhost:8080/"
        },
        "id": "sVeNY4xH1_eQ",
        "outputId": "b9115a2f-db05-4844-84ee-179a70db3dd9"
      },
      "source": [
        "arr_gauss = np.random.normal(loc=0.0, scale=1, size = (5,5))\n",
        "arr_gauss"
      ],
      "execution_count": 10,
      "outputs": [
        {
          "output_type": "execute_result",
          "data": {
            "text/plain": [
              "array([[ 0.67285292, -1.21751798, -0.41384873,  0.65290101,  0.80714097],\n",
              "       [-0.01235664,  0.15828052,  0.05796977, -0.08441754,  0.14766046],\n",
              "       [ 1.27936073,  0.98252492,  0.40998268,  0.42755181, -0.00887737],\n",
              "       [ 0.11381309, -0.79933821, -1.49143107,  0.13359502,  0.06026706],\n",
              "       [-0.64262725, -1.43537312,  0.13506455, -1.21109103,  1.14088083]])"
            ]
          },
          "metadata": {
            "tags": []
          },
          "execution_count": 10
        }
      ]
    },
    {
      "cell_type": "code",
      "metadata": {
        "colab": {
          "base_uri": "https://localhost:8080/"
        },
        "id": "oJVm7kgu2zDx",
        "outputId": "ffaab55a-9443-4363-d971-2cf9271b8f1b"
      },
      "source": [
        "arr_uniform = np.random.uniform(low=-3,high=3, size = (5,5))\n",
        "arr_uniform"
      ],
      "execution_count": 11,
      "outputs": [
        {
          "output_type": "execute_result",
          "data": {
            "text/plain": [
              "array([[-1.64333205,  1.45614031,  0.12588218,  0.69137069, -1.51791405],\n",
              "       [-2.77776739,  2.96361724,  0.12431975, -1.6672629 , -1.11638234],\n",
              "       [ 1.20257961, -1.63711486, -0.46187189, -1.41730519,  0.13198546],\n",
              "       [ 2.19253444,  2.92397594, -1.06300518,  0.53059122,  2.60194764],\n",
              "       [ 1.85731154, -2.77797332, -1.78482879,  1.41426211,  1.35884937]])"
            ]
          },
          "metadata": {
            "tags": []
          },
          "execution_count": 11
        }
      ]
    },
    {
      "cell_type": "code",
      "metadata": {
        "colab": {
          "base_uri": "https://localhost:8080/"
        },
        "id": "gS0JysnH3Dqk",
        "outputId": "0f448d10-9cab-47d5-e776-8080fdbe48e5"
      },
      "source": [
        "arr_int = np.random.randint(low = -3, high=3, size = (4,4))\n",
        "arr_int"
      ],
      "execution_count": 12,
      "outputs": [
        {
          "output_type": "execute_result",
          "data": {
            "text/plain": [
              "array([[-2,  1,  1,  1],\n",
              "       [-1,  2, -1,  1],\n",
              "       [ 2,  0,  0,  2],\n",
              "       [ 0, -2,  0,  1]])"
            ]
          },
          "metadata": {
            "tags": []
          },
          "execution_count": 12
        }
      ]
    },
    {
      "cell_type": "markdown",
      "metadata": {
        "id": "_Cb5tPmE3XDc"
      },
      "source": [
        "# Read, load and save numpy file\n"
      ]
    },
    {
      "cell_type": "code",
      "metadata": {
        "id": "YQFHUuQu3Srb",
        "colab": {
          "base_uri": "https://localhost:8080/"
        },
        "outputId": "816d959a-5464-4177-ec51-57b42ebb65bf"
      },
      "source": [
        "np.save('./arr.npy',arr)\n",
        "np.savetxt('arr.txt ', arr)\n",
        "np.load('./arr.npy')"
      ],
      "execution_count": 17,
      "outputs": [
        {
          "output_type": "execute_result",
          "data": {
            "text/plain": [
              "array([[ 0.47646601,  1.90226679, -0.47313931, -0.21045941,  0.5571158 ],\n",
              "       [-0.48810677, -2.05340141,  0.5753781 ,  0.27662657,  0.07125215],\n",
              "       [-0.10682424, -2.16087219, -0.12709794,  0.81658322,  0.4656924 ],\n",
              "       [ 0.0967734 ,  0.95678392,  1.07747647,  0.21527322,  0.76472994],\n",
              "       [ 0.37087202, -0.16456942,  1.64406207, -1.09699924, -0.31350598]])"
            ]
          },
          "metadata": {
            "tags": []
          },
          "execution_count": 17
        }
      ]
    },
    {
      "cell_type": "markdown",
      "metadata": {
        "id": "HR92tiW1FB6A"
      },
      "source": [
        "# Frobenious Norm\n"
      ]
    },
    {
      "cell_type": "code",
      "metadata": {
        "id": "T00TG1UE-XsG",
        "colab": {
          "base_uri": "https://localhost:8080/"
        },
        "outputId": "3100866d-8e26-4d8b-fc03-7eece83f6420"
      },
      "source": [
        "A = np.array([[1, 4, 2],\n",
        "              [3, 2, 1],\n",
        "              [4, 6, 7]])\n",
        "np.linalg.norm(A, ord='fro')"
      ],
      "execution_count": 18,
      "outputs": [
        {
          "output_type": "execute_result",
          "data": {
            "text/plain": [
              "11.661903789690601"
            ]
          },
          "metadata": {
            "tags": []
          },
          "execution_count": 18
        }
      ]
    },
    {
      "cell_type": "code",
      "metadata": {
        "id": "rYNB0sYu5oUO"
      },
      "source": [
        "A = np.array([[1, 4, 2],\n",
        "              [3, 2, 1],\n",
        "              [4, 6, 7]])\n",
        "\n",
        "B = np.array([[0, 3, 4],\n",
        "              [3, 4, 2],\n",
        "              [4, 6, 8]])\n",
        "\n",
        "#add matrix\n",
        "Sum = A+B\n",
        "# multi matrix\n",
        "Mul = A.dot(B)\n",
        "#element-wise product\n",
        "EWS = A*B\n",
        "#trace\n",
        "A_trace = np.trace(A)\n",
        "#determinant\n",
        "det_A =np.linalg.det(A)\n",
        "#rank\n",
        "rank = np.linalg.matrix_rank(A)\n",
        "#pseudo-inverse of a matrix\n",
        "A_inv = np.linalg.pinv(A)\n",
        "#Transpose matrix\n",
        "AT = A.T\n"
      ],
      "execution_count": 24,
      "outputs": []
    },
    {
      "cell_type": "markdown",
      "metadata": {
        "id": "FGCNSUFPJY3O"
      },
      "source": [
        "# Concatenate và Stack"
      ]
    },
    {
      "cell_type": "code",
      "metadata": {
        "id": "pnTKwCO9JX7g"
      },
      "source": [
        "A = np.random.randint(0, 255, size=(28, 28, 3))\n",
        "B = np.random.randint(0, 255, size=(28, 28, 3))\n",
        "\n",
        "AB = np.concatenate((A, B), axis=1)\n",
        "np.stack([A, B])\n",
        "np.vstack([A, B])\n",
        "np.hstack([A, B])\n",
        "B = np.expand_dims(B, axis=-1)"
      ],
      "execution_count": 25,
      "outputs": []
    },
    {
      "cell_type": "markdown",
      "metadata": {
        "id": "q_hakrzNJ-Qg"
      },
      "source": [
        "# min, max, mean, sum, argmax, argmin"
      ]
    },
    {
      "cell_type": "code",
      "metadata": {
        "id": "pJeJbtoZJ9b7"
      },
      "source": [
        "arr = np.random.randn(5,5)\n",
        "min = np.min(arr,axis = 0)\n",
        "max = np.max(arr, axis = 1)\n",
        "mean = np.mean(arr,axis=0)\n",
        "sum = np.sum(arr,axis = 1)\n",
        "argmax = np.argmax(arr,axis = 1)\n",
        "argmin = np.argmax(arr, axis =0)\n"
      ],
      "execution_count": 29,
      "outputs": []
    },
    {
      "cell_type": "code",
      "metadata": {
        "id": "3MU0k7OCNTm5"
      },
      "source": [
        "def relu(x):\n",
        "  out=x.copy()\n",
        "  out[out<0] = 0\n",
        "  return out\n",
        "  \n",
        "def sigmoid(X):\n",
        "  out = 1/(1+np.exp(-X))\n",
        "  return out\n",
        "def tanh(X):\n",
        "  out = (np.exp(X)-np.exp(-X))/(np.exp(X)+np.exp(-X))\n",
        "  return out\n",
        "def softmax(X):\n",
        "  E = np.exp(X)\n",
        "  P = E/np.sum(E)\n",
        "  out = np.sum(P,axis = 1,keepdims=True)\n",
        "  return out\n",
        "def softmax_(x):\n",
        "    max_x = np.exp(x-np.max(x, axis=1, keepdims=True))\n",
        "    probs = max_x/np.sum(max_x,axis =1,keepdims=True)\n",
        "    return probs \n"
      ],
      "execution_count": 71,
      "outputs": []
    },
    {
      "cell_type": "code",
      "metadata": {
        "id": "K21j9uPu_UY8"
      },
      "source": [
        "X = np.array([[-2,-9,0,2],[1,2,3,4],[4,3,3,1],[6,6,9,9]])"
      ],
      "execution_count": 73,
      "outputs": []
    },
    {
      "cell_type": "code",
      "metadata": {
        "colab": {
          "base_uri": "https://localhost:8080/"
        },
        "id": "-2QEQzLe_m3u",
        "outputId": "82b15e1a-e26f-4425-f873-9787d6027de6"
      },
      "source": [
        "softmax_(X)"
      ],
      "execution_count": 77,
      "outputs": [
        {
          "output_type": "execute_result",
          "data": {
            "text/plain": [
              "array([[1.58760101e-02, 1.44770473e-05, 1.17308730e-01, 8.66800783e-01],\n",
              "       [3.20586033e-02, 8.71443187e-02, 2.36882818e-01, 6.43914260e-01],\n",
              "       [5.60052795e-01, 2.06031909e-01, 2.06031909e-01, 2.78833868e-02],\n",
              "       [2.37129366e-02, 2.37129366e-02, 4.76287063e-01, 4.76287063e-01]])"
            ]
          },
          "metadata": {
            "tags": []
          },
          "execution_count": 77
        }
      ]
    },
    {
      "cell_type": "code",
      "metadata": {
        "colab": {
          "base_uri": "https://localhost:8080/"
        },
        "id": "ovz60ij3GWmP",
        "outputId": "86cbfcab-fff2-4518-c69b-ac759ad05306"
      },
      "source": [
        "sigmoid(X).max(axis=1)"
      ],
      "execution_count": 91,
      "outputs": [
        {
          "output_type": "execute_result",
          "data": {
            "text/plain": [
              "array([0.88079708, 0.98201379, 0.98201379, 0.99987661])"
            ]
          },
          "metadata": {
            "tags": []
          },
          "execution_count": 91
        }
      ]
    },
    {
      "cell_type": "code",
      "metadata": {
        "colab": {
          "base_uri": "https://localhost:8080/"
        },
        "id": "oJuC1ENtDSs4",
        "outputId": "6e19424e-bea4-4a8f-b389-cf4528f757b5"
      },
      "source": [
        "tanh(X).max(axis=1)"
      ],
      "execution_count": 92,
      "outputs": [
        {
          "output_type": "execute_result",
          "data": {
            "text/plain": [
              "array([0.96402758, 0.9993293 , 0.9993293 , 0.99999997])"
            ]
          },
          "metadata": {
            "tags": []
          },
          "execution_count": 92
        }
      ]
    },
    {
      "cell_type": "code",
      "metadata": {
        "colab": {
          "base_uri": "https://localhost:8080/"
        },
        "id": "FFIZnoF6E7ba",
        "outputId": "bc3bbe2c-6731-4cc5-c288-81f1c64ccd98"
      },
      "source": [
        "relu(X)"
      ],
      "execution_count": 93,
      "outputs": [
        {
          "output_type": "execute_result",
          "data": {
            "text/plain": [
              "array([[0, 0, 0, 2],\n",
              "       [1, 2, 3, 4],\n",
              "       [4, 3, 3, 1],\n",
              "       [6, 6, 9, 9]])"
            ]
          },
          "metadata": {
            "tags": []
          },
          "execution_count": 93
        }
      ]
    }
  ]
}